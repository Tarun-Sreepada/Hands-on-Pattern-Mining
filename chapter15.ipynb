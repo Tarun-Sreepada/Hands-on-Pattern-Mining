{
 "cells": [
  {
   "metadata": {},
   "cell_type": "markdown",
   "source": "# Chapter 15:  Knowledge Discovery in Uncertain Databases",
   "id": "e9db9b872f27c70b"
  },
  {
   "metadata": {
    "ExecuteTime": {
     "end_time": "2025-06-17T08:35:45.985667Z",
     "start_time": "2025-06-17T08:35:43.883478Z"
    }
   },
   "cell_type": "code",
   "source": [
    "from PAMI.extras.syntheticDataGenerator import UncertainTransactionalDatabase as db\n",
    "\n",
    "obj = db.UncertainTransactionalDatabase(\n",
    "databaseSize=100000,\n",
    "avgItemsPerTransaction=10,\n",
    "numItems=1000,\n",
    "sep='\\t'\n",
    ")\n",
    "obj.create()\n",
    "obj.save('uncertainTDB.csv')\n",
    "#readthegeneratedtransactionsintoadataframe\n",
    "transactionalDataFrame=obj.getTransactions()\n",
    "#stats\n",
    "print('Runtime:' + str(obj.getRuntime()))\n",
    "print('Memory (RSS):' + str(obj.getMemoryRSS()))\n",
    "print('Memory (USS):' + str(obj.getMemoryUSS()))"
   ],
   "id": "794e188ab8e46bce",
   "outputs": [
    {
     "name": "stdout",
     "output_type": "stream",
     "text": [
      "Runtime:1.8344180583953857\n",
      "Memory (RSS):132005888\n",
      "Memory (USS):108625920\n"
     ]
    }
   ],
   "execution_count": 1
  },
  {
   "metadata": {
    "ExecuteTime": {
     "end_time": "2025-06-17T08:22:46.048639Z",
     "start_time": "2025-06-17T08:22:46.028210Z"
    }
   },
   "cell_type": "code",
   "source": [
    "from PAMI.extras.convert import DF2DB as alg\n",
    "import pandas as pd\n",
    "import numpy as np\n",
    "\n",
    "# Create a 100x4 DataFrame with random float values in [0, 1)\n",
    "data = np.random.uniform(0, 1, size=(100, 4))\n",
    "dataFrame = pd.DataFrame(data, columns=['Item1', 'Item2', 'Item3', 'Item4'])\n",
    "\n",
    "# Convert the DataFrame to an uncertain transactional database\n",
    "# using a threshold: keep values >= 0.6\n",
    "obj = alg.DF2DB(dataFrame)\n",
    "obj.convert2UncertainTransactionalDatabase(\n",
    "    oFile='UTDB.csv',\n",
    "    condition='>=',\n",
    "    thresholdValue=0.6\n",
    ")\n",
    "\n",
    "# Print runtime and memory usage statistics\n",
    "print('Runtime:      ', obj.getRuntime())\n",
    "print('Memory (RSS):', obj.getMemoryRSS())\n",
    "print('Memory (USS):', obj.getMemoryUSS())\n"
   ],
   "id": "266e79839586665c",
   "outputs": [
    {
     "name": "stdout",
     "output_type": "stream",
     "text": [
      "Runtime:       0.0\n",
      "Memory (RSS): 0.0\n",
      "Memory (USS): 0.0\n"
     ]
    }
   ],
   "execution_count": 2
  },
  {
   "metadata": {
    "ExecuteTime": {
     "end_time": "2025-06-17T08:36:23.058323Z",
     "start_time": "2025-06-17T08:36:15.085550Z"
    }
   },
   "cell_type": "code",
   "source": [
    "from PAMI.extras.dbStats import \\\n",
    "UncertainTransactionalDatabase as stat\n",
    "#Loadtheuncertaintransactionaldatabase\n",
    "obj = stat.UncertainTransactionalDatabase(\"uncertainTDB.csv\")\n",
    "#Runthestatisticsgeneration\n",
    "obj.run()\n",
    "#Printthecalculatedstatistics\n",
    "obj.printStats()\n",
    "#Plotgraphicalrepresentationsofthestatistics\n",
    "obj.plotGraphs()"
   ],
   "id": "8b7c73972d8b1923",
   "outputs": [
    {
     "name": "stdout",
     "output_type": "stream",
     "text": [
      "Database size (total no of transactions) : 100000\n",
      "Number of items : 1000\n",
      "Minimum Transaction Size : 1\n",
      "Average Transaction Size : 10.01164\n",
      "Maximum Transaction Size : 28\n",
      "Standard Deviation Transaction Size : 3.1718834326626824\n",
      "Variance in Transaction Sizes : 10.060945119851198\n"
     ]
    }
   ],
   "execution_count": null
  },
  {
   "metadata": {
    "ExecuteTime": {
     "end_time": "2025-06-17T08:36:01.891371Z",
     "start_time": "2025-06-17T08:35:51.759721Z"
    }
   },
   "cell_type": "code",
   "source": [
    "import PAMI.uncertainFrequentPattern.basic.TubeP as alg\n",
    "\n",
    "# Input file and minimum support count for frequent pattern mining\n",
    "inputFile = 'uncertainTDB.csv'\n",
    "minSupport = 100\n",
    "\n",
    "# Create an instance of the TubeP algorithm\n",
    "obj = alg.TubeP(iFile=inputFile, minSup=minSupport, sep='\\t')\n",
    "\n",
    "# Mine frequent patterns\n",
    "obj.startMine()\n",
    "\n",
    "# Save the discovered frequent patterns to a file\n",
    "obj.save('frequentPatterns.txt')\n",
    "\n",
    "# Convert the frequent patterns into a DataFrame\n",
    "frequentPatternsDF = obj.getPatternsAsDataFrame()\n",
    "\n",
    "# Display the number of frequent patterns and resource usage\n",
    "print('#Patterns: ' + str(len(frequentPatternsDF)))\n",
    "print('Runtime:   ' + str(obj.getRuntime()))\n"
   ],
   "id": "1775d50bcb12fb41",
   "outputs": [
    {
     "name": "stdout",
     "output_type": "stream",
     "text": [
      "Uncertain Frequent patterns were generated successfully using TubeP algorithm\n",
      "#Patterns: 1000\n",
      "Runtime:   9.753803968429565\n"
     ]
    }
   ],
   "execution_count": 2
  },
  {
   "metadata": {},
   "cell_type": "code",
   "outputs": [],
   "execution_count": null,
   "source": "",
   "id": "83aab485a695b70a"
  }
 ],
 "metadata": {
  "kernelspec": {
   "display_name": "Python 3",
   "language": "python",
   "name": "python3"
  },
  "language_info": {
   "codemirror_mode": {
    "name": "ipython",
    "version": 2
   },
   "file_extension": ".py",
   "mimetype": "text/x-python",
   "name": "python",
   "nbconvert_exporter": "python",
   "pygments_lexer": "ipython2",
   "version": "2.7.6"
  }
 },
 "nbformat": 4,
 "nbformat_minor": 5
}
