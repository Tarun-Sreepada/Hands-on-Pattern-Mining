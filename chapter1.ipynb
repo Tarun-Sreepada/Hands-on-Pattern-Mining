{
  "cells": [
    {
      "cell_type": "markdown",
      "metadata": {
        "id": "view-in-github",
        "colab_type": "text"
      },
      "source": [
        "<a href=\"https://colab.research.google.com/github/UdayLab/Hands-on-Pattern-Mining/blob/main/chapter1.ipynb\" target=\"_parent\"><img src=\"https://colab.research.google.com/assets/colab-badge.svg\" alt=\"Open In Colab\"/></a>"
      ]
    },
    {
      "cell_type": "markdown",
      "source": [
        "# **Chapter 1: Getting Started with PAMI: Introduction, Maintenance, and Usage**"
      ],
      "metadata": {
        "id": "4blo6fDel7oT"
      },
      "id": "4blo6fDel7oT"
    },
    {
      "cell_type": "markdown",
      "source": [
        "## Installing PAMI Package"
      ],
      "metadata": {
        "id": "CweFy5WYq8A4"
      },
      "id": "CweFy5WYq8A4"
    },
    {
      "cell_type": "code",
      "source": [
        "!pip install PAMI"
      ],
      "metadata": {
        "colab": {
          "base_uri": "https://localhost:8080/"
        },
        "id": "Go4q-dMerC1S",
        "outputId": "aaf07e91-666d-4cf7-9a59-0f0bc785c0e7"
      },
      "id": "Go4q-dMerC1S",
      "execution_count": 1,
      "outputs": [
        {
          "output_type": "stream",
          "name": "stdout",
          "text": [
            "Collecting PAMI\n",
            "  Downloading pami-2024.12.6.1-py3-none-any.whl.metadata (80 kB)\n",
            "\u001b[?25l     \u001b[90m━━━━━━━━━━━━━━━━━━━━━━━━━━━━━━━━━━━━━━━━\u001b[0m \u001b[32m0.0/80.3 kB\u001b[0m \u001b[31m?\u001b[0m eta \u001b[36m-:--:--\u001b[0m\r\u001b[2K     \u001b[90m━━━━━━━━━━━━━━━━━━━━━━━━━━━━━━━━━━━━━━━━\u001b[0m \u001b[32m80.3/80.3 kB\u001b[0m \u001b[31m3.8 MB/s\u001b[0m eta \u001b[36m0:00:00\u001b[0m\n",
            "\u001b[?25hRequirement already satisfied: psutil in /usr/local/lib/python3.10/dist-packages (from PAMI) (5.9.5)\n",
            "Requirement already satisfied: pandas in /usr/local/lib/python3.10/dist-packages (from PAMI) (2.2.2)\n",
            "Requirement already satisfied: plotly in /usr/local/lib/python3.10/dist-packages (from PAMI) (5.24.1)\n",
            "Requirement already satisfied: matplotlib in /usr/local/lib/python3.10/dist-packages (from PAMI) (3.8.0)\n",
            "Collecting resource (from PAMI)\n",
            "  Downloading Resource-0.2.1-py2.py3-none-any.whl.metadata (478 bytes)\n",
            "Collecting validators (from PAMI)\n",
            "  Downloading validators-0.34.0-py3-none-any.whl.metadata (3.8 kB)\n",
            "Requirement already satisfied: urllib3 in /usr/local/lib/python3.10/dist-packages (from PAMI) (2.2.3)\n",
            "Requirement already satisfied: Pillow in /usr/local/lib/python3.10/dist-packages (from PAMI) (11.0.0)\n",
            "Requirement already satisfied: numpy in /usr/local/lib/python3.10/dist-packages (from PAMI) (1.26.4)\n",
            "Requirement already satisfied: sphinx in /usr/local/lib/python3.10/dist-packages (from PAMI) (8.1.3)\n",
            "Collecting sphinx-rtd-theme (from PAMI)\n",
            "  Downloading sphinx_rtd_theme-3.0.2-py2.py3-none-any.whl.metadata (4.4 kB)\n",
            "Collecting discord.py (from PAMI)\n",
            "  Downloading discord.py-2.4.0-py3-none-any.whl.metadata (6.9 kB)\n",
            "Requirement already satisfied: networkx in /usr/local/lib/python3.10/dist-packages (from PAMI) (3.4.2)\n",
            "Requirement already satisfied: deprecated in /usr/local/lib/python3.10/dist-packages (from PAMI) (1.2.15)\n",
            "Collecting fastparquet (from PAMI)\n",
            "  Downloading fastparquet-2024.11.0-cp310-cp310-manylinux_2_17_x86_64.manylinux2014_x86_64.whl.metadata (4.2 kB)\n",
            "Requirement already satisfied: wrapt<2,>=1.10 in /usr/local/lib/python3.10/dist-packages (from deprecated->PAMI) (1.17.0)\n",
            "Requirement already satisfied: aiohttp<4,>=3.7.4 in /usr/local/lib/python3.10/dist-packages (from discord.py->PAMI) (3.11.9)\n",
            "Collecting cramjam>=2.3 (from fastparquet->PAMI)\n",
            "  Downloading cramjam-2.9.0-cp310-cp310-manylinux_2_17_x86_64.manylinux2014_x86_64.whl.metadata (4.9 kB)\n",
            "Requirement already satisfied: fsspec in /usr/local/lib/python3.10/dist-packages (from fastparquet->PAMI) (2024.10.0)\n",
            "Requirement already satisfied: packaging in /usr/local/lib/python3.10/dist-packages (from fastparquet->PAMI) (24.2)\n",
            "Requirement already satisfied: python-dateutil>=2.8.2 in /usr/local/lib/python3.10/dist-packages (from pandas->PAMI) (2.8.2)\n",
            "Requirement already satisfied: pytz>=2020.1 in /usr/local/lib/python3.10/dist-packages (from pandas->PAMI) (2024.2)\n",
            "Requirement already satisfied: tzdata>=2022.7 in /usr/local/lib/python3.10/dist-packages (from pandas->PAMI) (2024.2)\n",
            "Requirement already satisfied: contourpy>=1.0.1 in /usr/local/lib/python3.10/dist-packages (from matplotlib->PAMI) (1.3.1)\n",
            "Requirement already satisfied: cycler>=0.10 in /usr/local/lib/python3.10/dist-packages (from matplotlib->PAMI) (0.12.1)\n",
            "Requirement already satisfied: fonttools>=4.22.0 in /usr/local/lib/python3.10/dist-packages (from matplotlib->PAMI) (4.55.1)\n",
            "Requirement already satisfied: kiwisolver>=1.0.1 in /usr/local/lib/python3.10/dist-packages (from matplotlib->PAMI) (1.4.7)\n",
            "Requirement already satisfied: pyparsing>=2.3.1 in /usr/local/lib/python3.10/dist-packages (from matplotlib->PAMI) (3.2.0)\n",
            "Requirement already satisfied: tenacity>=6.2.0 in /usr/local/lib/python3.10/dist-packages (from plotly->PAMI) (9.0.0)\n",
            "Collecting JsonForm>=0.0.2 (from resource->PAMI)\n",
            "  Downloading JsonForm-0.0.2.tar.gz (2.4 kB)\n",
            "  Preparing metadata (setup.py) ... \u001b[?25l\u001b[?25hdone\n",
            "Collecting JsonSir>=0.0.2 (from resource->PAMI)\n",
            "  Downloading JsonSir-0.0.2.tar.gz (2.2 kB)\n",
            "  Preparing metadata (setup.py) ... \u001b[?25l\u001b[?25hdone\n",
            "Collecting python-easyconfig>=0.1.0 (from resource->PAMI)\n",
            "  Downloading Python_EasyConfig-0.1.7-py2.py3-none-any.whl.metadata (462 bytes)\n",
            "Requirement already satisfied: sphinxcontrib-applehelp>=1.0.7 in /usr/local/lib/python3.10/dist-packages (from sphinx->PAMI) (2.0.0)\n",
            "Requirement already satisfied: sphinxcontrib-devhelp>=1.0.6 in /usr/local/lib/python3.10/dist-packages (from sphinx->PAMI) (2.0.0)\n",
            "Requirement already satisfied: sphinxcontrib-htmlhelp>=2.0.6 in /usr/local/lib/python3.10/dist-packages (from sphinx->PAMI) (2.1.0)\n",
            "Requirement already satisfied: sphinxcontrib-jsmath>=1.0.1 in /usr/local/lib/python3.10/dist-packages (from sphinx->PAMI) (1.0.1)\n",
            "Requirement already satisfied: sphinxcontrib-qthelp>=1.0.6 in /usr/local/lib/python3.10/dist-packages (from sphinx->PAMI) (2.0.0)\n",
            "Requirement already satisfied: sphinxcontrib-serializinghtml>=1.1.9 in /usr/local/lib/python3.10/dist-packages (from sphinx->PAMI) (2.0.0)\n",
            "Requirement already satisfied: Jinja2>=3.1 in /usr/local/lib/python3.10/dist-packages (from sphinx->PAMI) (3.1.4)\n",
            "Requirement already satisfied: Pygments>=2.17 in /usr/local/lib/python3.10/dist-packages (from sphinx->PAMI) (2.18.0)\n",
            "Requirement already satisfied: docutils<0.22,>=0.20 in /usr/local/lib/python3.10/dist-packages (from sphinx->PAMI) (0.21.2)\n",
            "Requirement already satisfied: snowballstemmer>=2.2 in /usr/local/lib/python3.10/dist-packages (from sphinx->PAMI) (2.2.0)\n",
            "Requirement already satisfied: babel>=2.13 in /usr/local/lib/python3.10/dist-packages (from sphinx->PAMI) (2.16.0)\n",
            "Requirement already satisfied: alabaster>=0.7.14 in /usr/local/lib/python3.10/dist-packages (from sphinx->PAMI) (1.0.0)\n",
            "Requirement already satisfied: imagesize>=1.3 in /usr/local/lib/python3.10/dist-packages (from sphinx->PAMI) (1.4.1)\n",
            "Requirement already satisfied: requests>=2.30.0 in /usr/local/lib/python3.10/dist-packages (from sphinx->PAMI) (2.32.3)\n",
            "Requirement already satisfied: tomli>=2 in /usr/local/lib/python3.10/dist-packages (from sphinx->PAMI) (2.2.1)\n",
            "Collecting sphinxcontrib-jquery<5,>=4 (from sphinx-rtd-theme->PAMI)\n",
            "  Downloading sphinxcontrib_jquery-4.1-py2.py3-none-any.whl.metadata (2.6 kB)\n",
            "Requirement already satisfied: aiohappyeyeballs>=2.3.0 in /usr/local/lib/python3.10/dist-packages (from aiohttp<4,>=3.7.4->discord.py->PAMI) (2.4.4)\n",
            "Requirement already satisfied: aiosignal>=1.1.2 in /usr/local/lib/python3.10/dist-packages (from aiohttp<4,>=3.7.4->discord.py->PAMI) (1.3.1)\n",
            "Requirement already satisfied: async-timeout<6.0,>=4.0 in /usr/local/lib/python3.10/dist-packages (from aiohttp<4,>=3.7.4->discord.py->PAMI) (4.0.3)\n",
            "Requirement already satisfied: attrs>=17.3.0 in /usr/local/lib/python3.10/dist-packages (from aiohttp<4,>=3.7.4->discord.py->PAMI) (24.2.0)\n",
            "Requirement already satisfied: frozenlist>=1.1.1 in /usr/local/lib/python3.10/dist-packages (from aiohttp<4,>=3.7.4->discord.py->PAMI) (1.5.0)\n",
            "Requirement already satisfied: multidict<7.0,>=4.5 in /usr/local/lib/python3.10/dist-packages (from aiohttp<4,>=3.7.4->discord.py->PAMI) (6.1.0)\n",
            "Requirement already satisfied: propcache>=0.2.0 in /usr/local/lib/python3.10/dist-packages (from aiohttp<4,>=3.7.4->discord.py->PAMI) (0.2.1)\n",
            "Requirement already satisfied: yarl<2.0,>=1.17.0 in /usr/local/lib/python3.10/dist-packages (from aiohttp<4,>=3.7.4->discord.py->PAMI) (1.18.3)\n",
            "Requirement already satisfied: MarkupSafe>=2.0 in /usr/local/lib/python3.10/dist-packages (from Jinja2>=3.1->sphinx->PAMI) (3.0.2)\n",
            "Requirement already satisfied: jsonschema in /usr/local/lib/python3.10/dist-packages (from JsonForm>=0.0.2->resource->PAMI) (4.23.0)\n",
            "Requirement already satisfied: six>=1.5 in /usr/local/lib/python3.10/dist-packages (from python-dateutil>=2.8.2->pandas->PAMI) (1.16.0)\n",
            "Requirement already satisfied: PyYAML in /usr/local/lib/python3.10/dist-packages (from python-easyconfig>=0.1.0->resource->PAMI) (6.0.2)\n",
            "Requirement already satisfied: charset-normalizer<4,>=2 in /usr/local/lib/python3.10/dist-packages (from requests>=2.30.0->sphinx->PAMI) (3.4.0)\n",
            "Requirement already satisfied: idna<4,>=2.5 in /usr/local/lib/python3.10/dist-packages (from requests>=2.30.0->sphinx->PAMI) (3.10)\n",
            "Requirement already satisfied: certifi>=2017.4.17 in /usr/local/lib/python3.10/dist-packages (from requests>=2.30.0->sphinx->PAMI) (2024.8.30)\n",
            "Requirement already satisfied: typing-extensions>=4.1.0 in /usr/local/lib/python3.10/dist-packages (from multidict<7.0,>=4.5->aiohttp<4,>=3.7.4->discord.py->PAMI) (4.12.2)\n",
            "Requirement already satisfied: jsonschema-specifications>=2023.03.6 in /usr/local/lib/python3.10/dist-packages (from jsonschema->JsonForm>=0.0.2->resource->PAMI) (2024.10.1)\n",
            "Requirement already satisfied: referencing>=0.28.4 in /usr/local/lib/python3.10/dist-packages (from jsonschema->JsonForm>=0.0.2->resource->PAMI) (0.35.1)\n",
            "Requirement already satisfied: rpds-py>=0.7.1 in /usr/local/lib/python3.10/dist-packages (from jsonschema->JsonForm>=0.0.2->resource->PAMI) (0.22.3)\n",
            "Downloading pami-2024.12.6.1-py3-none-any.whl (1.2 MB)\n",
            "\u001b[2K   \u001b[90m━━━━━━━━━━━━━━━━━━━━━━━━━━━━━━━━━━━━━━━━\u001b[0m \u001b[32m1.2/1.2 MB\u001b[0m \u001b[31m18.2 MB/s\u001b[0m eta \u001b[36m0:00:00\u001b[0m\n",
            "\u001b[?25hDownloading discord.py-2.4.0-py3-none-any.whl (1.1 MB)\n",
            "\u001b[2K   \u001b[90m━━━━━━━━━━━━━━━━━━━━━━━━━━━━━━━━━━━━━━━━\u001b[0m \u001b[32m1.1/1.1 MB\u001b[0m \u001b[31m47.6 MB/s\u001b[0m eta \u001b[36m0:00:00\u001b[0m\n",
            "\u001b[?25hDownloading fastparquet-2024.11.0-cp310-cp310-manylinux_2_17_x86_64.manylinux2014_x86_64.whl (1.7 MB)\n",
            "\u001b[2K   \u001b[90m━━━━━━━━━━━━━━━━━━━━━━━━━━━━━━━━━━━━━━━━\u001b[0m \u001b[32m1.7/1.7 MB\u001b[0m \u001b[31m44.8 MB/s\u001b[0m eta \u001b[36m0:00:00\u001b[0m\n",
            "\u001b[?25hDownloading Resource-0.2.1-py2.py3-none-any.whl (25 kB)\n",
            "Downloading sphinx_rtd_theme-3.0.2-py2.py3-none-any.whl (7.7 MB)\n",
            "\u001b[2K   \u001b[90m━━━━━━━━━━━━━━━━━━━━━━━━━━━━━━━━━━━━━━━━\u001b[0m \u001b[32m7.7/7.7 MB\u001b[0m \u001b[31m83.3 MB/s\u001b[0m eta \u001b[36m0:00:00\u001b[0m\n",
            "\u001b[?25hDownloading validators-0.34.0-py3-none-any.whl (43 kB)\n",
            "\u001b[2K   \u001b[90m━━━━━━━━━━━━━━━━━━━━━━━━━━━━━━━━━━━━━━━━\u001b[0m \u001b[32m43.5/43.5 kB\u001b[0m \u001b[31m2.8 MB/s\u001b[0m eta \u001b[36m0:00:00\u001b[0m\n",
            "\u001b[?25hDownloading cramjam-2.9.0-cp310-cp310-manylinux_2_17_x86_64.manylinux2014_x86_64.whl (2.4 MB)\n",
            "\u001b[2K   \u001b[90m━━━━━━━━━━━━━━━━━━━━━━━━━━━━━━━━━━━━━━━━\u001b[0m \u001b[32m2.4/2.4 MB\u001b[0m \u001b[31m63.0 MB/s\u001b[0m eta \u001b[36m0:00:00\u001b[0m\n",
            "\u001b[?25hDownloading Python_EasyConfig-0.1.7-py2.py3-none-any.whl (5.4 kB)\n",
            "Downloading sphinxcontrib_jquery-4.1-py2.py3-none-any.whl (121 kB)\n",
            "\u001b[2K   \u001b[90m━━━━━━━━━━━━━━━━━━━━━━━━━━━━━━━━━━━━━━━━\u001b[0m \u001b[32m121.1/121.1 kB\u001b[0m \u001b[31m8.2 MB/s\u001b[0m eta \u001b[36m0:00:00\u001b[0m\n",
            "\u001b[?25hBuilding wheels for collected packages: JsonForm, JsonSir\n",
            "  Building wheel for JsonForm (setup.py) ... \u001b[?25l\u001b[?25hdone\n",
            "  Created wheel for JsonForm: filename=JsonForm-0.0.2-py3-none-any.whl size=3311 sha256=8daf9272ccba7d45ae8aba879359639c5810e4cb314edb94a1ea05e1e44f3cdd\n",
            "  Stored in directory: /root/.cache/pip/wheels/b6/e5/87/11026246d3bd4ad67c0615682d2d6748bbd9a40ac0490882bd\n",
            "  Building wheel for JsonSir (setup.py) ... \u001b[?25l\u001b[?25hdone\n",
            "  Created wheel for JsonSir: filename=JsonSir-0.0.2-py3-none-any.whl size=4753 sha256=38508e3db0b17f4442239f712a304cac01ae84443c524f08caa89597060ee560\n",
            "  Stored in directory: /root/.cache/pip/wheels/1d/4c/d3/4d9757425983b43eb709be1043d82cd03fb863ce5f56f117e6\n",
            "Successfully built JsonForm JsonSir\n",
            "Installing collected packages: JsonSir, validators, python-easyconfig, cramjam, sphinxcontrib-jquery, fastparquet, sphinx-rtd-theme, JsonForm, discord.py, resource, PAMI\n",
            "Successfully installed JsonForm-0.0.2 JsonSir-0.0.2 PAMI-2024.12.6.1 cramjam-2.9.0 discord.py-2.4.0 fastparquet-2024.11.0 python-easyconfig-0.1.7 resource-0.2.1 sphinx-rtd-theme-3.0.2 sphinxcontrib-jquery-4.1 validators-0.34.0\n"
          ]
        }
      ]
    },
    {
      "cell_type": "markdown",
      "source": [
        "## Download the dataset"
      ],
      "metadata": {
        "id": "Ov-Jm2tCqWb1"
      },
      "id": "Ov-Jm2tCqWb1"
    },
    {
      "cell_type": "code",
      "source": [
        "!wget -nc https://web-ext.u-aizu.ac.jp/~udayrage/datasets/transactionalDatabases/Transactional_T10I4D100K.csv"
      ],
      "metadata": {
        "colab": {
          "base_uri": "https://localhost:8080/"
        },
        "id": "JHjBouImqVkd",
        "outputId": "ce2e81ec-e19b-4a02-a119-f5a545580eb3"
      },
      "id": "JHjBouImqVkd",
      "execution_count": 2,
      "outputs": [
        {
          "output_type": "stream",
          "name": "stdout",
          "text": [
            "--2024-12-08 13:00:27--  https://web-ext.u-aizu.ac.jp/~udayrage/datasets/transactionalDatabases/Transactional_T10I4D100K.csv\n",
            "Resolving web-ext.u-aizu.ac.jp (web-ext.u-aizu.ac.jp)... 163.143.103.34\n",
            "Connecting to web-ext.u-aizu.ac.jp (web-ext.u-aizu.ac.jp)|163.143.103.34|:443... connected.\n",
            "HTTP request sent, awaiting response... 200 OK\n",
            "Length: 4019277 (3.8M) [text/csv]\n",
            "Saving to: ‘Transactional_T10I4D100K.csv’\n",
            "\n",
            "Transactional_T10I4 100%[===================>]   3.83M  2.93MB/s    in 1.3s    \n",
            "\n",
            "2024-12-08 13:00:29 (2.93 MB/s) - ‘Transactional_T10I4D100K.csv’ saved [4019277/4019277]\n",
            "\n"
          ]
        }
      ]
    },
    {
      "cell_type": "markdown",
      "source": [
        "## Implementing a pattern mining algorithm"
      ],
      "metadata": {
        "id": "NGdpv8_HmNvu"
      },
      "id": "NGdpv8_HmNvu"
    },
    {
      "cell_type": "markdown",
      "source": [
        "### Syntax\n",
        "\n",
        "\n",
        "\n",
        "```python\n",
        "from PAMI.theoreticalModel.patternType import algorithm as alg\n",
        "# Initialization\n",
        "obj = alg.algorithm(inputFile, constraints, sep='\\t')\n",
        "\n",
        "# Mining the patterns\n",
        "obj.mine()\n",
        "\n",
        "# Save the discovered patterns\n",
        "obj.save(outputFileName)\n",
        "\n",
        "# Print the results\n",
        "print('Total number of patterns: ' + \\\n",
        "       str(len(obj.getPatterns())))  \n",
        "print('Runtime: ' + str(obj.getRuntime()))  \n",
        "print('Memory (RSS): ' + str(obj.getMemoryRSS()))\n",
        "print('Memory (USS): ' + str(obj.getMemoryUSS()))\n",
        "```\n",
        "\n"
      ],
      "metadata": {
        "id": "eDOxinPOmXDC"
      },
      "id": "eDOxinPOmXDC"
    },
    {
      "cell_type": "markdown",
      "source": [
        "### Example 1: Executing the Apriori algorithm"
      ],
      "metadata": {
        "id": "kdojLKrbm1Ye"
      },
      "id": "kdojLKrbm1Ye"
    },
    {
      "cell_type": "code",
      "source": [
        "import PAMI.frequentPattern.basic.Apriori as alg\n",
        "\n",
        "# Create an Apriori object\n",
        "obj = alg.Apriori(iFile = 'Transactional_T10I4D100K.csv',\n",
        "    minSup = 500)\n",
        "# Run the mining process\n",
        "obj.mine()\n",
        "# Save the frequent patterns to an output file\n",
        "obj.save(oFile = 'patterns.txt')\n",
        "# Print the results\n",
        "print('Total number of patterns: ' +\n",
        "       str(len(obj.getPatterns())))\n",
        "print('Runtime: ' + str(obj.getRuntime()))\n",
        "print('Memory (RSS): ' + str(obj.getMemoryRSS()))\n",
        "print('Memory (USS): ' + str(obj.getMemoryUSS()))"
      ],
      "metadata": {
        "colab": {
          "base_uri": "https://localhost:8080/"
        },
        "id": "EqTBay0cqkbC",
        "outputId": "01e83e25-ba47-4372-ea5a-2d7054b40114"
      },
      "id": "EqTBay0cqkbC",
      "execution_count": null,
      "outputs": [
        {
          "output_type": "stream",
          "name": "stdout",
          "text": [
            "Frequent patterns were generated successfully using Apriori algorithm \n",
            "Total number of patterns: 1072\n",
            "Runtime: 10.02059268951416\n",
            "Memory (RSS): 372514816\n",
            "Memory (USS): 349945856\n"
          ]
        }
      ]
    },
    {
      "cell_type": "markdown",
      "source": [
        "## Evaluating Multiple Pattern Mining Algorithms"
      ],
      "metadata": {
        "id": "WGGxGzWP2QMa"
      },
      "id": "WGGxGzWP2QMa"
    },
    {
      "cell_type": "markdown",
      "source": [
        "### Syntax\n",
        "\n",
        "```python\n",
        "from PAMI.frequentPattern.basic import Apriori as alg1\n",
        "from PAMI.frequentPattern.basic import FPGrowth  as alg2\n",
        "import pandas as pd\n",
        "\n",
        "minimumSupportCountList = [1000, 1500, 2000, 2500, 3000]\n",
        "\n",
        "resultDF = pd.DataFrame(columns=['algorithm', 'minSup','patterns', 'runtime', 'memoryRSS', 'memoryUSS'])\n",
        "\n",
        "\n",
        "for minSupCount in minimumSupportCountList:\n",
        "    obj = alg1.Apriori(iFile='Transactional_T10I4D100K.csv', minSup=minSupCount,sep='\\t')\n",
        "    obj.mine()\n",
        "    resultDF.loc[resultDF.shape[0]]=['Apriori', minSupCount,len(obj.getPatterns()), obj.getRuntime(), obj.getMemoryRSS(), obj.getMemoryUSS()]\n",
        "\n",
        "for minSupCount in minimumSupportCountList:\n",
        "    obj = alg2.FPGrowth(iFile='Transactional_T10I4D100K.csv', minSup=minSupCount, sep='\\t')\n",
        "    obj.mine()\n",
        "    resultDF.loc[resultDF.shape[0]]=['FPgrowth', minSupCount,len(obj.getPatterns()), obj.getRuntime(),obj.getMemoryRSS(), obj.getMemoryUSS()]\n",
        "\n",
        "resultDF #print dataframe\n",
        "```\n",
        "\n"
      ],
      "metadata": {
        "id": "_B-FzinF2XLI"
      },
      "id": "_B-FzinF2XLI"
    },
    {
      "cell_type": "markdown",
      "source": [
        "### Example 2: Evaluating Apriori and FP-growth algorithms"
      ],
      "metadata": {
        "id": "3_kB27b22pmv"
      },
      "id": "3_kB27b22pmv"
    },
    {
      "cell_type": "code",
      "source": [
        "from PAMI.frequentPattern.basic import Apriori as alg1\n",
        "from PAMI.frequentPattern.basic import FPGrowth  as alg2\n",
        "from PAMI.extras.graph import results2Latex as res\n",
        "import pandas as pd\n",
        "\n",
        "minimumSupportCountList = [1000, 1500, 2000, 2500, 3000]\n",
        "\n",
        "resultDF = pd.DataFrame(columns=['algorithm', 'minSup','patterns', 'runtime', 'memoryRSS', 'memoryUSS'])\n",
        "\n",
        "\n",
        "for minSupCount in minimumSupportCountList:\n",
        "    obj = alg1.Apriori(iFile='Transactional_T10I4D100K.csv', minSup=minSupCount,sep='\\t')\n",
        "    obj.mine()\n",
        "    resultDF.loc[resultDF.shape[0]]=['Apriori', minSupCount,len(obj.getPatterns()), obj.getRuntime(), obj.getMemoryRSS(), obj.getMemoryUSS()]\n",
        "\n",
        "for minSupCount in minimumSupportCountList:\n",
        "    obj = alg2.FPGrowth(iFile='Transactional_T10I4D100K.csv', minSup=minSupCount, sep='\\t')\n",
        "    obj.mine()\n",
        "    resultDF.loc[resultDF.shape[0]]=['FPgrowth', minSupCount,len(obj.getPatterns()), obj.getRuntime(),obj.getMemoryRSS(), obj.getMemoryUSS()]\n",
        "\n",
        "resultDF #print dataframe"
      ],
      "metadata": {
        "colab": {
          "base_uri": "https://localhost:8080/",
          "height": 542
        },
        "id": "xOXi5Juq2vDF",
        "outputId": "4b7a0ef6-c310-4044-b71b-debbc0b465b6"
      },
      "id": "xOXi5Juq2vDF",
      "execution_count": 6,
      "outputs": [
        {
          "output_type": "stream",
          "name": "stdout",
          "text": [
            "Frequent patterns were generated successfully using Apriori algorithm \n",
            "Frequent patterns were generated successfully using Apriori algorithm \n",
            "Frequent patterns were generated successfully using Apriori algorithm \n",
            "Frequent patterns were generated successfully using Apriori algorithm \n",
            "Frequent patterns were generated successfully using Apriori algorithm \n",
            "Frequent patterns were generated successfully using frequentPatternGrowth algorithm\n",
            "Frequent patterns were generated successfully using frequentPatternGrowth algorithm\n",
            "Frequent patterns were generated successfully using frequentPatternGrowth algorithm\n",
            "Frequent patterns were generated successfully using frequentPatternGrowth algorithm\n",
            "Frequent patterns were generated successfully using frequentPatternGrowth algorithm\n"
          ]
        },
        {
          "output_type": "execute_result",
          "data": {
            "text/plain": [
              "  algorithm  minSup  patterns   runtime  memoryRSS  memoryUSS\n",
              "0   Apriori    1000       385  7.253133  379641856  357281792\n",
              "1   Apriori    1500       237  4.046887  367874048  345255936\n",
              "2   Apriori    2000       155  3.822668  357175296  334835712\n",
              "3   Apriori    2500       107  1.993492  351084544  328581120\n",
              "4   Apriori    3000        60  1.549751  344756224  322445312\n",
              "5  FPgrowth    1000       385  7.060800  495296512  472784896\n",
              "6  FPgrowth    1500       237  6.354684  421826560  399462400\n",
              "7  FPgrowth    2000       155  3.872354  363720704  341323776\n",
              "8  FPgrowth    2500       107  3.536704  377470976  355127296\n",
              "9  FPgrowth    3000        60  2.206101  354938880  332357632"
            ],
            "text/html": [
              "\n",
              "  <div id=\"df-d836860d-f12d-4021-9e5e-e2f648242554\" class=\"colab-df-container\">\n",
              "    <div>\n",
              "<style scoped>\n",
              "    .dataframe tbody tr th:only-of-type {\n",
              "        vertical-align: middle;\n",
              "    }\n",
              "\n",
              "    .dataframe tbody tr th {\n",
              "        vertical-align: top;\n",
              "    }\n",
              "\n",
              "    .dataframe thead th {\n",
              "        text-align: right;\n",
              "    }\n",
              "</style>\n",
              "<table border=\"1\" class=\"dataframe\">\n",
              "  <thead>\n",
              "    <tr style=\"text-align: right;\">\n",
              "      <th></th>\n",
              "      <th>algorithm</th>\n",
              "      <th>minSup</th>\n",
              "      <th>patterns</th>\n",
              "      <th>runtime</th>\n",
              "      <th>memoryRSS</th>\n",
              "      <th>memoryUSS</th>\n",
              "    </tr>\n",
              "  </thead>\n",
              "  <tbody>\n",
              "    <tr>\n",
              "      <th>0</th>\n",
              "      <td>Apriori</td>\n",
              "      <td>1000</td>\n",
              "      <td>385</td>\n",
              "      <td>7.253133</td>\n",
              "      <td>379641856</td>\n",
              "      <td>357281792</td>\n",
              "    </tr>\n",
              "    <tr>\n",
              "      <th>1</th>\n",
              "      <td>Apriori</td>\n",
              "      <td>1500</td>\n",
              "      <td>237</td>\n",
              "      <td>4.046887</td>\n",
              "      <td>367874048</td>\n",
              "      <td>345255936</td>\n",
              "    </tr>\n",
              "    <tr>\n",
              "      <th>2</th>\n",
              "      <td>Apriori</td>\n",
              "      <td>2000</td>\n",
              "      <td>155</td>\n",
              "      <td>3.822668</td>\n",
              "      <td>357175296</td>\n",
              "      <td>334835712</td>\n",
              "    </tr>\n",
              "    <tr>\n",
              "      <th>3</th>\n",
              "      <td>Apriori</td>\n",
              "      <td>2500</td>\n",
              "      <td>107</td>\n",
              "      <td>1.993492</td>\n",
              "      <td>351084544</td>\n",
              "      <td>328581120</td>\n",
              "    </tr>\n",
              "    <tr>\n",
              "      <th>4</th>\n",
              "      <td>Apriori</td>\n",
              "      <td>3000</td>\n",
              "      <td>60</td>\n",
              "      <td>1.549751</td>\n",
              "      <td>344756224</td>\n",
              "      <td>322445312</td>\n",
              "    </tr>\n",
              "    <tr>\n",
              "      <th>5</th>\n",
              "      <td>FPgrowth</td>\n",
              "      <td>1000</td>\n",
              "      <td>385</td>\n",
              "      <td>7.060800</td>\n",
              "      <td>495296512</td>\n",
              "      <td>472784896</td>\n",
              "    </tr>\n",
              "    <tr>\n",
              "      <th>6</th>\n",
              "      <td>FPgrowth</td>\n",
              "      <td>1500</td>\n",
              "      <td>237</td>\n",
              "      <td>6.354684</td>\n",
              "      <td>421826560</td>\n",
              "      <td>399462400</td>\n",
              "    </tr>\n",
              "    <tr>\n",
              "      <th>7</th>\n",
              "      <td>FPgrowth</td>\n",
              "      <td>2000</td>\n",
              "      <td>155</td>\n",
              "      <td>3.872354</td>\n",
              "      <td>363720704</td>\n",
              "      <td>341323776</td>\n",
              "    </tr>\n",
              "    <tr>\n",
              "      <th>8</th>\n",
              "      <td>FPgrowth</td>\n",
              "      <td>2500</td>\n",
              "      <td>107</td>\n",
              "      <td>3.536704</td>\n",
              "      <td>377470976</td>\n",
              "      <td>355127296</td>\n",
              "    </tr>\n",
              "    <tr>\n",
              "      <th>9</th>\n",
              "      <td>FPgrowth</td>\n",
              "      <td>3000</td>\n",
              "      <td>60</td>\n",
              "      <td>2.206101</td>\n",
              "      <td>354938880</td>\n",
              "      <td>332357632</td>\n",
              "    </tr>\n",
              "  </tbody>\n",
              "</table>\n",
              "</div>\n",
              "    <div class=\"colab-df-buttons\">\n",
              "\n",
              "  <div class=\"colab-df-container\">\n",
              "    <button class=\"colab-df-convert\" onclick=\"convertToInteractive('df-d836860d-f12d-4021-9e5e-e2f648242554')\"\n",
              "            title=\"Convert this dataframe to an interactive table.\"\n",
              "            style=\"display:none;\">\n",
              "\n",
              "  <svg xmlns=\"http://www.w3.org/2000/svg\" height=\"24px\" viewBox=\"0 -960 960 960\">\n",
              "    <path d=\"M120-120v-720h720v720H120Zm60-500h600v-160H180v160Zm220 220h160v-160H400v160Zm0 220h160v-160H400v160ZM180-400h160v-160H180v160Zm440 0h160v-160H620v160ZM180-180h160v-160H180v160Zm440 0h160v-160H620v160Z\"/>\n",
              "  </svg>\n",
              "    </button>\n",
              "\n",
              "  <style>\n",
              "    .colab-df-container {\n",
              "      display:flex;\n",
              "      gap: 12px;\n",
              "    }\n",
              "\n",
              "    .colab-df-convert {\n",
              "      background-color: #E8F0FE;\n",
              "      border: none;\n",
              "      border-radius: 50%;\n",
              "      cursor: pointer;\n",
              "      display: none;\n",
              "      fill: #1967D2;\n",
              "      height: 32px;\n",
              "      padding: 0 0 0 0;\n",
              "      width: 32px;\n",
              "    }\n",
              "\n",
              "    .colab-df-convert:hover {\n",
              "      background-color: #E2EBFA;\n",
              "      box-shadow: 0px 1px 2px rgba(60, 64, 67, 0.3), 0px 1px 3px 1px rgba(60, 64, 67, 0.15);\n",
              "      fill: #174EA6;\n",
              "    }\n",
              "\n",
              "    .colab-df-buttons div {\n",
              "      margin-bottom: 4px;\n",
              "    }\n",
              "\n",
              "    [theme=dark] .colab-df-convert {\n",
              "      background-color: #3B4455;\n",
              "      fill: #D2E3FC;\n",
              "    }\n",
              "\n",
              "    [theme=dark] .colab-df-convert:hover {\n",
              "      background-color: #434B5C;\n",
              "      box-shadow: 0px 1px 3px 1px rgba(0, 0, 0, 0.15);\n",
              "      filter: drop-shadow(0px 1px 2px rgba(0, 0, 0, 0.3));\n",
              "      fill: #FFFFFF;\n",
              "    }\n",
              "  </style>\n",
              "\n",
              "    <script>\n",
              "      const buttonEl =\n",
              "        document.querySelector('#df-d836860d-f12d-4021-9e5e-e2f648242554 button.colab-df-convert');\n",
              "      buttonEl.style.display =\n",
              "        google.colab.kernel.accessAllowed ? 'block' : 'none';\n",
              "\n",
              "      async function convertToInteractive(key) {\n",
              "        const element = document.querySelector('#df-d836860d-f12d-4021-9e5e-e2f648242554');\n",
              "        const dataTable =\n",
              "          await google.colab.kernel.invokeFunction('convertToInteractive',\n",
              "                                                    [key], {});\n",
              "        if (!dataTable) return;\n",
              "\n",
              "        const docLinkHtml = 'Like what you see? Visit the ' +\n",
              "          '<a target=\"_blank\" href=https://colab.research.google.com/notebooks/data_table.ipynb>data table notebook</a>'\n",
              "          + ' to learn more about interactive tables.';\n",
              "        element.innerHTML = '';\n",
              "        dataTable['output_type'] = 'display_data';\n",
              "        await google.colab.output.renderOutput(dataTable, element);\n",
              "        const docLink = document.createElement('div');\n",
              "        docLink.innerHTML = docLinkHtml;\n",
              "        element.appendChild(docLink);\n",
              "      }\n",
              "    </script>\n",
              "  </div>\n",
              "\n",
              "\n",
              "<div id=\"df-14c23163-4a77-48a4-ac64-5a687121f971\">\n",
              "  <button class=\"colab-df-quickchart\" onclick=\"quickchart('df-14c23163-4a77-48a4-ac64-5a687121f971')\"\n",
              "            title=\"Suggest charts\"\n",
              "            style=\"display:none;\">\n",
              "\n",
              "<svg xmlns=\"http://www.w3.org/2000/svg\" height=\"24px\"viewBox=\"0 0 24 24\"\n",
              "     width=\"24px\">\n",
              "    <g>\n",
              "        <path d=\"M19 3H5c-1.1 0-2 .9-2 2v14c0 1.1.9 2 2 2h14c1.1 0 2-.9 2-2V5c0-1.1-.9-2-2-2zM9 17H7v-7h2v7zm4 0h-2V7h2v10zm4 0h-2v-4h2v4z\"/>\n",
              "    </g>\n",
              "</svg>\n",
              "  </button>\n",
              "\n",
              "<style>\n",
              "  .colab-df-quickchart {\n",
              "      --bg-color: #E8F0FE;\n",
              "      --fill-color: #1967D2;\n",
              "      --hover-bg-color: #E2EBFA;\n",
              "      --hover-fill-color: #174EA6;\n",
              "      --disabled-fill-color: #AAA;\n",
              "      --disabled-bg-color: #DDD;\n",
              "  }\n",
              "\n",
              "  [theme=dark] .colab-df-quickchart {\n",
              "      --bg-color: #3B4455;\n",
              "      --fill-color: #D2E3FC;\n",
              "      --hover-bg-color: #434B5C;\n",
              "      --hover-fill-color: #FFFFFF;\n",
              "      --disabled-bg-color: #3B4455;\n",
              "      --disabled-fill-color: #666;\n",
              "  }\n",
              "\n",
              "  .colab-df-quickchart {\n",
              "    background-color: var(--bg-color);\n",
              "    border: none;\n",
              "    border-radius: 50%;\n",
              "    cursor: pointer;\n",
              "    display: none;\n",
              "    fill: var(--fill-color);\n",
              "    height: 32px;\n",
              "    padding: 0;\n",
              "    width: 32px;\n",
              "  }\n",
              "\n",
              "  .colab-df-quickchart:hover {\n",
              "    background-color: var(--hover-bg-color);\n",
              "    box-shadow: 0 1px 2px rgba(60, 64, 67, 0.3), 0 1px 3px 1px rgba(60, 64, 67, 0.15);\n",
              "    fill: var(--button-hover-fill-color);\n",
              "  }\n",
              "\n",
              "  .colab-df-quickchart-complete:disabled,\n",
              "  .colab-df-quickchart-complete:disabled:hover {\n",
              "    background-color: var(--disabled-bg-color);\n",
              "    fill: var(--disabled-fill-color);\n",
              "    box-shadow: none;\n",
              "  }\n",
              "\n",
              "  .colab-df-spinner {\n",
              "    border: 2px solid var(--fill-color);\n",
              "    border-color: transparent;\n",
              "    border-bottom-color: var(--fill-color);\n",
              "    animation:\n",
              "      spin 1s steps(1) infinite;\n",
              "  }\n",
              "\n",
              "  @keyframes spin {\n",
              "    0% {\n",
              "      border-color: transparent;\n",
              "      border-bottom-color: var(--fill-color);\n",
              "      border-left-color: var(--fill-color);\n",
              "    }\n",
              "    20% {\n",
              "      border-color: transparent;\n",
              "      border-left-color: var(--fill-color);\n",
              "      border-top-color: var(--fill-color);\n",
              "    }\n",
              "    30% {\n",
              "      border-color: transparent;\n",
              "      border-left-color: var(--fill-color);\n",
              "      border-top-color: var(--fill-color);\n",
              "      border-right-color: var(--fill-color);\n",
              "    }\n",
              "    40% {\n",
              "      border-color: transparent;\n",
              "      border-right-color: var(--fill-color);\n",
              "      border-top-color: var(--fill-color);\n",
              "    }\n",
              "    60% {\n",
              "      border-color: transparent;\n",
              "      border-right-color: var(--fill-color);\n",
              "    }\n",
              "    80% {\n",
              "      border-color: transparent;\n",
              "      border-right-color: var(--fill-color);\n",
              "      border-bottom-color: var(--fill-color);\n",
              "    }\n",
              "    90% {\n",
              "      border-color: transparent;\n",
              "      border-bottom-color: var(--fill-color);\n",
              "    }\n",
              "  }\n",
              "</style>\n",
              "\n",
              "  <script>\n",
              "    async function quickchart(key) {\n",
              "      const quickchartButtonEl =\n",
              "        document.querySelector('#' + key + ' button');\n",
              "      quickchartButtonEl.disabled = true;  // To prevent multiple clicks.\n",
              "      quickchartButtonEl.classList.add('colab-df-spinner');\n",
              "      try {\n",
              "        const charts = await google.colab.kernel.invokeFunction(\n",
              "            'suggestCharts', [key], {});\n",
              "      } catch (error) {\n",
              "        console.error('Error during call to suggestCharts:', error);\n",
              "      }\n",
              "      quickchartButtonEl.classList.remove('colab-df-spinner');\n",
              "      quickchartButtonEl.classList.add('colab-df-quickchart-complete');\n",
              "    }\n",
              "    (() => {\n",
              "      let quickchartButtonEl =\n",
              "        document.querySelector('#df-14c23163-4a77-48a4-ac64-5a687121f971 button');\n",
              "      quickchartButtonEl.style.display =\n",
              "        google.colab.kernel.accessAllowed ? 'block' : 'none';\n",
              "    })();\n",
              "  </script>\n",
              "</div>\n",
              "\n",
              "  <div id=\"id_57df7702-39d2-4623-82e0-fff5b88f9298\">\n",
              "    <style>\n",
              "      .colab-df-generate {\n",
              "        background-color: #E8F0FE;\n",
              "        border: none;\n",
              "        border-radius: 50%;\n",
              "        cursor: pointer;\n",
              "        display: none;\n",
              "        fill: #1967D2;\n",
              "        height: 32px;\n",
              "        padding: 0 0 0 0;\n",
              "        width: 32px;\n",
              "      }\n",
              "\n",
              "      .colab-df-generate:hover {\n",
              "        background-color: #E2EBFA;\n",
              "        box-shadow: 0px 1px 2px rgba(60, 64, 67, 0.3), 0px 1px 3px 1px rgba(60, 64, 67, 0.15);\n",
              "        fill: #174EA6;\n",
              "      }\n",
              "\n",
              "      [theme=dark] .colab-df-generate {\n",
              "        background-color: #3B4455;\n",
              "        fill: #D2E3FC;\n",
              "      }\n",
              "\n",
              "      [theme=dark] .colab-df-generate:hover {\n",
              "        background-color: #434B5C;\n",
              "        box-shadow: 0px 1px 3px 1px rgba(0, 0, 0, 0.15);\n",
              "        filter: drop-shadow(0px 1px 2px rgba(0, 0, 0, 0.3));\n",
              "        fill: #FFFFFF;\n",
              "      }\n",
              "    </style>\n",
              "    <button class=\"colab-df-generate\" onclick=\"generateWithVariable('resultDF')\"\n",
              "            title=\"Generate code using this dataframe.\"\n",
              "            style=\"display:none;\">\n",
              "\n",
              "  <svg xmlns=\"http://www.w3.org/2000/svg\" height=\"24px\"viewBox=\"0 0 24 24\"\n",
              "       width=\"24px\">\n",
              "    <path d=\"M7,19H8.4L18.45,9,17,7.55,7,17.6ZM5,21V16.75L18.45,3.32a2,2,0,0,1,2.83,0l1.4,1.43a1.91,1.91,0,0,1,.58,1.4,1.91,1.91,0,0,1-.58,1.4L9.25,21ZM18.45,9,17,7.55Zm-12,3A5.31,5.31,0,0,0,4.9,8.1,5.31,5.31,0,0,0,1,6.5,5.31,5.31,0,0,0,4.9,4.9,5.31,5.31,0,0,0,6.5,1,5.31,5.31,0,0,0,8.1,4.9,5.31,5.31,0,0,0,12,6.5,5.46,5.46,0,0,0,6.5,12Z\"/>\n",
              "  </svg>\n",
              "    </button>\n",
              "    <script>\n",
              "      (() => {\n",
              "      const buttonEl =\n",
              "        document.querySelector('#id_57df7702-39d2-4623-82e0-fff5b88f9298 button.colab-df-generate');\n",
              "      buttonEl.style.display =\n",
              "        google.colab.kernel.accessAllowed ? 'block' : 'none';\n",
              "\n",
              "      buttonEl.onclick = () => {\n",
              "        google.colab.notebook.generateWithVariable('resultDF');\n",
              "      }\n",
              "      })();\n",
              "    </script>\n",
              "  </div>\n",
              "\n",
              "    </div>\n",
              "  </div>\n"
            ],
            "application/vnd.google.colaboratory.intrinsic+json": {
              "type": "dataframe",
              "variable_name": "resultDF",
              "summary": "{\n  \"name\": \"resultDF\",\n  \"rows\": 10,\n  \"fields\": [\n    {\n      \"column\": \"algorithm\",\n      \"properties\": {\n        \"dtype\": \"category\",\n        \"num_unique_values\": 2,\n        \"samples\": [\n          \"FPgrowth\",\n          \"Apriori\"\n        ],\n        \"semantic_type\": \"\",\n        \"description\": \"\"\n      }\n    },\n    {\n      \"column\": \"minSup\",\n      \"properties\": {\n        \"dtype\": \"number\",\n        \"std\": 745,\n        \"min\": 1000,\n        \"max\": 3000,\n        \"num_unique_values\": 5,\n        \"samples\": [\n          1500,\n          3000\n        ],\n        \"semantic_type\": \"\",\n        \"description\": \"\"\n      }\n    },\n    {\n      \"column\": \"patterns\",\n      \"properties\": {\n        \"dtype\": \"number\",\n        \"std\": 120,\n        \"min\": 60,\n        \"max\": 385,\n        \"num_unique_values\": 5,\n        \"samples\": [\n          237,\n          60\n        ],\n        \"semantic_type\": \"\",\n        \"description\": \"\"\n      }\n    },\n    {\n      \"column\": \"runtime\",\n      \"properties\": {\n        \"dtype\": \"number\",\n        \"std\": 2.0741937175133147,\n        \"min\": 1.5497512817382812,\n        \"max\": 7.253133296966553,\n        \"num_unique_values\": 10,\n        \"samples\": [\n          3.5367038249969482,\n          4.046887397766113\n        ],\n        \"semantic_type\": \"\",\n        \"description\": \"\"\n      }\n    },\n    {\n      \"column\": \"memoryRSS\",\n      \"properties\": {\n        \"dtype\": \"number\",\n        \"std\": 45545551,\n        \"min\": 344756224,\n        \"max\": 495296512,\n        \"num_unique_values\": 10,\n        \"samples\": [\n          377470976,\n          367874048\n        ],\n        \"semantic_type\": \"\",\n        \"description\": \"\"\n      }\n    },\n    {\n      \"column\": \"memoryUSS\",\n      \"properties\": {\n        \"dtype\": \"number\",\n        \"std\": 45532356,\n        \"min\": 322445312,\n        \"max\": 472784896,\n        \"num_unique_values\": 10,\n        \"samples\": [\n          355127296,\n          345255936\n        ],\n        \"semantic_type\": \"\",\n        \"description\": \"\"\n      }\n    }\n  ]\n}"
            }
          },
          "metadata": {},
          "execution_count": 6
        }
      ]
    },
    {
      "cell_type": "markdown",
      "source": [
        "## Plotting the results"
      ],
      "metadata": {
        "id": "idD-ZTyb22GH"
      },
      "id": "idD-ZTyb22GH"
    },
    {
      "cell_type": "markdown",
      "source": [
        "### Syntax\n",
        "\n",
        "\n",
        "```python\n",
        "from PAMI.extras.graph import PlotLineGraphs4DataFrame as dif\n",
        "# Pass the result data frame to the class\n",
        "obj = dif.PlotLineGraphs4DataFrame(resultDF)\n",
        "# Plotting the graphs\n",
        "obj.plot(result=resultDF, xaxis='constraint', yaxis='patterns', label='algorithm')\n",
        "obj.plot(result=resultDF, xaxis='constraint', yaxis='runtime', label='algorithm')\n",
        "obj.plot(result=resultDF, xaxis='constraint', yaxis='memoryRSS', label='algorithm')\n",
        "obj.plot(result=resultDF, xaxis='constraint', yaxis='memoryUSS', label='algorithm')\n",
        "#saving the graphs' results\n",
        "obj.save(result=resultDF, xaxis='constraint', yaxis='patterns', label='algorithm',oFile='patterns.jpg')\n",
        "obj.save(result=resultDF, xaxis='constraint', yaxis='runtime', label='algorithm',oFile='runtime.jpg')\n",
        "obj.save(result=resultDF, xaxis='constraint', yaxis='memoryRSS', label='algorithm',oFile='memoryRSS.jpg')\n",
        "obj.save(result=resultDF, xaxis='constraint', yaxis='memoryUSS', label='algorithm',oFile='memoryUSS.jpg')\n",
        "```\n",
        "\n"
      ],
      "metadata": {
        "id": "2GYp6NAa284O"
      },
      "id": "2GYp6NAa284O"
    },
    {
      "cell_type": "markdown",
      "source": [
        "### Example 3: Displaying and Saving the Evaluation Results"
      ],
      "metadata": {
        "id": "U8BLDxns3HFG"
      },
      "id": "U8BLDxns3HFG"
    },
    {
      "cell_type": "code",
      "source": [
        "from PAMI.extras.graph import PlotLineGraphs4DataFrame as dif\n",
        "# Pass the result data frame to the class\n",
        "obj = dif.PlotLineGraphs4DataFrame(resultDF)\n",
        "# Draw the graphs\n",
        "obj.plot(result=resultDF, xaxis='minSup', yaxis='patterns', label='algorithm')\n",
        "obj.plot(result=resultDF, xaxis='minSup', yaxis='runtime', label='algorithm')\n",
        "obj.plot(result=resultDF, xaxis='minSup', yaxis='memoryRSS', label='algorithm')\n",
        "obj.plot(result=resultDF, xaxis='minSup', yaxis='memoryUSS', label='algorithm')\n",
        "#saving the graphs' results\n",
        "obj.save(result=resultDF, xaxis='minSup', yaxis='patterns', label='algorithm',oFile='patterns.jpg')\n",
        "obj.save(result=resultDF, xaxis='minSup', yaxis='runtime', label='algorithm',oFile='runtime.jpg')\n",
        "obj.save(result=resultDF, xaxis='minSup', yaxis='memoryRSS', label='algorithm',oFile='memoryRSS.jpg')\n",
        "obj.save(result=resultDF, xaxis='minSup', yaxis='memoryUSS', label='algorithm',oFile='memoryUSS.jpg')"
      ],
      "metadata": {
        "id": "WH2g0jwz3OIe",
        "outputId": "0c337061-cead-4269-f228-dc591ad0f550",
        "colab": {
          "base_uri": "https://localhost:8080/",
          "height": 1000
        }
      },
      "id": "WH2g0jwz3OIe",
      "execution_count": 8,
      "outputs": [
        {
          "output_type": "display_data",
          "data": {
            "text/plain": [
              "<Figure size 640x480 with 1 Axes>"
            ],
            "image/png": "[encoded data removed]"
          },
          "metadata": {}
        },
        {
          "output_type": "stream",
          "name": "stdout",
          "text": [
            "Graph for patterns vs minSup is successfully generated!\n"
          ]
        },
        {
          "output_type": "display_data",
          "data": {
            "text/plain": [
              "<Figure size 640x480 with 1 Axes>"
            ],
            "image/png": "[encoded data removed]"
          },
          "metadata": {}
        },
        {
          "output_type": "stream",
          "name": "stdout",
          "text": [
            "Graph for runtime vs minSup is successfully generated!\n"
          ]
        },
        {
          "output_type": "display_data",
          "data": {
            "text/plain": [
              "<Figure size 640x480 with 1 Axes>"
            ],
            "image/png": "[encoded data removed]"
          },
          "metadata": {}
        },
        {
          "output_type": "stream",
          "name": "stdout",
          "text": [
            "Graph for memoryRSS vs minSup is successfully generated!\n"
          ]
        },
        {
          "output_type": "display_data",
          "data": {
            "text/plain": [
              "<Figure size 640x480 with 1 Axes>"
            ],
            "image/png": "[encoded data removed]"
          },
          "metadata": {}
        },
        {
          "output_type": "stream",
          "name": "stdout",
          "text": [
            "Graph for memoryUSS vs minSup is successfully generated!\n",
            "Graph saved as patterns.jpg!\n",
            "Graph saved as runtime.jpg!\n",
            "Graph saved as memoryRSS.jpg!\n",
            "Graph saved as memoryUSS.jpg!\n"
          ]
        }
      ]
    },
    {
      "cell_type": "markdown",
      "source": [
        "## Creating the Latex file containing the results"
      ],
      "metadata": {
        "id": "cYmSwhU9rWLF"
      },
      "id": "cYmSwhU9rWLF"
    },
    {
      "cell_type": "markdown",
      "source": [
        "### Syntax\n",
        "\n",
        "\n",
        "\n",
        "```python\n",
        "from PAMI.extras.graph import Results2Latex as alg\n",
        "#Initailize\n",
        "obj = alg.Results2Latex()\n",
        "\n",
        "#Printing the latex code\n",
        "obj.print(result=resultDF,xaxis='xLabel',yaxis='yLabel',\\\n",
        "    label='algorithm')  \n",
        "#Saving the latex code in a file\n",
        "obj.save(result=resultDF,xaxis='xLabel',yaxis='yLabel',\\\n",
        "    label='algorithm',oFile='outputFileName.txt')\n",
        "```\n",
        "\n"
      ],
      "metadata": {
        "id": "oZL5VjaprjcF"
      },
      "id": "oZL5VjaprjcF"
    },
    {
      "cell_type": "markdown",
      "source": [
        "### Example 4: Storing Comparision results in Latex files"
      ],
      "metadata": {
        "id": "umrKrCLRrvI-"
      },
      "id": "umrKrCLRrvI-"
    },
    {
      "cell_type": "code",
      "source": [
        "from PAMI.extras.graph import Results2Latex as alg\n",
        "\n",
        "obj = res.Results2Latex()\n",
        "#Printing the latex code on the terminal\n",
        "obj.print(result=resultDF, xaxis='minSup', yaxis='patterns',label='algorithm')\n",
        "obj.print(result=resultDF, xaxis='minSup', yaxis='runtime', label='algorithm')\n",
        "obj.print(result=resultDF, xaxis='minSup', yaxis='memoryRSS',label='algorithm')\n",
        "obj.print(result=resultDF, xaxis='minSup', yaxis='memoryUSS', label='algorithm')\n",
        "#save the latex code in a file\n",
        "obj.save(result=resultDF, xaxis='minSup', yaxis='patterns', label='algorithm', oFile='patterns.txt')\n",
        "obj.save(result=resultDF, xaxis='minSup', yaxis='runtime', label='algorithm', oFile='runtime.txt')\n",
        "obj.save(result=resultDF, xaxis='minSup', yaxis='memoryRSS', label='algorithm', oFile='memoryRSS.txt')\n",
        "obj.save(result=resultDF, xaxis='minSup', yaxis='memoryUSS', label='algorithm', oFile='memoryUSS.txt')"
      ],
      "metadata": {
        "colab": {
          "base_uri": "https://localhost:8080/"
        },
        "id": "HKQMyYI8mVHr",
        "outputId": "3d584c07-30ed-4cfe-fb99-f9e3e505b548"
      },
      "id": "HKQMyYI8mVHr",
      "execution_count": null,
      "outputs": [
        {
          "output_type": "stream",
          "name": "stdout",
          "text": [
            "Frequent patterns were generated successfully using Apriori algorithm \n",
            "Frequent patterns were generated successfully using Apriori algorithm \n",
            "Frequent patterns were generated successfully using Apriori algorithm \n",
            "Frequent patterns were generated successfully using Apriori algorithm \n",
            "Frequent patterns were generated successfully using Apriori algorithm \n",
            "Frequent patterns were generated successfully using frequentPatternGrowth algorithm\n",
            "Frequent patterns were generated successfully using frequentPatternGrowth algorithm\n",
            "Frequent patterns were generated successfully using frequentPatternGrowth algorithm\n",
            "Frequent patterns were generated successfully using frequentPatternGrowth algorithm\n",
            "Frequent patterns were generated successfully using frequentPatternGrowth algorithm\n",
            "\\begin{axis}[\n",
            "\txlabel={\\Huge{minSup}},\n",
            "\tylabel={\\Huge{patterns}},\n",
            "\txmin=1000, xmax=3000,]\n",
            "\\addplot+  [red]\n",
            "\tcoordinates {\n",
            "(1000,385)\n",
            "(1500,237)\n",
            "(2000,155)\n",
            "(2500,107)\n",
            "(3000,60)\n",
            "\t};   \\addlegendentry{Apriori}\n",
            "\\addplot+  [blue]\n",
            "\tcoordinates {\n",
            "(1000,385)\n",
            "(1500,237)\n",
            "(2000,155)\n",
            "(2500,107)\n",
            "(3000,60)\n",
            "\t};   \\addlegendentry{FPgrowth}\n",
            "\\end{axis}\n",
            "\\begin{axis}[\n",
            "\txlabel={\\Huge{minSup}},\n",
            "\tylabel={\\Huge{runtime}},\n",
            "\txmin=1000, xmax=3000,]\n",
            "\\addplot+  [red]\n",
            "\tcoordinates {\n",
            "(1000,6.319095134735107)\n",
            "(1500,3.6551198959350586)\n",
            "(2000,3.4987189769744873)\n",
            "(2500,1.9541211128234863)\n",
            "(3000,1.4147260189056396)\n",
            "\t};   \\addlegendentry{Apriori}\n",
            "\\addplot+  [blue]\n",
            "\tcoordinates {\n",
            "(1000,6.645520210266113)\n",
            "(1500,7.211513519287109)\n",
            "(2000,4.195082426071167)\n",
            "(2500,3.539952039718628)\n",
            "(3000,2.4484362602233887)\n",
            "\t};   \\addlegendentry{FPgrowth}\n",
            "\\end{axis}\n",
            "\\begin{axis}[\n",
            "\txlabel={\\Huge{minSup}},\n",
            "\tylabel={\\Huge{memoryRSS}},\n",
            "\txmin=1000, xmax=3000,]\n",
            "\\addplot+  [red]\n",
            "\tcoordinates {\n",
            "(1000,373190656)\n",
            "(1500,355524608)\n",
            "(2000,345104384)\n",
            "(2500,338382848)\n",
            "(3000,332361728)\n",
            "\t};   \\addlegendentry{Apriori}\n",
            "\\addplot+  [blue]\n",
            "\tcoordinates {\n",
            "(1000,482844672)\n",
            "(1500,409853952)\n",
            "(2000,392445952)\n",
            "(2500,400887808)\n",
            "(3000,374095872)\n",
            "\t};   \\addlegendentry{FPgrowth}\n",
            "\\end{axis}\n",
            "\\begin{axis}[\n",
            "\txlabel={\\Huge{minSup}},\n",
            "\tylabel={\\Huge{memoryUSS}},\n",
            "\txmin=1000, xmax=3000,]\n",
            "\\addplot+  [red]\n",
            "\tcoordinates {\n",
            "(1000,350711808)\n",
            "(1500,333115392)\n",
            "(2000,322473984)\n",
            "(2500,316100608)\n",
            "(3000,309936128)\n",
            "\t};   \\addlegendentry{Apriori}\n",
            "\\addplot+  [blue]\n",
            "\tcoordinates {\n",
            "(1000,460451840)\n",
            "(1500,387411968)\n",
            "(2000,370016256)\n",
            "(2500,378523648)\n",
            "(3000,351518720)\n",
            "\t};   \\addlegendentry{FPgrowth}\n",
            "\\end{axis}\n",
            "LaTeX file saved as patterns.txt\n",
            "LaTeX file saved as runtime.txt\n",
            "LaTeX file saved as memoryRSS.txt\n",
            "LaTeX file saved as memoryUSS.txt\n"
          ]
        }
      ]
    }
  ],
  "metadata": {
    "kernelspec": {
      "display_name": "Python 3",
      "language": "python",
      "name": "python3"
    },
    "language_info": {
      "codemirror_mode": {
        "name": "ipython",
        "version": 2
      },
      "file_extension": ".py",
      "mimetype": "text/x-python",
      "name": "python",
      "nbconvert_exporter": "python",
      "pygments_lexer": "ipython2",
      "version": "2.7.6"
    },
    "colab": {
      "provenance": [],
      "toc_visible": true,
      "include_colab_link": true
    }
  },
  "nbformat": 4,
  "nbformat_minor": 5
}