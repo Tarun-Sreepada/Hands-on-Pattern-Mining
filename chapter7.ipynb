{
  "cells": [
    {
      "cell_type": "markdown",
      "metadata": {
        "id": "view-in-github",
        "colab_type": "text"
      },
      "source": [
        "<a href=\"https://colab.research.google.com/github/UdayLab/Hands-on-Pattern-Mining/blob/main/chapter7.ipynb\" target=\"_parent\"><img src=\"https://colab.research.google.com/assets/colab-badge.svg\" alt=\"Open In Colab\"/></a>"
      ]
    },
    {
      "cell_type": "markdown",
      "source": [
        "# Chapter 7: Spatial Databases: Representation, Creation, and Statistics"
      ],
      "metadata": {
        "id": "y3s-3Q_piu8t"
      },
      "id": "y3s-3Q_piu8t"
    },
    {
      "cell_type": "markdown",
      "source": [
        "## Installation of PAMI library"
      ],
      "metadata": {
        "id": "rOTWYp6tizpr"
      },
      "id": "rOTWYp6tizpr"
    },
    {
      "cell_type": "code",
      "execution_count": 1,
      "id": "initial_id",
      "metadata": {
        "collapsed": true,
        "colab": {
          "base_uri": "https://localhost:8080/"
        },
        "id": "initial_id",
        "outputId": "29b3000b-0e43-404c-b14f-de4ff8d0f30d"
      },
      "outputs": [
        {
          "output_type": "stream",
          "name": "stdout",
          "text": [
            "Requirement already satisfied: pami in /usr/local/lib/python3.10/dist-packages (2024.12.4.3)\n",
            "Requirement already satisfied: psutil in /usr/local/lib/python3.10/dist-packages (from pami) (5.9.5)\n",
            "Requirement already satisfied: pandas in /usr/local/lib/python3.10/dist-packages (from pami) (2.2.2)\n",
            "Requirement already satisfied: plotly in /usr/local/lib/python3.10/dist-packages (from pami) (5.24.1)\n",
            "Requirement already satisfied: matplotlib in /usr/local/lib/python3.10/dist-packages (from pami) (3.8.0)\n",
            "Requirement already satisfied: resource in /usr/local/lib/python3.10/dist-packages (from pami) (0.2.1)\n",
            "Requirement already satisfied: validators in /usr/local/lib/python3.10/dist-packages (from pami) (0.34.0)\n",
            "Requirement already satisfied: urllib3 in /usr/local/lib/python3.10/dist-packages (from pami) (2.2.3)\n",
            "Requirement already satisfied: Pillow in /usr/local/lib/python3.10/dist-packages (from pami) (11.0.0)\n",
            "Requirement already satisfied: numpy in /usr/local/lib/python3.10/dist-packages (from pami) (1.26.4)\n",
            "Requirement already satisfied: sphinx in /usr/local/lib/python3.10/dist-packages (from pami) (8.1.3)\n",
            "Requirement already satisfied: sphinx-rtd-theme in /usr/local/lib/python3.10/dist-packages (from pami) (3.0.2)\n",
            "Requirement already satisfied: discord.py in /usr/local/lib/python3.10/dist-packages (from pami) (2.4.0)\n",
            "Requirement already satisfied: networkx in /usr/local/lib/python3.10/dist-packages (from pami) (3.4.2)\n",
            "Requirement already satisfied: deprecated in /usr/local/lib/python3.10/dist-packages (from pami) (1.2.15)\n",
            "Requirement already satisfied: fastparquet in /usr/local/lib/python3.10/dist-packages (from pami) (2024.11.0)\n",
            "Requirement already satisfied: wrapt<2,>=1.10 in /usr/local/lib/python3.10/dist-packages (from deprecated->pami) (1.16.0)\n",
            "Requirement already satisfied: aiohttp<4,>=3.7.4 in /usr/local/lib/python3.10/dist-packages (from discord.py->pami) (3.11.2)\n",
            "Requirement already satisfied: cramjam>=2.3 in /usr/local/lib/python3.10/dist-packages (from fastparquet->pami) (2.9.0)\n",
            "Requirement already satisfied: fsspec in /usr/local/lib/python3.10/dist-packages (from fastparquet->pami) (2024.10.0)\n",
            "Requirement already satisfied: packaging in /usr/local/lib/python3.10/dist-packages (from fastparquet->pami) (24.2)\n",
            "Requirement already satisfied: python-dateutil>=2.8.2 in /usr/local/lib/python3.10/dist-packages (from pandas->pami) (2.8.2)\n",
            "Requirement already satisfied: pytz>=2020.1 in /usr/local/lib/python3.10/dist-packages (from pandas->pami) (2024.2)\n",
            "Requirement already satisfied: tzdata>=2022.7 in /usr/local/lib/python3.10/dist-packages (from pandas->pami) (2024.2)\n",
            "Requirement already satisfied: contourpy>=1.0.1 in /usr/local/lib/python3.10/dist-packages (from matplotlib->pami) (1.3.1)\n",
            "Requirement already satisfied: cycler>=0.10 in /usr/local/lib/python3.10/dist-packages (from matplotlib->pami) (0.12.1)\n",
            "Requirement already satisfied: fonttools>=4.22.0 in /usr/local/lib/python3.10/dist-packages (from matplotlib->pami) (4.55.0)\n",
            "Requirement already satisfied: kiwisolver>=1.0.1 in /usr/local/lib/python3.10/dist-packages (from matplotlib->pami) (1.4.7)\n",
            "Requirement already satisfied: pyparsing>=2.3.1 in /usr/local/lib/python3.10/dist-packages (from matplotlib->pami) (3.2.0)\n",
            "Requirement already satisfied: tenacity>=6.2.0 in /usr/local/lib/python3.10/dist-packages (from plotly->pami) (9.0.0)\n",
            "Requirement already satisfied: JsonForm>=0.0.2 in /usr/local/lib/python3.10/dist-packages (from resource->pami) (0.0.2)\n",
            "Requirement already satisfied: JsonSir>=0.0.2 in /usr/local/lib/python3.10/dist-packages (from resource->pami) (0.0.2)\n",
            "Requirement already satisfied: python-easyconfig>=0.1.0 in /usr/local/lib/python3.10/dist-packages (from resource->pami) (0.1.7)\n",
            "Requirement already satisfied: sphinxcontrib-applehelp>=1.0.7 in /usr/local/lib/python3.10/dist-packages (from sphinx->pami) (2.0.0)\n",
            "Requirement already satisfied: sphinxcontrib-devhelp>=1.0.6 in /usr/local/lib/python3.10/dist-packages (from sphinx->pami) (2.0.0)\n",
            "Requirement already satisfied: sphinxcontrib-htmlhelp>=2.0.6 in /usr/local/lib/python3.10/dist-packages (from sphinx->pami) (2.1.0)\n",
            "Requirement already satisfied: sphinxcontrib-jsmath>=1.0.1 in /usr/local/lib/python3.10/dist-packages (from sphinx->pami) (1.0.1)\n",
            "Requirement already satisfied: sphinxcontrib-qthelp>=1.0.6 in /usr/local/lib/python3.10/dist-packages (from sphinx->pami) (2.0.0)\n",
            "Requirement already satisfied: sphinxcontrib-serializinghtml>=1.1.9 in /usr/local/lib/python3.10/dist-packages (from sphinx->pami) (2.0.0)\n",
            "Requirement already satisfied: Jinja2>=3.1 in /usr/local/lib/python3.10/dist-packages (from sphinx->pami) (3.1.4)\n",
            "Requirement already satisfied: Pygments>=2.17 in /usr/local/lib/python3.10/dist-packages (from sphinx->pami) (2.18.0)\n",
            "Requirement already satisfied: docutils<0.22,>=0.20 in /usr/local/lib/python3.10/dist-packages (from sphinx->pami) (0.21.2)\n",
            "Requirement already satisfied: snowballstemmer>=2.2 in /usr/local/lib/python3.10/dist-packages (from sphinx->pami) (2.2.0)\n",
            "Requirement already satisfied: babel>=2.13 in /usr/local/lib/python3.10/dist-packages (from sphinx->pami) (2.16.0)\n",
            "Requirement already satisfied: alabaster>=0.7.14 in /usr/local/lib/python3.10/dist-packages (from sphinx->pami) (1.0.0)\n",
            "Requirement already satisfied: imagesize>=1.3 in /usr/local/lib/python3.10/dist-packages (from sphinx->pami) (1.4.1)\n",
            "Requirement already satisfied: requests>=2.30.0 in /usr/local/lib/python3.10/dist-packages (from sphinx->pami) (2.32.3)\n",
            "Requirement already satisfied: tomli>=2 in /usr/local/lib/python3.10/dist-packages (from sphinx->pami) (2.1.0)\n",
            "Requirement already satisfied: sphinxcontrib-jquery<5,>=4 in /usr/local/lib/python3.10/dist-packages (from sphinx-rtd-theme->pami) (4.1)\n",
            "Requirement already satisfied: aiohappyeyeballs>=2.3.0 in /usr/local/lib/python3.10/dist-packages (from aiohttp<4,>=3.7.4->discord.py->pami) (2.4.3)\n",
            "Requirement already satisfied: aiosignal>=1.1.2 in /usr/local/lib/python3.10/dist-packages (from aiohttp<4,>=3.7.4->discord.py->pami) (1.3.1)\n",
            "Requirement already satisfied: attrs>=17.3.0 in /usr/local/lib/python3.10/dist-packages (from aiohttp<4,>=3.7.4->discord.py->pami) (24.2.0)\n",
            "Requirement already satisfied: frozenlist>=1.1.1 in /usr/local/lib/python3.10/dist-packages (from aiohttp<4,>=3.7.4->discord.py->pami) (1.5.0)\n",
            "Requirement already satisfied: multidict<7.0,>=4.5 in /usr/local/lib/python3.10/dist-packages (from aiohttp<4,>=3.7.4->discord.py->pami) (6.1.0)\n",
            "Requirement already satisfied: propcache>=0.2.0 in /usr/local/lib/python3.10/dist-packages (from aiohttp<4,>=3.7.4->discord.py->pami) (0.2.0)\n",
            "Requirement already satisfied: yarl<2.0,>=1.17.0 in /usr/local/lib/python3.10/dist-packages (from aiohttp<4,>=3.7.4->discord.py->pami) (1.17.2)\n",
            "Requirement already satisfied: async-timeout<6.0,>=4.0 in /usr/local/lib/python3.10/dist-packages (from aiohttp<4,>=3.7.4->discord.py->pami) (4.0.3)\n",
            "Requirement already satisfied: MarkupSafe>=2.0 in /usr/local/lib/python3.10/dist-packages (from Jinja2>=3.1->sphinx->pami) (3.0.2)\n",
            "Requirement already satisfied: jsonschema in /usr/local/lib/python3.10/dist-packages (from JsonForm>=0.0.2->resource->pami) (4.23.0)\n",
            "Requirement already satisfied: six>=1.5 in /usr/local/lib/python3.10/dist-packages (from python-dateutil>=2.8.2->pandas->pami) (1.16.0)\n",
            "Requirement already satisfied: PyYAML in /usr/local/lib/python3.10/dist-packages (from python-easyconfig>=0.1.0->resource->pami) (6.0.2)\n",
            "Requirement already satisfied: charset-normalizer<4,>=2 in /usr/local/lib/python3.10/dist-packages (from requests>=2.30.0->sphinx->pami) (3.4.0)\n",
            "Requirement already satisfied: idna<4,>=2.5 in /usr/local/lib/python3.10/dist-packages (from requests>=2.30.0->sphinx->pami) (3.10)\n",
            "Requirement already satisfied: certifi>=2017.4.17 in /usr/local/lib/python3.10/dist-packages (from requests>=2.30.0->sphinx->pami) (2024.8.30)\n",
            "Requirement already satisfied: typing-extensions>=4.1.0 in /usr/local/lib/python3.10/dist-packages (from multidict<7.0,>=4.5->aiohttp<4,>=3.7.4->discord.py->pami) (4.12.2)\n",
            "Requirement already satisfied: jsonschema-specifications>=2023.03.6 in /usr/local/lib/python3.10/dist-packages (from jsonschema->JsonForm>=0.0.2->resource->pami) (2024.10.1)\n",
            "Requirement already satisfied: referencing>=0.28.4 in /usr/local/lib/python3.10/dist-packages (from jsonschema->JsonForm>=0.0.2->resource->pami) (0.35.1)\n",
            "Requirement already satisfied: rpds-py>=0.7.1 in /usr/local/lib/python3.10/dist-packages (from jsonschema->JsonForm>=0.0.2->resource->pami) (0.21.0)\n"
          ]
        }
      ],
      "source": [
        "!pip install --upgrade pami"
      ]
    },
    {
      "cell_type": "markdown",
      "source": [
        "## Download a sample database"
      ],
      "metadata": {
        "id": "koJb4FUvi3-A"
      },
      "id": "koJb4FUvi3-A"
    },
    {
      "cell_type": "code",
      "source": [
        "!wget -nc https://web-ext.u-aizu.ac.jp/~udayrage/datasets/spatioTransactionalDatabases/spatioTransactional_T10I4D100K.csv"
      ],
      "metadata": {
        "colab": {
          "base_uri": "https://localhost:8080/"
        },
        "id": "D8bz5U2SjAai",
        "outputId": "dceb5249-4674-4667-97c3-0fc78b5d523e"
      },
      "id": "D8bz5U2SjAai",
      "execution_count": null,
      "outputs": [
        {
          "output_type": "stream",
          "name": "stdout",
          "text": [
            "--2024-12-03 08:04:04--  https://web-ext.u-aizu.ac.jp/~udayrage/datasets/spatioTemporalDatabases/spatiotemporal_T10I4D100K.csv\n",
            "Resolving web-ext.u-aizu.ac.jp (web-ext.u-aizu.ac.jp)... 163.143.103.34\n",
            "Connecting to web-ext.u-aizu.ac.jp (web-ext.u-aizu.ac.jp)|163.143.103.34|:443... connected.\n",
            "HTTP request sent, awaiting response... 200 OK\n",
            "Length: 8530208 (8.1M) [text/csv]\n",
            "Saving to: ‘spatiotemporal_T10I4D100K.csv’\n",
            "\n",
            "spatiotemporal_T10I 100%[===================>]   8.13M  5.32MB/s    in 1.5s    \n",
            "\n",
            "2024-12-03 08:04:07 (5.32 MB/s) - ‘spatiotemporal_T10I4D100K.csv’ saved [8530208/8530208]\n",
            "\n"
          ]
        }
      ]
    },
    {
      "cell_type": "markdown",
      "source": [
        "## Generating Synthetic Geo-referenced Transactional Database"
      ],
      "metadata": {
        "id": "UGMSyoSojUBF"
      },
      "id": "UGMSyoSojUBF"
    },
    {
      "cell_type": "markdown",
      "source": [
        "### Generic\n",
        "\n",
        "\n",
        "\n",
        "```python\n",
        "from PAMI.extras.syntheticDataGenerator import geoReferentialTransactionalDatabase as db\n",
        "  \n",
        "obj = db.geoReferentialTransactionalDatabase(\n",
        "        databaseSize=numberOfTransactions,\n",
        "        avgItemsPerTransaction=averageNumberOfItemsInATransaction,\n",
        "        numItems=totalNumberOfItems,\n",
        "        x1=lowestXaxisCoordinate,\n",
        "        y1=lowestYaxisCoordinate,\n",
        "        x2=maximalXaxisCoordinate,\n",
        "        y2=maximalYaxisCoordinate,\n",
        "        sep='\\t'\n",
        "        )\n",
        "obj.create()\n",
        "obj.save('outputFileName')\n",
        "#read the generated transactions into a dataframe\n",
        "GRTDF=obj.getTransactions()\n",
        "print('Runtime: ' + str(obj.getRuntime()))\n",
        "print('Memory (RSS): ' + str(obj.getMemoryRSS()))\n",
        "print('Memory (USS): ' + str(obj.getMemoryUSS()))\n",
        "```\n",
        "\n"
      ],
      "metadata": {
        "id": "hW_57pxdjcCh"
      },
      "id": "hW_57pxdjcCh"
    },
    {
      "cell_type": "markdown",
      "source": [
        "### Example 1"
      ],
      "metadata": {
        "id": "Ir799i2cjesT"
      },
      "id": "Ir799i2cjesT"
    },
    {
      "cell_type": "code",
      "source": [
        "from PAMI.extras.syntheticDataGenerator import GeoReferentialTransactionalDatabase as db\n",
        "\n",
        "obj = db.GeoReferentialTransactionalDatabase(\n",
        "        databaseSize=1000,\n",
        "        avgItemsPerTransaction=10,\n",
        "        numItems=1000,\n",
        "        x1=0,\n",
        "        y1=0,\n",
        "        x2=100,\n",
        "        y2=100,\n",
        "        sep='\\t'\n",
        "        )\n",
        "obj.create()\n",
        "obj.save('geoReferencedTransactionalDatabase.csv')\n",
        "#read the generated transactions into a dataframe\n",
        "GRTDF=obj.getTransactions()\n",
        "print('Runtime: ' + str(obj.getRuntime()))\n",
        "print('Memory (RSS): ' + str(obj.getMemoryRSS()))\n",
        "print('Memory (USS): ' + str(obj.getMemoryUSS()))"
      ],
      "metadata": {
        "colab": {
          "base_uri": "https://localhost:8080/",
          "height": 216
        },
        "id": "w-AgIvTGjbRW",
        "outputId": "c7f216c8-837f-49f0-c5a2-132afc24946d"
      },
      "id": "w-AgIvTGjbRW",
      "execution_count": 2,
      "outputs": [
        {
          "output_type": "stream",
          "name": "stdout",
          "text": [
            "Runtime: 14.117074012756348\n"
          ]
        },
        {
          "output_type": "error",
          "ename": "AttributeError",
          "evalue": "'GeoReferentialTransactionalDatabase' object has no attribute 'getMemoryRSS'",
          "traceback": [
            "\u001b[0;31m---------------------------------------------------------------------------\u001b[0m",
            "\u001b[0;31mAttributeError\u001b[0m                            Traceback (most recent call last)",
            "\u001b[0;32m<ipython-input-2-237632323d0d>\u001b[0m in \u001b[0;36m<cell line: 18>\u001b[0;34m()\u001b[0m\n\u001b[1;32m     16\u001b[0m \u001b[0mGRTDF\u001b[0m\u001b[0;34m=\u001b[0m\u001b[0mobj\u001b[0m\u001b[0;34m.\u001b[0m\u001b[0mgetTransactions\u001b[0m\u001b[0;34m(\u001b[0m\u001b[0;34m)\u001b[0m\u001b[0;34m\u001b[0m\u001b[0;34m\u001b[0m\u001b[0m\n\u001b[1;32m     17\u001b[0m \u001b[0mprint\u001b[0m\u001b[0;34m(\u001b[0m\u001b[0;34m'Runtime: '\u001b[0m \u001b[0;34m+\u001b[0m \u001b[0mstr\u001b[0m\u001b[0;34m(\u001b[0m\u001b[0mobj\u001b[0m\u001b[0;34m.\u001b[0m\u001b[0mgetRuntime\u001b[0m\u001b[0;34m(\u001b[0m\u001b[0;34m)\u001b[0m\u001b[0;34m)\u001b[0m\u001b[0;34m)\u001b[0m\u001b[0;34m\u001b[0m\u001b[0;34m\u001b[0m\u001b[0m\n\u001b[0;32m---> 18\u001b[0;31m \u001b[0mprint\u001b[0m\u001b[0;34m(\u001b[0m\u001b[0;34m'Memory (RSS): '\u001b[0m \u001b[0;34m+\u001b[0m \u001b[0mstr\u001b[0m\u001b[0;34m(\u001b[0m\u001b[0mobj\u001b[0m\u001b[0;34m.\u001b[0m\u001b[0mgetMemoryRSS\u001b[0m\u001b[0;34m(\u001b[0m\u001b[0;34m)\u001b[0m\u001b[0;34m)\u001b[0m\u001b[0;34m)\u001b[0m\u001b[0;34m\u001b[0m\u001b[0;34m\u001b[0m\u001b[0m\n\u001b[0m\u001b[1;32m     19\u001b[0m \u001b[0mprint\u001b[0m\u001b[0;34m(\u001b[0m\u001b[0;34m'Memory (USS): '\u001b[0m \u001b[0;34m+\u001b[0m \u001b[0mstr\u001b[0m\u001b[0;34m(\u001b[0m\u001b[0mobj\u001b[0m\u001b[0;34m.\u001b[0m\u001b[0mgetMemoryUSS\u001b[0m\u001b[0;34m(\u001b[0m\u001b[0;34m)\u001b[0m\u001b[0;34m)\u001b[0m\u001b[0;34m)\u001b[0m\u001b[0;34m\u001b[0m\u001b[0;34m\u001b[0m\u001b[0m\n",
            "\u001b[0;31mAttributeError\u001b[0m: 'GeoReferentialTransactionalDatabase' object has no attribute 'getMemoryRSS'"
          ]
        }
      ]
    },
    {
      "cell_type": "markdown",
      "source": [
        "## Generating Synthetic Geo-referenced Temporal Database"
      ],
      "metadata": {
        "id": "6a4RgP7ykcxY"
      },
      "id": "6a4RgP7ykcxY"
    },
    {
      "cell_type": "markdown",
      "source": [
        "### Generic\n",
        "\n",
        "\n",
        "\n",
        "```python\n",
        "from PAMI.extras.syntheticDataGenerator import geoReferentialTemporalDatabase as db\n",
        "  \n",
        "obj = db.geoReferentialTemporalDatabase(\n",
        "        databaseSize=numberOfTransactions,\n",
        "        avgItemsPerTransaction=averageNumberOfItemsInATransaction,\n",
        "        numItems=totalNumberOfItems,\n",
        "        occurrenceProbabilityOfSameTimestamp=probabilityWithWhichTheNextTransactionAppearsAtTheSameTimeStamp,\n",
        "        occurrenceProbabilityToSkipSubsequentTimestamp=probabilityWithWhichTheNextTransactionSkipsTheNextTimeStamp,\n",
        "        x1=lowestXaxisCoordinate,\n",
        "        y1=lowestYaxisCoordinate,\n",
        "        x2=maximumXaxisCoordinate,\n",
        "        y2=maximumYaxisCoordinate,\n",
        "        sep='\\t'\n",
        "        )\n",
        "obj.create()\n",
        "obj.save('outputFileName')\n",
        "GRTempDF=obj.getTransactions()\n",
        "print('Runtime: ' + str(obj.getRuntime()))\n",
        "print('Memory (RSS): ' + str(obj.getMemoryRSS()))\n",
        "print('Memory (USS): ' + str(obj.getMemoryUSS()))\n",
        "```\n",
        "\n"
      ],
      "metadata": {
        "id": "-V_IiGkfklCj"
      },
      "id": "-V_IiGkfklCj"
    },
    {
      "cell_type": "markdown",
      "source": [
        "### Example 2"
      ],
      "metadata": {
        "id": "5C3iQJg6koQI"
      },
      "id": "5C3iQJg6koQI"
    },
    {
      "cell_type": "code",
      "source": [
        "from PAMI.extras.syntheticDataGenerator \\\n",
        "    import geoReferentialTemporalDatabase as db\n",
        "\n",
        "obj = db.geoReferentialTemporalDatabase(\n",
        "        databaseSize=1000,\n",
        "        avgItemsPerTransaction=10,\n",
        "        numItems=1000,\n",
        "        occurrenceProbabilityOfSameTimestamp=0,\n",
        "        occurrenceProbabilityToSkipSubsequentTimestamp=0,\n",
        "        x1=0,\n",
        "        y1=0,\n",
        "        x2=100,\n",
        "        y2=100,\n",
        "        sep='\\t'\n",
        "        )\n",
        "obj.create()\n",
        "obj.save('geoReferentialTemporalDatabase.csv')\n",
        "GRTempDF=obj.getTransactions()\n",
        "print('Runtime: ' + str(obj.getRuntime()))\n",
        "print('Memory (RSS): ' + str(obj.getMemoryRSS()))\n",
        "print('Memory (USS): ' + str(obj.getMemoryUSS()))"
      ],
      "metadata": {
        "colab": {
          "base_uri": "https://localhost:8080/",
          "height": 402
        },
        "id": "4c1G8w0ekkb6",
        "outputId": "18f7877f-8e19-4d01-889e-01c01407bfa6"
      },
      "id": "4c1G8w0ekkb6",
      "execution_count": null,
      "outputs": [
        {
          "output_type": "error",
          "ename": "ImportError",
          "evalue": "cannot import name 'geoReferentialTemporalDatabase' from 'PAMI.extras.syntheticDataGenerator' (/usr/local/lib/python3.10/dist-packages/PAMI/extras/syntheticDataGenerator/__init__.py)",
          "traceback": [
            "\u001b[0;31m---------------------------------------------------------------------------\u001b[0m",
            "\u001b[0;31mImportError\u001b[0m                               Traceback (most recent call last)",
            "\u001b[0;32m<ipython-input-6-27de3809c1d3>\u001b[0m in \u001b[0;36m<cell line: 1>\u001b[0;34m()\u001b[0m\n\u001b[0;32m----> 1\u001b[0;31m \u001b[0;32mfrom\u001b[0m \u001b[0mPAMI\u001b[0m\u001b[0;34m.\u001b[0m\u001b[0mextras\u001b[0m\u001b[0;34m.\u001b[0m\u001b[0msyntheticDataGenerator\u001b[0m\u001b[0;31m \u001b[0m\u001b[0;31m\\\u001b[0m\u001b[0;34m\u001b[0m\u001b[0;34m\u001b[0m\u001b[0m\n\u001b[0m\u001b[1;32m      2\u001b[0m     \u001b[0;32mimport\u001b[0m \u001b[0mgeoReferentialTemporalDatabase\u001b[0m \u001b[0;32mas\u001b[0m \u001b[0mdb\u001b[0m\u001b[0;34m\u001b[0m\u001b[0;34m\u001b[0m\u001b[0m\n\u001b[1;32m      3\u001b[0m \u001b[0;34m\u001b[0m\u001b[0m\n\u001b[1;32m      4\u001b[0m obj = db.geoReferentialTemporalDatabase(\n\u001b[1;32m      5\u001b[0m         \u001b[0mdatabaseSize\u001b[0m\u001b[0;34m=\u001b[0m\u001b[0;36m1000\u001b[0m\u001b[0;34m,\u001b[0m\u001b[0;34m\u001b[0m\u001b[0;34m\u001b[0m\u001b[0m\n",
            "\u001b[0;31mImportError\u001b[0m: cannot import name 'geoReferentialTemporalDatabase' from 'PAMI.extras.syntheticDataGenerator' (/usr/local/lib/python3.10/dist-packages/PAMI/extras/syntheticDataGenerator/__init__.py)",
            "",
            "\u001b[0;31m---------------------------------------------------------------------------\u001b[0;32m\nNOTE: If your import is failing due to a missing package, you can\nmanually install dependencies using either !pip or !apt.\n\nTo view examples of installing some common dependencies, click the\n\"Open Examples\" button below.\n\u001b[0;31m---------------------------------------------------------------------------\u001b[0m\n"
          ],
          "errorDetails": {
            "actions": [
              {
                "action": "open_url",
                "actionText": "Open Examples",
                "url": "/notebooks/snippets/importing_libraries.ipynb"
              }
            ]
          }
        }
      ]
    },
    {
      "cell_type": "markdown",
      "source": [
        "## Converting a Georeferenced Dataframe into a Georeferenced Transactional Database"
      ],
      "metadata": {
        "id": "WWxrCCXymdf8"
      },
      "id": "WWxrCCXymdf8"
    },
    {
      "cell_type": "markdown",
      "source": [
        "### Generic\n",
        "\n",
        "\n",
        "\n",
        "```python\n",
        "\n",
        "from PAMI.extras.convert import DF2DB as alg\n",
        "\n",
        "obj = alg.DF2DB(dataFrame)\n",
        "obj.convert2TransactionalDatabase(oFile='outputFileName.txt', condition='>=|>|<=|<|==|!=', thresholdValue=thresholdValue)\n",
        "print('Runtime: ' + str(obj.getRuntime()))\n",
        "print('Memory (RSS): ' + str(obj.getMemoryRSS()))\n",
        "print('Memory (USS): ' + str(obj.getMemoryUSS()))\n",
        "```\n",
        "\n"
      ],
      "metadata": {
        "id": "7oxhLiH0m-qK"
      },
      "id": "7oxhLiH0m-qK"
    },
    {
      "cell_type": "markdown",
      "source": [
        "### Example 3"
      ],
      "metadata": {
        "id": "OSqfgkWanCkc"
      },
      "id": "OSqfgkWanCkc"
    },
    {
      "cell_type": "code",
      "source": [
        "from PAMI.extras.convert import DF2DB as alg\n",
        "import pandas as pd\n",
        "import numpy as np\n",
        "#creating a 4 x 4 dataframe with random values\n",
        "data = np.random.randint(1, 100, size=(4, 4))\n",
        "dataFrame = pd.DataFrame(data,\n",
        "columns=['POINT(0 0)', 'POINT(0 1)',\n",
        "'POINT(0 2)', 'POINT(0 3)']\n",
        ")\n",
        "obj = alg.DF2DB(dataFrame)\n",
        "obj.convert2TransactionalDatabase(\n",
        "oFile='georeferencedTransactionalDatabase.txt',\n",
        "condition='>=', thresholdValue=36\n",
        ")\n",
        "print('Runtime: ' + str(obj.getRuntime()))\n",
        "print('Memory (RSS): ' + str(obj.getMemoryRSS()))\n",
        "print('Memory (USS): ' + str(obj.getMemoryUSS()))"
      ],
      "metadata": {
        "colab": {
          "base_uri": "https://localhost:8080/"
        },
        "id": "kt1L-C0Umj3q",
        "outputId": "01e580ff-cd99-41de-ce06-746363e3d857"
      },
      "id": "kt1L-C0Umj3q",
      "execution_count": 3,
      "outputs": [
        {
          "output_type": "stream",
          "name": "stdout",
          "text": [
            "Runtime: 0.021925687789916992\n",
            "Memory (RSS): 166391808\n",
            "Memory (USS): 144105472\n"
          ]
        }
      ]
    },
    {
      "cell_type": "markdown",
      "source": [
        "## Converting a Georeferenced Dataframe into a Georeferenced Temporal Database"
      ],
      "metadata": {
        "id": "rAcb22r-psuQ"
      },
      "id": "rAcb22r-psuQ"
    },
    {
      "cell_type": "markdown",
      "source": [
        "### Generic\n",
        "\n",
        "\n",
        "\n",
        "```python\n",
        "from PAMI.extras.convert import DF2DB as alg\n",
        "\n",
        "\n",
        "#converting the database into a transactional database by\n",
        "#considering values greater than or equal to 36\n",
        "obj = alg.DF2DB(dataFrame)\n",
        "obj.convert2TemporalDatabase(oFile='outputFileName', condition='>=|>|<=|<|==|!=', thresholdValue=36)\n",
        "\n",
        "print('Runtime: ' + str(obj.getRuntime()))\n",
        "print('Memory (RSS): ' + str(obj.getMemoryRSS()))\n",
        "print('Memory (USS): ' + str(obj.getMemoryUSS()))\n",
        "```\n",
        "\n"
      ],
      "metadata": {
        "id": "VMfa4ehep2sF"
      },
      "id": "VMfa4ehep2sF"
    },
    {
      "cell_type": "markdown",
      "source": [
        "### Example 4"
      ],
      "metadata": {
        "id": "ndimpkv7p5iE"
      },
      "id": "ndimpkv7p5iE"
    },
    {
      "cell_type": "code",
      "source": [
        "from PAMI.extras.convert import DF2DB as alg\n",
        "import pandas as pd\n",
        "import numpy as np\n",
        "\n",
        "#creating a 5 x 4 dataframe with random values\n",
        "data = np.random.randint(1, 100, size=(5, 4))\n",
        "dataFrame = pd.DataFrame(data,\n",
        "             columns=['POINT(0 0)', 'POINT(0 1)',\n",
        "             'POINT(0 2)', 'POINT(0 3)']\n",
        "            )\n",
        "# Adding a timestamp column with specific values\n",
        "timestamps = [1, 3, 3, 5, 8]\n",
        "dataFrame.insert(0, 'timestamp', timestamps)\n",
        "\n",
        "#converting the database into a transactional database by\n",
        "#considering values greater than or equal to 36\n",
        "obj = alg.DF2DB(dataFrame)\n",
        "obj.convert2TemporalDatabase(\n",
        "        oFile='georeferencedTemporalDatabase.txt',\n",
        "       condition='>=', thresholdValue=36\n",
        "     )\n",
        "print('Runtime: ' + str(obj.getRuntime()))\n",
        "print('Memory (RSS): ' + str(obj.getMemoryRSS()))\n",
        "print('Memory (USS): ' + str(obj.getMemoryUSS()))"
      ],
      "metadata": {
        "colab": {
          "base_uri": "https://localhost:8080/"
        },
        "id": "xDASdnHEpxtV",
        "outputId": "9265e09e-c98e-4b43-b4bc-662749e949ca"
      },
      "id": "xDASdnHEpxtV",
      "execution_count": 4,
      "outputs": [
        {
          "output_type": "stream",
          "name": "stdout",
          "text": [
            "Runtime: 0.005326509475708008\n",
            "Memory (RSS): 166391808\n",
            "Memory (USS): 144150528\n"
          ]
        }
      ]
    },
    {
      "cell_type": "markdown",
      "source": [
        "## Getting Statistical Details for a Geo-referenced Transactional Database"
      ],
      "metadata": {
        "id": "0zEqbScpq5hZ"
      },
      "id": "0zEqbScpq5hZ"
    },
    {
      "cell_type": "markdown",
      "source": [
        "### Generic\n",
        "\n",
        "\n",
        "```\n",
        "from PAMI.extras.dbStats import GeoreferencedTransactionalDatabase as stat\n",
        "\n",
        "obj = stat.GeoreferencedTransactionalDatabase(iFile=\"transactionalDatabase.csv\")\n",
        "obj.run()\n",
        "obj.printStats()\n",
        "obj.plotGraphs()\n",
        "obj.plotLocations()\n",
        "```\n",
        "\n"
      ],
      "metadata": {
        "id": "IjJIYsOcq7vP"
      },
      "id": "IjJIYsOcq7vP"
    },
    {
      "cell_type": "markdown",
      "source": [
        "### Example 5"
      ],
      "metadata": {
        "id": "2xklh1MKq9px"
      },
      "id": "2xklh1MKq9px"
    },
    {
      "cell_type": "code",
      "source": [
        "from PAMI.extras.dbStats import GeoreferencedTransactionalDatabase as stat\n",
        "\n",
        "obj = stat.GeoreferencedTransactionalDatabase(iFile=\"georeferencedTransactionalDatabase.txt\")\n",
        "obj.run()\n",
        "obj.printStats()\n",
        "obj.plotGraphs()\n",
        "obj.plotLocations()"
      ],
      "metadata": {
        "colab": {
          "base_uri": "https://localhost:8080/",
          "height": 1000
        },
        "id": "tfe5hD25q7VG",
        "outputId": "c67a8f61-1aed-4dac-aa5f-2fa15a7575dd"
      },
      "id": "tfe5hD25q7VG",
      "execution_count": 6,
      "outputs": [
        {
          "output_type": "stream",
          "name": "stdout",
          "text": [
            "Database size (total no of transactions) : 4\n",
            "Number of items : 4\n",
            "Minimum Transaction Size : 3\n",
            "Average Transaction Size : 3.0\n",
            "Maximum Transaction Size : 3\n",
            "Standard Deviation Transaction Size : 0.0\n",
            "Variance in Transaction Sizes : 0\n",
            "Sparsity : 0.25\n"
          ]
        },
        {
          "output_type": "error",
          "ename": "AttributeError",
          "evalue": "'GeoreferencedTransactionalDatabase' object has no attribute 'plotLocations'",
          "traceback": [
            "\u001b[0;31m---------------------------------------------------------------------------\u001b[0m",
            "\u001b[0;31mAttributeError\u001b[0m                            Traceback (most recent call last)",
            "\u001b[0;32m<ipython-input-6-1f45a52e40d5>\u001b[0m in \u001b[0;36m<cell line: 7>\u001b[0;34m()\u001b[0m\n\u001b[1;32m      5\u001b[0m \u001b[0mobj\u001b[0m\u001b[0;34m.\u001b[0m\u001b[0mprintStats\u001b[0m\u001b[0;34m(\u001b[0m\u001b[0;34m)\u001b[0m\u001b[0;34m\u001b[0m\u001b[0;34m\u001b[0m\u001b[0m\n\u001b[1;32m      6\u001b[0m \u001b[0mobj\u001b[0m\u001b[0;34m.\u001b[0m\u001b[0mplotGraphs\u001b[0m\u001b[0;34m(\u001b[0m\u001b[0;34m)\u001b[0m\u001b[0;34m\u001b[0m\u001b[0;34m\u001b[0m\u001b[0m\n\u001b[0;32m----> 7\u001b[0;31m \u001b[0mobj\u001b[0m\u001b[0;34m.\u001b[0m\u001b[0mplotLocations\u001b[0m\u001b[0;34m(\u001b[0m\u001b[0;34m)\u001b[0m\u001b[0;34m\u001b[0m\u001b[0;34m\u001b[0m\u001b[0m\n\u001b[0m",
            "\u001b[0;31mAttributeError\u001b[0m: 'GeoreferencedTransactionalDatabase' object has no attribute 'plotLocations'"
          ]
        },
        {
          "output_type": "display_data",
          "data": {
            "text/plain": [
              "<Figure size 640x480 with 1 Axes>"
            ],
            "image/png": "[encoded data removed]"
          },
          "metadata": {}
        },
        {
          "output_type": "display_data",
          "data": {
            "text/plain": [
              "<Figure size 640x480 with 1 Axes>"
            ],
            "image/png": "[encoded data removed]"
          },
          "metadata": {}
        }
      ]
    },
    {
      "cell_type": "markdown",
      "source": [
        "## Getting Statistical Details for a Geo-referenced Timeseries Database"
      ],
      "metadata": {
        "id": "sc6bbeRrvdH6"
      },
      "id": "sc6bbeRrvdH6"
    },
    {
      "cell_type": "markdown",
      "source": [
        "### Generic\n",
        "\n",
        "```python\n",
        "from PAMI.extras.dbStats import  GeoreferencedTemporalDatabase as stat\n",
        "\n",
        "obj = stat.GeoreferencedTemporalDatabase(iFile=\"georeferencedTemporalDatabase.txt\")\n",
        "obj.run()\n",
        "obj.printStats()\n",
        "obj.plotGraphs()\n",
        "\n",
        "```"
      ],
      "metadata": {
        "id": "tcU6Pp-5FGyR"
      },
      "id": "tcU6Pp-5FGyR"
    },
    {
      "cell_type": "markdown",
      "source": [
        "### Example 6"
      ],
      "metadata": {
        "id": "w5bz6FfFFRKr"
      },
      "id": "w5bz6FfFFRKr"
    },
    {
      "cell_type": "code",
      "source": [
        "from PAMI.extras.dbStats import  GeoreferencedTemporalDatabase as stat\n",
        "\n",
        "obj = stat.GeoreferencedTemporalDatabase(iFile=\"georeferencedTemporalDatabase.txt\")\n",
        "obj.run()\n",
        "obj.printStats()\n",
        "obj.plotGraphs()"
      ],
      "metadata": {
        "id": "AjR7CDylrb2q",
        "colab": {
          "base_uri": "https://localhost:8080/",
          "height": 1000
        },
        "outputId": "617a067e-2425-4a0c-f7d6-68ee285080bd"
      },
      "id": "AjR7CDylrb2q",
      "execution_count": 8,
      "outputs": [
        {
          "output_type": "stream",
          "name": "stdout",
          "text": [
            "Database size : 5\n",
            "Number of items : 4\n",
            "Minimum Transaction Size : 1\n",
            "Average Transaction Size : 2.0\n",
            "Maximum Transaction Size : 3\n",
            "Minimum Inter Arrival Period : 1\n",
            "Average Inter Arrival Period : 1.0\n",
            "Maximum Inter Arrival Period : 1\n",
            "Minimum periodicity : 2\n",
            "Average periodicity : 2.5\n",
            "Maximum periodicicty : 4\n",
            "Standard Deviation Transaction Size : 0.6324555320336759\n",
            "Variance : 0.5\n",
            "Sparsity : 0.5\n"
          ]
        },
        {
          "output_type": "display_data",
          "data": {
            "text/plain": [
              "<Figure size 640x480 with 1 Axes>"
            ],
            "image/png": "[encoded data removed]"
          },
          "metadata": {}
        },
        {
          "output_type": "display_data",
          "data": {
            "text/plain": [
              "<Figure size 640x480 with 1 Axes>"
            ],
            "image/png": "[encoded data removed]"
          },
          "metadata": {}
        }
      ]
    },
    {
      "cell_type": "code",
      "source": [],
      "metadata": {
        "id": "oIepW8fbFPeh"
      },
      "id": "oIepW8fbFPeh",
      "execution_count": null,
      "outputs": []
    }
  ],
  "metadata": {
    "kernelspec": {
      "display_name": "Python 3",
      "language": "python",
      "name": "python3"
    },
    "language_info": {
      "codemirror_mode": {
        "name": "ipython",
        "version": 2
      },
      "file_extension": ".py",
      "mimetype": "text/x-python",
      "name": "python",
      "nbconvert_exporter": "python",
      "pygments_lexer": "ipython2",
      "version": "2.7.6"
    },
    "colab": {
      "provenance": [],
      "toc_visible": true,
      "include_colab_link": true
    }
  },
  "nbformat": 4,
  "nbformat_minor": 5
}