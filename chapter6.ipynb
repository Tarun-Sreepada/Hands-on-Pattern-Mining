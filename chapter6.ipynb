{
  "cells": [
    {
      "cell_type": "markdown",
      "metadata": {
        "id": "view-in-github",
        "colab_type": "text"
      },
      "source": [
        "<a href=\"https://colab.research.google.com/github/UdayLab/Hands-on-Pattern-Mining/blob/main/chapter6.ipynb\" target=\"_parent\"><img src=\"https://colab.research.google.com/assets/colab-badge.svg\" alt=\"Open In Colab\"/></a>"
      ]
    },
    {
      "cell_type": "markdown",
      "source": [
        "# Chapter 6: Pattern Discovery in Temporal Databases"
      ],
      "metadata": {
        "id": "bSDv12mPf0PV"
      },
      "id": "bSDv12mPf0PV"
    },
    {
      "cell_type": "markdown",
      "source": [
        "## Install the PAMI repository"
      ],
      "metadata": {
        "id": "Pf44oIJRgBK1"
      },
      "id": "Pf44oIJRgBK1"
    },
    {
      "cell_type": "code",
      "source": [
        "!pip install PAMI"
      ],
      "metadata": {
        "colab": {
          "base_uri": "https://localhost:8080/"
        },
        "id": "Di-DNu0Gf-ny",
        "outputId": "89d9393f-9651-4bfb-910d-5f25ae229272"
      },
      "id": "Di-DNu0Gf-ny",
      "execution_count": null,
      "outputs": [
        {
          "output_type": "stream",
          "name": "stdout",
          "text": [
            "Requirement already satisfied: PAMI in /usr/local/lib/python3.11/dist-packages (2025.3.25.1)\n",
            "Requirement already satisfied: psutil in /usr/local/lib/python3.11/dist-packages (from PAMI) (5.9.5)\n",
            "Requirement already satisfied: pandas in /usr/local/lib/python3.11/dist-packages (from PAMI) (2.2.2)\n",
            "Requirement already satisfied: plotly in /usr/local/lib/python3.11/dist-packages (from PAMI) (5.24.1)\n",
            "Requirement already satisfied: matplotlib in /usr/local/lib/python3.11/dist-packages (from PAMI) (3.10.0)\n",
            "Requirement already satisfied: resource in /usr/local/lib/python3.11/dist-packages (from PAMI) (0.2.1)\n",
            "Requirement already satisfied: validators in /usr/local/lib/python3.11/dist-packages (from PAMI) (0.35.0)\n",
            "Requirement already satisfied: urllib3 in /usr/local/lib/python3.11/dist-packages (from PAMI) (2.4.0)\n",
            "Requirement already satisfied: Pillow in /usr/local/lib/python3.11/dist-packages (from PAMI) (11.2.1)\n",
            "Requirement already satisfied: numpy in /usr/local/lib/python3.11/dist-packages (from PAMI) (2.0.2)\n",
            "Requirement already satisfied: sphinx in /usr/local/lib/python3.11/dist-packages (from PAMI) (8.2.3)\n",
            "Requirement already satisfied: sphinx-rtd-theme in /usr/local/lib/python3.11/dist-packages (from PAMI) (3.0.2)\n",
            "Requirement already satisfied: discord.py in /usr/local/lib/python3.11/dist-packages (from PAMI) (2.5.2)\n",
            "Requirement already satisfied: networkx in /usr/local/lib/python3.11/dist-packages (from PAMI) (3.5)\n",
            "Requirement already satisfied: deprecated in /usr/local/lib/python3.11/dist-packages (from PAMI) (1.2.18)\n",
            "Requirement already satisfied: fastparquet in /usr/local/lib/python3.11/dist-packages (from PAMI) (2024.11.0)\n",
            "Requirement already satisfied: wrapt<2,>=1.10 in /usr/local/lib/python3.11/dist-packages (from deprecated->PAMI) (1.17.2)\n",
            "Requirement already satisfied: aiohttp<4,>=3.7.4 in /usr/local/lib/python3.11/dist-packages (from discord.py->PAMI) (3.11.15)\n",
            "Requirement already satisfied: cramjam>=2.3 in /usr/local/lib/python3.11/dist-packages (from fastparquet->PAMI) (2.10.0)\n",
            "Requirement already satisfied: fsspec in /usr/local/lib/python3.11/dist-packages (from fastparquet->PAMI) (2025.3.2)\n",
            "Requirement already satisfied: packaging in /usr/local/lib/python3.11/dist-packages (from fastparquet->PAMI) (24.2)\n",
            "Requirement already satisfied: python-dateutil>=2.8.2 in /usr/local/lib/python3.11/dist-packages (from pandas->PAMI) (2.9.0.post0)\n",
            "Requirement already satisfied: pytz>=2020.1 in /usr/local/lib/python3.11/dist-packages (from pandas->PAMI) (2025.2)\n",
            "Requirement already satisfied: tzdata>=2022.7 in /usr/local/lib/python3.11/dist-packages (from pandas->PAMI) (2025.2)\n",
            "Requirement already satisfied: contourpy>=1.0.1 in /usr/local/lib/python3.11/dist-packages (from matplotlib->PAMI) (1.3.2)\n",
            "Requirement already satisfied: cycler>=0.10 in /usr/local/lib/python3.11/dist-packages (from matplotlib->PAMI) (0.12.1)\n",
            "Requirement already satisfied: fonttools>=4.22.0 in /usr/local/lib/python3.11/dist-packages (from matplotlib->PAMI) (4.58.1)\n",
            "Requirement already satisfied: kiwisolver>=1.3.1 in /usr/local/lib/python3.11/dist-packages (from matplotlib->PAMI) (1.4.8)\n",
            "Requirement already satisfied: pyparsing>=2.3.1 in /usr/local/lib/python3.11/dist-packages (from matplotlib->PAMI) (3.2.3)\n",
            "Requirement already satisfied: tenacity>=6.2.0 in /usr/local/lib/python3.11/dist-packages (from plotly->PAMI) (9.1.2)\n",
            "Requirement already satisfied: JsonForm>=0.0.2 in /usr/local/lib/python3.11/dist-packages (from resource->PAMI) (0.0.2)\n",
            "Requirement already satisfied: JsonSir>=0.0.2 in /usr/local/lib/python3.11/dist-packages (from resource->PAMI) (0.0.2)\n",
            "Requirement already satisfied: python-easyconfig>=0.1.0 in /usr/local/lib/python3.11/dist-packages (from resource->PAMI) (0.1.7)\n",
            "Requirement already satisfied: sphinxcontrib-applehelp>=1.0.7 in /usr/local/lib/python3.11/dist-packages (from sphinx->PAMI) (2.0.0)\n",
            "Requirement already satisfied: sphinxcontrib-devhelp>=1.0.6 in /usr/local/lib/python3.11/dist-packages (from sphinx->PAMI) (2.0.0)\n",
            "Requirement already satisfied: sphinxcontrib-htmlhelp>=2.0.6 in /usr/local/lib/python3.11/dist-packages (from sphinx->PAMI) (2.1.0)\n",
            "Requirement already satisfied: sphinxcontrib-jsmath>=1.0.1 in /usr/local/lib/python3.11/dist-packages (from sphinx->PAMI) (1.0.1)\n",
            "Requirement already satisfied: sphinxcontrib-qthelp>=1.0.6 in /usr/local/lib/python3.11/dist-packages (from sphinx->PAMI) (2.0.0)\n",
            "Requirement already satisfied: sphinxcontrib-serializinghtml>=1.1.9 in /usr/local/lib/python3.11/dist-packages (from sphinx->PAMI) (2.0.0)\n",
            "Requirement already satisfied: Jinja2>=3.1 in /usr/local/lib/python3.11/dist-packages (from sphinx->PAMI) (3.1.6)\n",
            "Requirement already satisfied: Pygments>=2.17 in /usr/local/lib/python3.11/dist-packages (from sphinx->PAMI) (2.19.1)\n",
            "Requirement already satisfied: docutils<0.22,>=0.20 in /usr/local/lib/python3.11/dist-packages (from sphinx->PAMI) (0.21.2)\n",
            "Requirement already satisfied: snowballstemmer>=2.2 in /usr/local/lib/python3.11/dist-packages (from sphinx->PAMI) (3.0.1)\n",
            "Requirement already satisfied: babel>=2.13 in /usr/local/lib/python3.11/dist-packages (from sphinx->PAMI) (2.17.0)\n",
            "Requirement already satisfied: alabaster>=0.7.14 in /usr/local/lib/python3.11/dist-packages (from sphinx->PAMI) (1.0.0)\n",
            "Requirement already satisfied: imagesize>=1.3 in /usr/local/lib/python3.11/dist-packages (from sphinx->PAMI) (1.4.1)\n",
            "Requirement already satisfied: requests>=2.30.0 in /usr/local/lib/python3.11/dist-packages (from sphinx->PAMI) (2.32.3)\n",
            "Requirement already satisfied: roman-numerals-py>=1.0.0 in /usr/local/lib/python3.11/dist-packages (from sphinx->PAMI) (3.1.0)\n",
            "Requirement already satisfied: sphinxcontrib-jquery<5,>=4 in /usr/local/lib/python3.11/dist-packages (from sphinx-rtd-theme->PAMI) (4.1)\n",
            "Requirement already satisfied: aiohappyeyeballs>=2.3.0 in /usr/local/lib/python3.11/dist-packages (from aiohttp<4,>=3.7.4->discord.py->PAMI) (2.6.1)\n",
            "Requirement already satisfied: aiosignal>=1.1.2 in /usr/local/lib/python3.11/dist-packages (from aiohttp<4,>=3.7.4->discord.py->PAMI) (1.3.2)\n",
            "Requirement already satisfied: attrs>=17.3.0 in /usr/local/lib/python3.11/dist-packages (from aiohttp<4,>=3.7.4->discord.py->PAMI) (25.3.0)\n",
            "Requirement already satisfied: frozenlist>=1.1.1 in /usr/local/lib/python3.11/dist-packages (from aiohttp<4,>=3.7.4->discord.py->PAMI) (1.6.0)\n",
            "Requirement already satisfied: multidict<7.0,>=4.5 in /usr/local/lib/python3.11/dist-packages (from aiohttp<4,>=3.7.4->discord.py->PAMI) (6.4.4)\n",
            "Requirement already satisfied: propcache>=0.2.0 in /usr/local/lib/python3.11/dist-packages (from aiohttp<4,>=3.7.4->discord.py->PAMI) (0.3.1)\n",
            "Requirement already satisfied: yarl<2.0,>=1.17.0 in /usr/local/lib/python3.11/dist-packages (from aiohttp<4,>=3.7.4->discord.py->PAMI) (1.20.0)\n",
            "Requirement already satisfied: MarkupSafe>=2.0 in /usr/local/lib/python3.11/dist-packages (from Jinja2>=3.1->sphinx->PAMI) (3.0.2)\n",
            "Requirement already satisfied: jsonschema in /usr/local/lib/python3.11/dist-packages (from JsonForm>=0.0.2->resource->PAMI) (4.24.0)\n",
            "Requirement already satisfied: six>=1.5 in /usr/local/lib/python3.11/dist-packages (from python-dateutil>=2.8.2->pandas->PAMI) (1.17.0)\n",
            "Requirement already satisfied: PyYAML in /usr/local/lib/python3.11/dist-packages (from python-easyconfig>=0.1.0->resource->PAMI) (6.0.2)\n",
            "Requirement already satisfied: charset-normalizer<4,>=2 in /usr/local/lib/python3.11/dist-packages (from requests>=2.30.0->sphinx->PAMI) (3.4.2)\n",
            "Requirement already satisfied: idna<4,>=2.5 in /usr/local/lib/python3.11/dist-packages (from requests>=2.30.0->sphinx->PAMI) (3.10)\n",
            "Requirement already satisfied: certifi>=2017.4.17 in /usr/local/lib/python3.11/dist-packages (from requests>=2.30.0->sphinx->PAMI) (2025.4.26)\n",
            "Requirement already satisfied: jsonschema-specifications>=2023.03.6 in /usr/local/lib/python3.11/dist-packages (from jsonschema->JsonForm>=0.0.2->resource->PAMI) (2025.4.1)\n",
            "Requirement already satisfied: referencing>=0.28.4 in /usr/local/lib/python3.11/dist-packages (from jsonschema->JsonForm>=0.0.2->resource->PAMI) (0.36.2)\n",
            "Requirement already satisfied: rpds-py>=0.7.1 in /usr/local/lib/python3.11/dist-packages (from jsonschema->JsonForm>=0.0.2->resource->PAMI) (0.25.1)\n",
            "Requirement already satisfied: typing-extensions>=4.4.0 in /usr/local/lib/python3.11/dist-packages (from referencing>=0.28.4->jsonschema->JsonForm>=0.0.2->resource->PAMI) (4.14.0)\n"
          ]
        }
      ]
    },
    {
      "cell_type": "markdown",
      "source": [
        "## Download a sample database"
      ],
      "metadata": {
        "id": "ExFvurRMgLcO"
      },
      "id": "ExFvurRMgLcO"
    },
    {
      "cell_type": "code",
      "source": [
        "!wget -nc --no-check-certificate https://github.com/UdayLab/Hands-on-Pattern-Mining/raw/main/datasets/Temporal_T10I4D100K.csv"
      ],
      "metadata": {
        "colab": {
          "base_uri": "https://localhost:8080/"
        },
        "id": "utJfyW0XgIhy",
        "outputId": "fcdaca6c-a92e-4043-b53b-4848081c43a1"
      },
      "id": "utJfyW0XgIhy",
      "execution_count": null,
      "outputs": [
        {
          "output_type": "stream",
          "name": "stdout",
          "text": [
            "--2025-06-14 08:17:58--  https://github.com/UdayLab/Hands-on-Pattern-Mining/raw/main/datasets/Temporal_T10I4D100K.csv\n",
            "Resolving github.com (github.com)... 140.82.112.4\n",
            "Connecting to github.com (github.com)|140.82.112.4|:443... connected.\n",
            "HTTP request sent, awaiting response... 302 Found\n",
            "Location: https://raw.githubusercontent.com/UdayLab/Hands-on-Pattern-Mining/main/datasets/Temporal_T10I4D100K.csv [following]\n",
            "--2025-06-14 08:17:59--  https://raw.githubusercontent.com/UdayLab/Hands-on-Pattern-Mining/main/datasets/Temporal_T10I4D100K.csv\n",
            "Resolving raw.githubusercontent.com (raw.githubusercontent.com)... 185.199.110.133, 185.199.108.133, 185.199.111.133, ...\n",
            "Connecting to raw.githubusercontent.com (raw.githubusercontent.com)|185.199.110.133|:443... connected.\n",
            "HTTP request sent, awaiting response... 200 OK\n",
            "Length: 4506849 (4.3M) [text/plain]\n",
            "Saving to: ‘Temporal_T10I4D100K.csv’\n",
            "\n",
            "Temporal_T10I4D100K 100%[===================>]   4.30M  --.-KB/s    in 0.08s   \n",
            "\n",
            "2025-06-14 08:18:00 (54.4 MB/s) - ‘Temporal_T10I4D100K.csv’ saved [4506849/4506849]\n",
            "\n"
          ]
        }
      ]
    },
    {
      "cell_type": "markdown",
      "source": [
        "## Finding Periodic-Frequent Patterns"
      ],
      "metadata": {
        "id": "bOs6qrexhlvj"
      },
      "id": "bOs6qrexhlvj"
    },
    {
      "cell_type": "markdown",
      "source": [
        "### Syntax"
      ],
      "metadata": {
        "id": "nw-mfmwfhqiT"
      },
      "id": "nw-mfmwfhqiT"
    },
    {
      "cell_type": "markdown",
      "source": [
        "```\n",
        "# Import the algorithm\n",
        "from PAMI.periodicFrequentPattern.basic import PFPGrowthPlus as alg\n",
        "\n",
        "obj = alg.PFPGrowthPlus(iFile, minSup, maxPer, sep) # Initialize\n",
        "obj.mine()\n",
        "obj.save('periodicFrequentPatterns.txt')\n",
        "\n",
        "patternsDF = obj.getPatternsAsDataFrame()\n",
        "print('Patterns: ' + str(len(patternsDF)))\n",
        "print('Runtime: ' + str(obj.getRuntime()))\n",
        "print('Memory (RSS): ' + str(obj.getMemoryRSS()))\n",
        "print('Memory (USS): ' + str(obj.getMemoryUSS()))\n",
        "```"
      ],
      "metadata": {
        "id": "H7VeCCPLhtND"
      },
      "id": "H7VeCCPLhtND"
    },
    {
      "cell_type": "markdown",
      "source": [
        "### Example 1"
      ],
      "metadata": {
        "id": "rdcrp4-bh7mU"
      },
      "id": "rdcrp4-bh7mU"
    },
    {
      "cell_type": "code",
      "source": [
        "from PAMI.periodicFrequentPattern.basic import PFPGrowthPlus as alg # Import the algorithm\n",
        "\n",
        "obj = alg.PFPGrowthPlus(iFile='Temporal_T10I4D100K.csv', minSup=100, maxPer='2000', sep='\\t') # Initialize\n",
        "obj.mine()\n",
        "obj.save('periodicFrequentPatterns.txt')\n",
        "\n",
        "patternsDF = obj.getPatternsAsDataFrame()\n",
        "print('Patterns: ' + str(len(patternsDF)))\n",
        "print('Runtime: ' + str(obj.getRuntime()))\n",
        "print('Memory (RSS): ' + str(obj.getMemoryRSS()))\n",
        "print('Memory (USS): ' + str(obj.getMemoryUSS()))"
      ],
      "metadata": {
        "colab": {
          "base_uri": "https://localhost:8080/"
        },
        "id": "TLsza0Fvgrv6",
        "outputId": "6b350f59-8970-47a3-bfac-7f6af2ce20eb"
      },
      "id": "TLsza0Fvgrv6",
      "execution_count": null,
      "outputs": [
        {
          "output_type": "stream",
          "name": "stdout",
          "text": [
            "periodic-frequent patterns were generated successfully using PFPGrowth++ algorithm \n",
            "Patterns: 18\n",
            "Runtime: 1.2510647773742676\n",
            "Memory (RSS): 278003712\n",
            "Memory (USS): 257417216\n"
          ]
        }
      ]
    },
    {
      "cell_type": "markdown",
      "source": [
        "## Finding Closed Periodic-Frequent Patterns"
      ],
      "metadata": {
        "id": "5Fmb92Y9iFxt"
      },
      "id": "5Fmb92Y9iFxt"
    },
    {
      "cell_type": "markdown",
      "source": [
        "### Syntax"
      ],
      "metadata": {
        "id": "NkYbh6a0iM59"
      },
      "id": "NkYbh6a0iM59"
    },
    {
      "cell_type": "markdown",
      "source": [
        "```\n",
        "#import the algorithm\n",
        "from PAMI.periodicFrequentPattern.closed import CPFPMiner as alg\n",
        "\n",
        "#pass the input arguments (or parameters)\n",
        "obj = alg.CPFPMiner(iFile, minSup, maxPer, sep)\n",
        "\n",
        "#mine the patterns\n",
        "obj.mine()\n",
        "\n",
        "#save the patterns in a file\n",
        "obj.save('closedPeriodicFrequentPatterns.txt')\n",
        "\n",
        "#Get the discovered patterns in a dataframe format\n",
        "patternsDF = obj.getPatternsAsDataFrame()\n",
        "\n",
        "#print the statistics\n",
        "print('Patterns: ' + str(len(patternsDF)))\n",
        "print('Runtime: ' + str(obj.getRuntime()))\n",
        "print('Memory (RSS): ' + str(obj.getMemoryRSS()))\n",
        "print('Memory (USS): ' + str(obj.getMemoryUSS()))\n",
        "```"
      ],
      "metadata": {
        "id": "8o7eahwoiPH9"
      },
      "id": "8o7eahwoiPH9"
    },
    {
      "cell_type": "markdown",
      "source": [
        "### Example 2"
      ],
      "metadata": {
        "id": "FysBz54Aiqmf"
      },
      "id": "FysBz54Aiqmf"
    },
    {
      "cell_type": "code",
      "source": [
        "from PAMI.periodicFrequentPattern.closed import CPFPMiner as alg\n",
        "\n",
        "obj = alg.CPFPMiner(iFile='Temporal_T10I4D100K.csv', minSup=100, maxPer=2000, sep='\\t')\n",
        "\n",
        "obj.mine()\n",
        "obj.save('closedPeriodicFrequentPatterns.txt')\n",
        "\n",
        "patternsDF = obj.getPatternsAsDataFrame()\n",
        "print('Patterns: ' + str(len(patternsDF)))\n",
        "print('Runtime: ' + str(obj.getRuntime()))\n",
        "print('Memory (RSS): ' + str(obj.getMemoryRSS()))\n",
        "print('Memory (USS): ' + str(obj.getMemoryUSS()))"
      ],
      "metadata": {
        "colab": {
          "base_uri": "https://localhost:8080/"
        },
        "id": "oUZCISNwhkf6",
        "outputId": "43c56eaa-9e72-4f41-f2f0-f5a46db292eb"
      },
      "id": "oUZCISNwhkf6",
      "execution_count": null,
      "outputs": [
        {
          "output_type": "stream",
          "name": "stdout",
          "text": [
            "Closed periodic frequent patterns were generated successfully using CPFPMiner algorithm \n",
            "Patterns: 4834\n",
            "Runtime: 47.8831090927124\n",
            "Memory (RSS): 232337408\n",
            "Memory (USS): 211615744\n"
          ]
        }
      ]
    },
    {
      "cell_type": "markdown",
      "source": [
        "## Finding Maximal Periodic-Frequent Patterns"
      ],
      "metadata": {
        "id": "snq2jEd6iyPH"
      },
      "id": "snq2jEd6iyPH"
    },
    {
      "cell_type": "markdown",
      "source": [
        "### Syntax\n",
        "\n",
        "```\n",
        "#import the algorithm\n",
        "from PAMI.periodicFrequentPattern.maximal  import MaxPFGrowth as alg\n",
        "\n",
        "#pass the input parameters\n",
        "obj = alg.MaxPFGrowth(iFile, minSup, maxPer, sep)\n",
        "\n",
        "#mine the patterns\n",
        "obj.mine()\n",
        "\n",
        "#save the patterns in a file\n",
        "obj.save('maximalPeriodicFrequentPatterns.txt')\n",
        "\n",
        "#get the discovered patterns in a dataframe\n",
        "patternsDF = obj.getPatternsAsDataFrame()\n",
        "\n",
        "#print the stats\n",
        "print('Patterns: ' + str(len(patternsDF)))\n",
        "print('Runtime: ' + str(obj.getRuntime()))\n",
        "print('Memory (RSS): ' + str(obj.getMemoryRSS()))\n",
        "print('Memory (USS): ' + str(obj.getMemoryUSS()))\n",
        "```"
      ],
      "metadata": {
        "id": "N8M_S1dCi-LY"
      },
      "id": "N8M_S1dCi-LY"
    },
    {
      "cell_type": "markdown",
      "source": [
        "### Example 3"
      ],
      "metadata": {
        "id": "ZMVO3CnCjWei"
      },
      "id": "ZMVO3CnCjWei"
    },
    {
      "cell_type": "code",
      "source": [
        "from PAMI.periodicFrequentPattern.maximal  import MaxPFGrowth as alg\n",
        "\n",
        "obj = alg.MaxPFGrowth(iFile='Temporal_T10I4D100K.csv', minSup=100, maxPer=2000, sep='\\t')\n",
        "\n",
        "obj.mine()\n",
        "obj.save('maximalPeriodicFrequentPatterns.txt')\n",
        "\n",
        "patternsDF = obj.getPatternsAsDataFrame()\n",
        "print('Patterns: ' + str(len(patternsDF)))\n",
        "print('Runtime: ' + str(obj.getRuntime()))\n",
        "print('Memory (RSS): ' + str(obj.getMemoryRSS()))\n",
        "print('Memory (USS): ' + str(obj.getMemoryUSS()))"
      ],
      "metadata": {
        "colab": {
          "base_uri": "https://localhost:8080/"
        },
        "id": "qcjrSnWei9db",
        "outputId": "5c58da11-a792-4022-ec87-c486344fcd77"
      },
      "id": "qcjrSnWei9db",
      "execution_count": null,
      "outputs": [
        {
          "output_type": "stream",
          "name": "stdout",
          "text": [
            "Maximal Periodic Frequent patterns were generated successfully using MAX-PFPGrowth algorithm \n",
            "Patterns: 920\n",
            "Runtime: 21.802698612213135\n",
            "Memory (RSS): 575463424\n",
            "Memory (USS): 554782720\n"
          ]
        }
      ]
    },
    {
      "cell_type": "markdown",
      "source": [
        "## Finding Top-K Periodic-Frequent Patterns"
      ],
      "metadata": {
        "id": "cKhLtEtmkZYm"
      },
      "id": "cKhLtEtmkZYm"
    },
    {
      "cell_type": "markdown",
      "source": [
        "### Syntax\n",
        "\n",
        "```\n",
        "#import the algorithm\n",
        "from PAMI.periodicFrequentPattern.topk.kPFPMiner import kPFPMiner as alg\n",
        "\n",
        "#pass the input parameters\n",
        "obj = alg.kPFPMiner(iFile, k, sep)\n",
        "\n",
        "#mine the patterns\n",
        "obj.mine()\n",
        "\n",
        "#save the patterns in a file\n",
        "obj.save('topkPeriodicFrequentPatterns.txt')\n",
        "\n",
        "#get the discovered patterns in a dataframe format\n",
        "kPatternsDF = obj.getPatternsAsDataFrame()\n",
        "\n",
        "#print the stats\n",
        "print('#Patterns: ' + str(len(kPatternsDF)))\n",
        "print('Runtime: ' + str(obj.getRuntime()))\n",
        "print('Memory (RSS): ' + str(obj.getMemoryRSS()))\n",
        "print('Memory (USS): ' + str(obj.getMemoryUSS()))\n",
        "```"
      ],
      "metadata": {
        "id": "x89Ef-eAkdi-"
      },
      "id": "x89Ef-eAkdi-"
    },
    {
      "cell_type": "markdown",
      "source": [
        "### Example 4"
      ],
      "metadata": {
        "id": "-AVRT6UlkxpY"
      },
      "id": "-AVRT6UlkxpY"
    },
    {
      "cell_type": "code",
      "source": [
        "from PAMI.periodicFrequentPattern.topk.kPFPMiner import kPFPMiner as alg\n",
        "\n",
        "obj = alg.kPFPMiner(iFile='Temporal_T10I4D100K.csv', k=1000, sep='\\t')\n",
        "obj.mine()\n",
        "\n",
        "obj.save('topkPeriodicFrequentPatterns.txt')\n",
        "\n",
        "kPatternsDF = obj.getPatternsAsDataFrame()\n",
        "print('#Patterns: ' + str(len(kPatternsDF)))\n",
        "print('Runtime: ' + str(obj.getRuntime()))\n",
        "print('Memory (RSS): ' + str(obj.getMemoryRSS()))\n",
        "print('Memory (USS): ' + str(obj.getMemoryUSS()))"
      ],
      "metadata": {
        "colab": {
          "base_uri": "https://localhost:8080/"
        },
        "id": "CLqU6MQ9kctQ",
        "outputId": "4fd9225b-adb7-4e1c-ec87-e27afeb5d23f"
      },
      "id": "CLqU6MQ9kctQ",
      "execution_count": null,
      "outputs": [
        {
          "output_type": "stream",
          "name": "stdout",
          "text": [
            "kPFPMiner has successfully generated top-k frequent patterns\n",
            "#Patterns: 1000\n",
            "Runtime: 63.6779670715332\n",
            "Memory (RSS): 369688576\n",
            "Memory (USS): 348934144\n"
          ]
        }
      ]
    },
    {
      "cell_type": "markdown",
      "source": [
        "## Finding Periodic-Correlated Patterns"
      ],
      "metadata": {
        "id": "1NrvS28Fk2KH"
      },
      "id": "1NrvS28Fk2KH"
    },
    {
      "cell_type": "markdown",
      "source": [
        "### Syntax\n",
        "\n",
        "```\n",
        "#import the algorithm\n",
        "from PAMI.periodicCorrelatedPattern.basic import EPCPGrowth as alg\n",
        "\n",
        "# Initialize the EPCPGrowth algorithm with the appropriate parameters\n",
        "obj = alg.EPCPGrowth(iFile,minSup,minAllConf,maxPer,maxPerAllConf,sep='\\t')\n",
        "\n",
        "# Mine the periodic-correlated patterns\n",
        "obj.mine()\n",
        "\n",
        "# Save the patterns to a file\n",
        "obj.save('correlatedPeriodicFrequentPatterns.txt')\n",
        "\n",
        "# Retrieve the patterns as a DataFrame\n",
        "correlatedPFPs = obj.getPatternsAsDataFrame()\n",
        "\n",
        "# Display summary information\n",
        "print('#Patterns: ' + str(len(correlatedPFPs)))\n",
        "print('Runtime: ' + str(obj.getRuntime()))\n",
        "print('Memory (RSS): ' + str(obj.getMemoryRSS()))\n",
        "print('Memory (USS): ' + str(obj.getMemoryUSS()))\n",
        "```"
      ],
      "metadata": {
        "id": "b9-r4cEyk-5Y"
      },
      "id": "b9-r4cEyk-5Y"
    },
    {
      "cell_type": "markdown",
      "source": [
        "### Example 5"
      ],
      "metadata": {
        "id": "24CqaNP4lWpK"
      },
      "id": "24CqaNP4lWpK"
    },
    {
      "cell_type": "code",
      "source": [
        "from PAMI.periodicCorrelatedPattern.basic import EPCPGrowth as alg\n",
        "\n",
        "# Initialize the EPCPGrowth algorithm with the appropriate parameters\n",
        "obj = alg.EPCPGrowth(\n",
        "        iFile='Temporal_T10I4D100K.csv',\n",
        "        minSup=100,\n",
        "        minAllConf=0.7,\n",
        "        maxPer=2000,\n",
        "        maxPerAllConf=1.5,\n",
        "        sep='\\t')\n",
        "\n",
        "# Mine the periodic-correlated patterns\n",
        "obj.mine()\n",
        "\n",
        "# Save the patterns to a file\n",
        "obj.save('correlatedPeriodicFrequentPatterns.txt')\n",
        "\n",
        "# Retrieve the patterns as a DataFrame\n",
        "correlatedPFPs = obj.getPatternsAsDataFrame()\n",
        "\n",
        "# Display summary information\n",
        "print('#Patterns: ' + str(len(correlatedPFPs)))\n",
        "print('Runtime: ' + str(obj.getRuntime()))\n",
        "print('Memory (RSS): ' + str(obj.getMemoryRSS()))\n",
        "print('Memory (USS): ' + str(obj.getMemoryUSS()))"
      ],
      "metadata": {
        "colab": {
          "base_uri": "https://localhost:8080/"
        },
        "id": "_HXCkE6-k9yQ",
        "outputId": "e7995e28-b377-4e41-8c6a-64d0cd2f1817"
      },
      "id": "_HXCkE6-k9yQ",
      "execution_count": null,
      "outputs": [
        {
          "output_type": "stream",
          "name": "stdout",
          "text": [
            "Correlated Periodic-Frequent patterns were generated successfully using EPCPGrowth algorithm \n",
            "#Patterns: 679\n",
            "Runtime: 21.492053747177124\n",
            "Memory (RSS): 575119360\n",
            "Memory (USS): 554360832\n"
          ]
        }
      ]
    },
    {
      "cell_type": "markdown",
      "source": [
        "## Finding Partial Periodic-Frequent Patterns"
      ],
      "metadata": {
        "id": "TsRU239wloAa"
      },
      "id": "TsRU239wloAa"
    },
    {
      "cell_type": "markdown",
      "source": [
        "### Syntax\n",
        "\n",
        "```\n",
        "#import the algorithm\n",
        "from PAMI.partialPeriodicFrequentPattern.basic import GPFgrowth as alg\n",
        "\n",
        "# Initialize the GPFgrowth algorithm with the required parameters\n",
        "obj = alg.GPFgrowth(iFile,minSup,maxPer,minPR,sep)\n",
        "\n",
        "# Mine the partial periodic-frequent patterns\n",
        "obj.mine()\n",
        "\n",
        "# Save the patterns to a file\n",
        "obj.save('partialPeriodicFrequentPatterns.txt')\n",
        "\n",
        "# Retrieve the patterns as a DataFrame\n",
        "PPFPs = obj.getPatternsAsDataFrame()\n",
        "\n",
        "# Display summary information\n",
        "print('#Patterns: ' + str(len(PPFPs)))\n",
        "print('Runtime: ' + str(obj.getRuntime()))\n",
        "print('Memory (RSS): ' + str(obj.getMemoryRSS()))\n",
        "print('Memory (USS): ' + str(obj.getMemoryUSS()))\n",
        "```"
      ],
      "metadata": {
        "id": "JR5-ZZvJlsFT"
      },
      "id": "JR5-ZZvJlsFT"
    },
    {
      "cell_type": "markdown",
      "source": [
        "### Example 6"
      ],
      "metadata": {
        "id": "Mkxb9djAl-y0"
      },
      "id": "Mkxb9djAl-y0"
    },
    {
      "cell_type": "code",
      "source": [
        "from PAMI.partialPeriodicFrequentPattern.basic \\\n",
        "    import GPFgrowth as alg\n",
        "\n",
        "# Initialize the GPFgrowth algorithm with the required parameters\n",
        "obj = alg.GPFgrowth(\n",
        "        iFile='Temporal_T10I4D100K.csv',\n",
        "        minSup=100,\n",
        "        maxPer=2000,\n",
        "        minPR=0.5,\n",
        "        sep='\\t')\n",
        "\n",
        "# Mine the partial periodic-frequent patterns\n",
        "obj.mine()\n",
        "\n",
        "# Save the patterns to a file\n",
        "obj.save('partialPeriodicFrequentPatterns.txt')\n",
        "\n",
        "# Retrieve the patterns as a DataFrame\n",
        "PPFPs = obj.getPatternsAsDataFrame()\n",
        "\n",
        "# Display summary information\n",
        "print('#Patterns: ' + str(len(PPFPs)))\n",
        "print('Runtime: ' + str(obj.getRuntime()))\n",
        "print('Memory (RSS): ' + str(obj.getMemoryRSS()))\n",
        "print('Memory (USS): ' + str(obj.getMemoryUSS()))"
      ],
      "metadata": {
        "colab": {
          "base_uri": "https://localhost:8080/",
          "height": 356
        },
        "id": "tMgYsYfZlrXY",
        "outputId": "19b62de6-ea4b-4e3f-d495-21209dd71565"
      },
      "id": "tMgYsYfZlrXY",
      "execution_count": null,
      "outputs": [
        {
          "output_type": "error",
          "ename": "AttributeError",
          "evalue": "'_Node' object has no attribute 'item3'",
          "traceback": [
            "\u001b[0;31m---------------------------------------------------------------------------\u001b[0m",
            "\u001b[0;31mAttributeError\u001b[0m                            Traceback (most recent call last)",
            "\u001b[0;32m<ipython-input-17-491439936>\u001b[0m in \u001b[0;36m<cell line: 0>\u001b[0;34m()\u001b[0m\n\u001b[1;32m     11\u001b[0m \u001b[0;34m\u001b[0m\u001b[0m\n\u001b[1;32m     12\u001b[0m \u001b[0;31m# Mine the partial periodic-frequent patterns\u001b[0m\u001b[0;34m\u001b[0m\u001b[0;34m\u001b[0m\u001b[0m\n\u001b[0;32m---> 13\u001b[0;31m \u001b[0mobj\u001b[0m\u001b[0;34m.\u001b[0m\u001b[0mmine\u001b[0m\u001b[0;34m(\u001b[0m\u001b[0;34m)\u001b[0m\u001b[0;34m\u001b[0m\u001b[0;34m\u001b[0m\u001b[0m\n\u001b[0m\u001b[1;32m     14\u001b[0m \u001b[0;34m\u001b[0m\u001b[0m\n\u001b[1;32m     15\u001b[0m \u001b[0;31m# Save the patterns to a file\u001b[0m\u001b[0;34m\u001b[0m\u001b[0;34m\u001b[0m\u001b[0m\n",
            "\u001b[0;32m/usr/local/lib/python3.11/dist-packages/PAMI/partialPeriodicFrequentPattern/basic/GPFgrowth.py\u001b[0m in \u001b[0;36mmine\u001b[0;34m(self)\u001b[0m\n\u001b[1;32m    465\u001b[0m         \u001b[0;31m# def _construct(self, items, data, patterns):\u001b[0m\u001b[0;34m\u001b[0m\u001b[0;34m\u001b[0m\u001b[0m\n\u001b[1;32m    466\u001b[0m         \u001b[0mroot\u001b[0m\u001b[0;34m,\u001b[0m \u001b[0mitemNodes\u001b[0m \u001b[0;34m=\u001b[0m \u001b[0mself\u001b[0m\u001b[0;34m.\u001b[0m\u001b[0m_construct\u001b[0m\u001b[0;34m(\u001b[0m\u001b[0mitems\u001b[0m\u001b[0;34m,\u001b[0m \u001b[0mself\u001b[0m\u001b[0;34m.\u001b[0m\u001b[0m__Database\u001b[0m\u001b[0;34m)\u001b[0m\u001b[0;34m\u001b[0m\u001b[0;34m\u001b[0m\u001b[0m\n\u001b[0;32m--> 467\u001b[0;31m         \u001b[0mself\u001b[0m\u001b[0;34m.\u001b[0m\u001b[0m_recursive\u001b[0m\u001b[0;34m(\u001b[0m\u001b[0mroot\u001b[0m\u001b[0;34m,\u001b[0m \u001b[0mitemNodes\u001b[0m\u001b[0;34m)\u001b[0m\u001b[0;34m\u001b[0m\u001b[0;34m\u001b[0m\u001b[0m\n\u001b[0m\u001b[1;32m    468\u001b[0m \u001b[0;34m\u001b[0m\u001b[0m\n\u001b[1;32m    469\u001b[0m         \u001b[0mtemp\u001b[0m \u001b[0;34m=\u001b[0m \u001b[0;34m{\u001b[0m\u001b[0;34m}\u001b[0m\u001b[0;34m\u001b[0m\u001b[0;34m\u001b[0m\u001b[0m\n",
            "\u001b[0;32m/usr/local/lib/python3.11/dist-packages/PAMI/partialPeriodicFrequentPattern/basic/GPFgrowth.py\u001b[0m in \u001b[0;36m_recursive\u001b[0;34m(self, root, itemNode)\u001b[0m\n\u001b[1;32m    419\u001b[0m             \u001b[0;32mfor\u001b[0m \u001b[0mitem3\u001b[0m \u001b[0;32min\u001b[0m \u001b[0mmaxPerResults\u001b[0m\u001b[0;34m:\u001b[0m\u001b[0;34m\u001b[0m\u001b[0;34m\u001b[0m\u001b[0m\n\u001b[1;32m    420\u001b[0m                 \u001b[0;32mif\u001b[0m \u001b[0mmaxPerResults\u001b[0m\u001b[0;34m[\u001b[0m\u001b[0mitem3\u001b[0m\u001b[0;34m]\u001b[0m \u001b[0;34m>=\u001b[0m \u001b[0mself\u001b[0m\u001b[0;34m.\u001b[0m\u001b[0m_partialPeriodicPatterns__minPR\u001b[0m\u001b[0;34m:\u001b[0m\u001b[0;34m\u001b[0m\u001b[0;34m\u001b[0m\u001b[0m\n\u001b[0;32m--> 421\u001b[0;31m                     \u001b[0mself\u001b[0m\u001b[0;34m.\u001b[0m\u001b[0m_partialPeriodicPatterns__finalPatterns\u001b[0m\u001b[0;34m[\u001b[0m\u001b[0mtuple\u001b[0m\u001b[0;34m(\u001b[0m\u001b[0mnewRoot\u001b[0m\u001b[0;34m.\u001b[0m\u001b[0mitem3\u001b[0m \u001b[0;34m+\u001b[0m \u001b[0;34m[\u001b[0m\u001b[0mitem3\u001b[0m\u001b[0;34m]\u001b[0m\u001b[0;34m)\u001b[0m\u001b[0;34m]\u001b[0m \u001b[0;34m=\u001b[0m \u001b[0;34m[\u001b[0m\u001b[0mlen\u001b[0m\u001b[0;34m(\u001b[0m\u001b[0mitemLocs\u001b[0m\u001b[0;34m[\u001b[0m\u001b[0mitem3\u001b[0m\u001b[0;34m]\u001b[0m\u001b[0;34m)\u001b[0m\u001b[0;34m,\u001b[0m \u001b[0mmaxPerResults\u001b[0m\u001b[0;34m[\u001b[0m\u001b[0mitem3\u001b[0m\u001b[0;34m]\u001b[0m\u001b[0;34m]\u001b[0m\u001b[0;34m\u001b[0m\u001b[0;34m\u001b[0m\u001b[0m\n\u001b[0m\u001b[1;32m    422\u001b[0m \u001b[0;34m\u001b[0m\u001b[0m\n\u001b[1;32m    423\u001b[0m             \u001b[0;31m# Filter itemLocs based on minSup and maxPer\u001b[0m\u001b[0;34m\u001b[0m\u001b[0;34m\u001b[0m\u001b[0m\n",
            "\u001b[0;31mAttributeError\u001b[0m: '_Node' object has no attribute 'item3'"
          ]
        }
      ]
    },
    {
      "cell_type": "markdown",
      "source": [
        "## Finding Partial Periodic Patterns"
      ],
      "metadata": {
        "id": "e0aWGmVD1oxx"
      },
      "id": "e0aWGmVD1oxx"
    },
    {
      "cell_type": "markdown",
      "source": [
        "### Syntax\n",
        "\n",
        "```\n",
        "#import the algorithm\n",
        "from PAMI.partialPeriodicPattern.basic import PPPGrowth as alg\n",
        "\n",
        "# Initialize the algorithm with necessary parameters\n",
        "obj = alg.PPPGrowth(iFile, minPS, period, sep='\\t')\n",
        "\n",
        "# Mine the partial periodic patterns\n",
        "obj.mine()\n",
        "\n",
        "# Save the patterns to a file\n",
        "obj.save('partialPeriodicPatterns.txt')\n",
        "\n",
        "# Retrieve the patterns as a DataFrame\n",
        "PPFPs = obj.getPatternsAsDataFrame()\n",
        "\n",
        "# Display summary information\n",
        "print('#Patterns: ' + str(len(PPFPs)))\n",
        "print('Runtime: ' + str(obj.getRuntime()))\n",
        "print('Memory (RSS): ' + str(obj.getMemoryRSS()))\n",
        "print('Memory (USS): ' + str(obj.getMemoryUSS()))\n",
        "```"
      ],
      "metadata": {
        "id": "4cgb9K1D1zS5"
      },
      "id": "4cgb9K1D1zS5"
    },
    {
      "cell_type": "markdown",
      "source": [
        "### Example 7"
      ],
      "metadata": {
        "id": "9s-UUZDE2Tzj"
      },
      "id": "9s-UUZDE2Tzj"
    },
    {
      "cell_type": "code",
      "source": [
        "from PAMI.partialPeriodicPattern.basic import PPPGrowth as alg\n",
        "\n",
        "# Initialize the PPPGrowth algorithm with necessary parameters\n",
        "obj = alg.PPPGrowth(iFile='Temporal_T10I4D100K.csv', minPS=100, period=200, sep='\\t')\n",
        "\n",
        "# Mine the partial periodic patterns\n",
        "obj.mine()\n",
        "\n",
        "# Save the patterns to a file\n",
        "obj.save('partialPeriodicPatterns.txt')\n",
        "\n",
        "# Retrieve the patterns as a DataFrame\n",
        "PPFPs = obj.getPatternsAsDataFrame()\n",
        "\n",
        "# Display summary information\n",
        "print('#Patterns: ' + str(len(PPFPs)))\n",
        "print('Runtime: ' + str(obj.getRuntime()))\n",
        "print('Memory (RSS): ' + str(obj.getMemoryRSS()))\n",
        "print('Memory (USS): ' + str(obj.getMemoryUSS()))"
      ],
      "metadata": {
        "id": "E7PnOPxA1ykm",
        "colab": {
          "base_uri": "https://localhost:8080/",
          "height": 332
        },
        "outputId": "27273581-d54a-41ef-b968-4f9ec1a6da9e"
      },
      "id": "E7PnOPxA1ykm",
      "execution_count": null,
      "outputs": [
        {
          "output_type": "error",
          "ename": "TypeError",
          "evalue": "'>' not supported between instances of 'int' and 'NoneType'",
          "traceback": [
            "\u001b[0;31m---------------------------------------------------------------------------\u001b[0m",
            "\u001b[0;31mTypeError\u001b[0m                                 Traceback (most recent call last)",
            "\u001b[0;32m<ipython-input-18-4034984852>\u001b[0m in \u001b[0;36m<cell line: 0>\u001b[0;34m()\u001b[0m\n\u001b[1;32m      5\u001b[0m \u001b[0;34m\u001b[0m\u001b[0m\n\u001b[1;32m      6\u001b[0m \u001b[0;31m# Mine the partial periodic patterns\u001b[0m\u001b[0;34m\u001b[0m\u001b[0;34m\u001b[0m\u001b[0m\n\u001b[0;32m----> 7\u001b[0;31m \u001b[0mobj\u001b[0m\u001b[0;34m.\u001b[0m\u001b[0mmine\u001b[0m\u001b[0;34m(\u001b[0m\u001b[0;34m)\u001b[0m\u001b[0;34m\u001b[0m\u001b[0;34m\u001b[0m\u001b[0m\n\u001b[0m\u001b[1;32m      8\u001b[0m \u001b[0;34m\u001b[0m\u001b[0m\n\u001b[1;32m      9\u001b[0m \u001b[0;31m# Save the patterns to a file\u001b[0m\u001b[0;34m\u001b[0m\u001b[0;34m\u001b[0m\u001b[0m\n",
            "\u001b[0;32m/usr/local/lib/python3.11/dist-packages/PAMI/partialPeriodicPattern/basic/PPPGrowth.py\u001b[0m in \u001b[0;36mmine\u001b[0;34m(self)\u001b[0m\n\u001b[1;32m    494\u001b[0m         \u001b[0;32mfor\u001b[0m \u001b[0mline\u001b[0m \u001b[0;32min\u001b[0m \u001b[0mself\u001b[0m\u001b[0;34m.\u001b[0m\u001b[0m_Database\u001b[0m\u001b[0;34m:\u001b[0m\u001b[0;34m\u001b[0m\u001b[0;34m\u001b[0m\u001b[0m\n\u001b[1;32m    495\u001b[0m             \u001b[0mindex\u001b[0m \u001b[0;34m=\u001b[0m \u001b[0mint\u001b[0m\u001b[0;34m(\u001b[0m\u001b[0mline\u001b[0m\u001b[0;34m[\u001b[0m\u001b[0;36m0\u001b[0m\u001b[0;34m]\u001b[0m\u001b[0;34m)\u001b[0m\u001b[0;34m\u001b[0m\u001b[0;34m\u001b[0m\u001b[0m\n\u001b[0;32m--> 496\u001b[0;31m             \u001b[0mself\u001b[0m\u001b[0;34m.\u001b[0m\u001b[0m_maxTS\u001b[0m \u001b[0;34m=\u001b[0m \u001b[0mmax\u001b[0m\u001b[0;34m(\u001b[0m\u001b[0mself\u001b[0m\u001b[0;34m.\u001b[0m\u001b[0m_maxTS\u001b[0m\u001b[0;34m,\u001b[0m \u001b[0mindex\u001b[0m\u001b[0;34m)\u001b[0m\u001b[0;34m\u001b[0m\u001b[0;34m\u001b[0m\u001b[0m\n\u001b[0m\u001b[1;32m    497\u001b[0m             \u001b[0;32mfor\u001b[0m \u001b[0mitem\u001b[0m \u001b[0;32min\u001b[0m \u001b[0mline\u001b[0m\u001b[0;34m[\u001b[0m\u001b[0;36m1\u001b[0m\u001b[0;34m:\u001b[0m\u001b[0;34m]\u001b[0m\u001b[0;34m:\u001b[0m\u001b[0;34m\u001b[0m\u001b[0;34m\u001b[0m\u001b[0m\n\u001b[1;32m    498\u001b[0m                 \u001b[0;32mif\u001b[0m \u001b[0mitem\u001b[0m \u001b[0;32mnot\u001b[0m \u001b[0;32min\u001b[0m \u001b[0mitems\u001b[0m\u001b[0;34m:\u001b[0m\u001b[0;34m\u001b[0m\u001b[0;34m\u001b[0m\u001b[0m\n",
            "\u001b[0;31mTypeError\u001b[0m: '>' not supported between instances of 'int' and 'NoneType'"
          ]
        }
      ]
    },
    {
      "cell_type": "markdown",
      "source": [
        "## Finding Recurring Patterns"
      ],
      "metadata": {
        "id": "X47Vnc7D2tvv"
      },
      "id": "X47Vnc7D2tvv"
    },
    {
      "cell_type": "markdown",
      "source": [
        "### Syntax\n",
        "\n",
        "```\n",
        "#import the algorithm\n",
        "from PAMI.recurringPattern.basic import RPGrowth as alg\n",
        "\n",
        "# Initialize the algorithm with appropriate parameters\n",
        "obj = alg.RPGrowth(iFile, minPS, maxPer, minRec, sep)  # Separator used in the data file\n",
        "\n",
        "# Mine the recurring patterns\n",
        "obj.mine()\n",
        "\n",
        "# Save the patterns to a file\n",
        "obj.save('recurringPatterns.txt')\n",
        "\n",
        "# Retrieve the patterns as a DataFrame\n",
        "recurringPatterns = obj.getPatternsAsDataFrame()\n",
        "\n",
        "# Display summary information\n",
        "print('#Patterns: ' + str(len(recurringPatterns)))\n",
        "print('Runtime: ' + str(obj.getRuntime()))\n",
        "print('Memory (RSS): ' + str(obj.getMemoryRSS()))\n",
        "print('Memory (USS): ' + str(obj.getMemoryUSS()))\n",
        "```"
      ],
      "metadata": {
        "id": "-xO2-4Q62yV-"
      },
      "id": "-xO2-4Q62yV-"
    },
    {
      "cell_type": "markdown",
      "source": [
        "### Example 8"
      ],
      "metadata": {
        "id": "YSdDBlO93Bl-"
      },
      "id": "YSdDBlO93Bl-"
    },
    {
      "cell_type": "code",
      "source": [
        "from PAMI.recurringPattern.basic import RPGrowth as alg\n",
        "\n",
        "# Initialize the RPGrowth algorithm with appropriate parameters\n",
        "obj = alg.RPGrowth(iFile='Temporal_T10I4D100K.csv', minPS=20, maxPer=100, minRec=1, sep='\\t')  # Separator used in the data file\n",
        "\n",
        "# Mine the recurring patterns\n",
        "obj.mine()\n",
        "\n",
        "# Save the patterns to a file\n",
        "obj.save('recurringPatterns.txt')\n",
        "\n",
        "# Retrieve the patterns as a DataFrame\n",
        "recurringPatterns = obj.getPatternsAsDataFrame()\n",
        "\n",
        "# Display summary information\n",
        "print('#Patterns: ' + str(len(recurringPatterns)))\n",
        "print('Runtime: ' + str(obj.getRuntime()))\n",
        "print('Memory (RSS): ' + str(obj.getMemoryRSS()))\n",
        "print('Memory (USS): ' + str(obj.getMemoryUSS()))"
      ],
      "metadata": {
        "colab": {
          "base_uri": "https://localhost:8080/"
        },
        "id": "w9GqlJZY2xux",
        "outputId": "e854ee14-b03b-48af-8659-8412abe6ed51"
      },
      "id": "w9GqlJZY2xux",
      "execution_count": null,
      "outputs": [
        {
          "output_type": "stream",
          "name": "stdout",
          "text": [
            "Recurring patterns were generated successfully using RPGrowth algorithm \n",
            "#Patterns: 307\n",
            "Runtime: 11.728961944580078\n",
            "Memory (RSS): 612978688\n",
            "Memory (USS): 592338944\n"
          ]
        }
      ]
    }
  ],
  "metadata": {
    "kernelspec": {
      "display_name": "Python 3",
      "language": "python",
      "name": "python3"
    },
    "language_info": {
      "codemirror_mode": {
        "name": "ipython",
        "version": 2
      },
      "file_extension": ".py",
      "mimetype": "text/x-python",
      "name": "python",
      "nbconvert_exporter": "python",
      "pygments_lexer": "ipython2",
      "version": "2.7.6"
    },
    "colab": {
      "provenance": [],
      "include_colab_link": true
    }
  },
  "nbformat": 4,
  "nbformat_minor": 5
}