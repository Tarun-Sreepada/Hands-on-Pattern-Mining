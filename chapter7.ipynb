{
 "cells": [
  {
   "cell_type": "markdown",
   "metadata": {
    "id": "view-in-github",
    "colab_type": "text"
   },
   "source": [
    "<a href=\"https://colab.research.google.com/github/UdayLab/Hands-on-Pattern-Mining/blob/main/chapter7.ipynb\" target=\"_parent\"><img src=\"https://colab.research.google.com/assets/colab-badge.svg\" alt=\"Open In Colab\"/></a>"
   ],
   "id": "c0c39912271b7d20"
  },
  {
   "cell_type": "markdown",
   "source": [
    "# Chapter 7: Spatial Databases: Representation, Creation, and Statistics"
   ],
   "metadata": {
    "id": "y3s-3Q_piu8t"
   },
   "id": "y3s-3Q_piu8t"
  },
  {
   "cell_type": "markdown",
   "source": [
    "## Installation of PAMI library"
   ],
   "metadata": {
    "id": "rOTWYp6tizpr"
   },
   "id": "rOTWYp6tizpr"
  },
  {
   "cell_type": "code",
   "id": "initial_id",
   "metadata": {
    "collapsed": true,
    "colab": {
     "base_uri": "https://localhost:8080/",
     "height": 1000
    },
    "id": "initial_id",
    "outputId": "7f78f392-923b-4062-a250-c046c0b0e169",
    "ExecuteTime": {
     "end_time": "2025-06-17T05:21:00.941115Z",
     "start_time": "2025-06-17T05:21:00.812354Z"
    }
   },
   "source": [
    "!pip install pami"
   ],
   "outputs": [
    {
     "name": "stdout",
     "output_type": "stream",
     "text": [
      "zsh:1: command not found: pip\r\n"
     ]
    }
   ],
   "execution_count": 1
  },
  {
   "cell_type": "markdown",
   "source": [
    "## Download a sample database"
   ],
   "metadata": {
    "id": "koJb4FUvi3-A"
   },
   "id": "koJb4FUvi3-A"
  },
  {
   "cell_type": "code",
   "source": [
    "!wget -nc --no-check-certificate https://github.com/UdayLab/Hands-on-Pattern-Mining/raw/main/datasets/spatiotemporal_T10I4D100K.csv"
   ],
   "metadata": {
    "colab": {
     "base_uri": "https://localhost:8080/"
    },
    "id": "D8bz5U2SjAai",
    "outputId": "54200815-f0cc-4f19-c188-cb002df41e43",
    "ExecuteTime": {
     "end_time": "2025-06-17T05:21:01.179034Z",
     "start_time": "2025-06-17T05:21:01.049125Z"
    }
   },
   "id": "D8bz5U2SjAai",
   "outputs": [
    {
     "name": "stdout",
     "output_type": "stream",
     "text": [
      "File ‘spatiotemporal_T10I4D100K.csv’ already there; not retrieving.\r\n",
      "\r\n"
     ]
    }
   ],
   "execution_count": 2
  },
  {
   "cell_type": "markdown",
   "source": [
    "## Generating Synthetic Geo-referenced Transactional Database"
   ],
   "metadata": {
    "id": "UGMSyoSojUBF"
   },
   "id": "UGMSyoSojUBF"
  },
  {
   "cell_type": "markdown",
   "source": [
    "### Generic\n",
    "\n",
    "\n",
    "\n",
    "```python\n",
    "from PAMI.extras.syntheticDataGenerator import GeoReferentialTransactionalDatabase as db\n",
    "  \n",
    "obj = db.GeoReferentialTransactionalDatabase(\n",
    "        databaseSize=numberOfTransactions,\n",
    "        avgItemsPerTransaction=averageNumberOfItemsInATransaction,\n",
    "        numItems=totalNumberOfItems,\n",
    "        x1=lowestXaxisCoordinate,\n",
    "        y1=lowestYaxisCoordinate,\n",
    "        x2=maximalXaxisCoordinate,\n",
    "        y2=maximalYaxisCoordinate,\n",
    "        sep='\\t'\n",
    "        )\n",
    "obj.create()\n",
    "obj.save('outputFileName')\n",
    "#read the generated transactions into a dataframe\n",
    "GRTDF=obj.getTransactions()\n",
    "print('Runtime: ' + str(obj.getRuntime()))\n",
    "print('Memory (RSS): ' + str(obj.getMemoryRSS()))\n",
    "print('Memory (USS): ' + str(obj.getMemoryUSS()))\n",
    "```\n",
    "\n"
   ],
   "metadata": {
    "id": "hW_57pxdjcCh"
   },
   "id": "hW_57pxdjcCh"
  },
  {
   "cell_type": "markdown",
   "source": [
    "### Example 1"
   ],
   "metadata": {
    "id": "Ir799i2cjesT"
   },
   "id": "Ir799i2cjesT"
  },
  {
   "cell_type": "code",
   "source": [
    "from PAMI.extras.syntheticDataGenerator import geoReferentialTransactionalDatabase as db\n",
    "\n",
    "obj = db.geoReferentialTransactionalDatabase(\n",
    "        databaseSize=1000,\n",
    "        avgItemsPerTransaction=10,\n",
    "        numItems=1000,\n",
    "        x1=0,\n",
    "        y1=0,\n",
    "        x2=100,\n",
    "        y2=100,\n",
    "        sep='\\t'\n",
    "        )\n",
    "obj.create()\n",
    "obj.save('geoReferencedTransactionalDatabase.csv')\n",
    "#read the generated transactions into a dataframe\n",
    "GRTDF=obj.getTransactions()\n",
    "print('Runtime: ' + str(obj.getRuntime()))\n",
    "print('Memory (RSS): ' + str(obj.getMemoryRSS()))\n",
    "print('Memory (USS): ' + str(obj.getMemoryUSS()))"
   ],
   "metadata": {
    "colab": {
     "base_uri": "https://localhost:8080/"
    },
    "id": "w-AgIvTGjbRW",
    "outputId": "7895fc3a-8a5f-482a-e0a5-8e60d3713080",
    "ExecuteTime": {
     "end_time": "2025-06-17T05:21:01.606136Z",
     "start_time": "2025-06-17T05:21:01.187190Z"
    }
   },
   "id": "w-AgIvTGjbRW",
   "outputs": [
    {
     "name": "stderr",
     "output_type": "stream",
     "text": [
      "100%|██████████| 1000/1000 [00:00<00:00, 18855.47it/s]"
     ]
    },
    {
     "name": "stdout",
     "output_type": "stream",
     "text": [
      "Runtime: 0.07831621170043945\n",
      "Memory (RSS): 111689728\n",
      "Memory (USS): 88178688\n"
     ]
    },
    {
     "name": "stderr",
     "output_type": "stream",
     "text": [
      "\n"
     ]
    }
   ],
   "execution_count": 3
  },
  {
   "cell_type": "code",
   "source": [
    "!head geoReferencedTransactionalDatabase.csv"
   ],
   "metadata": {
    "id": "xQzwn3U95fw3",
    "outputId": "3d26ad9f-6f3a-40f6-f61b-976fa6489eaa",
    "colab": {
     "base_uri": "https://localhost:8080/"
    },
    "ExecuteTime": {
     "end_time": "2025-06-17T05:21:01.793143Z",
     "start_time": "2025-06-17T05:21:01.669036Z"
    }
   },
   "id": "xQzwn3U95fw3",
   "outputs": [
    {
     "name": "stdout",
     "output_type": "stream",
     "text": [
      "(53, 69)\t(68, 81)\t(32, 61)\t(37, 57)\t(49, 73)\t(95, 90)\t(1, 14)\t(70, 10)\t(83, 96)\r\n",
      "(87, 46)\t(5, 48)\t(23, 79)\t(19, 0)\t(98, 6)\t(22, 47)\t(91, 0)\t(50, 72)\t(52, 94)\t(47, 0)\t(63, 99)\t(78, 13)\t(12, 29)\t(65, 91)\r\n",
      "(86, 22)\t(40, 64)\t(73, 94)\t(94, 23)\t(23, 47)\t(44, 55)\t(11, 59)\t(34, 59)\t(11, 58)\r\n",
      "(36, 68)\t(45, 87)\t(37, 31)\t(96, 52)\t(16, 91)\t(95, 20)\t(11, 41)\t(22, 86)\t(92, 2)\r\n",
      "(98, 79)\t(55, 59)\t(46, 14)\t(86, 78)\t(35, 88)\t(26, 50)\t(85, 33)\t(11, 58)\t(94, 17)\t(83, 92)\t(17, 86)\t(22, 29)\t(97, 36)\r\n",
      "(98, 39)\t(70, 33)\t(79, 28)\t(23, 11)\t(14, 12)\t(75, 15)\t(87, 71)\t(33, 59)\t(86, 90)\r\n",
      "(56, 25)\t(71, 40)\t(34, 33)\t(64, 89)\t(8, 49)\t(57, 17)\t(36, 81)\t(52, 2)\t(45, 3)\r\n",
      "(17, 21)\t(28, 93)\t(45, 97)\t(12, 38)\t(63, 67)\t(92, 82)\t(15, 5)\t(10, 65)\t(77, 85)\r\n",
      "(43, 45)\t(56, 67)\t(1, 42)\t(39, 61)\t(79, 88)\t(61, 16)\t(24, 94)\t(56, 55)\t(60, 52)\r\n",
      "(44, 30)\t(37, 75)\t(67, 3)\t(73, 94)\t(21, 75)\t(81, 28)\t(49, 55)\t(71, 52)\t(14, 57)\r\n"
     ]
    }
   ],
   "execution_count": 4
  },
  {
   "cell_type": "markdown",
   "source": [
    "## Generating Synthetic Geo-referenced Temporal Database"
   ],
   "metadata": {
    "id": "6a4RgP7ykcxY"
   },
   "id": "6a4RgP7ykcxY"
  },
  {
   "cell_type": "markdown",
   "source": [
    "### Generic\n",
    "\n",
    "\n",
    "\n",
    "```python\n",
    "from PAMI.extras.syntheticDataGenerator import GeoReferentialTemporalDatabase as db\n",
    "  \n",
    "obj = db.GeoReferentialTemporalDatabase(\n",
    "        databaseSize=numberOfTransactions,\n",
    "        avgItemsPerTransaction=averageNumberOfItemsInATransaction,\n",
    "        numItems=totalNumberOfItems,\n",
    "        occurrenceProbabilityOfSameTimestamp=probabilityWithWhichTheNextTransactionAppearsAtTheSameTimeStamp,\n",
    "        occurrenceProbabilityToSkipSubsequentTimestamp=probabilityWithWhichTheNextTransactionSkipsTheNextTimeStamp,\n",
    "        x1=lowestXaxisCoordinate,\n",
    "        y1=lowestYaxisCoordinate,\n",
    "        x2=maximumXaxisCoordinate,\n",
    "        y2=maximumYaxisCoordinate,\n",
    "        sep='\\t'\n",
    "        )\n",
    "obj.create()\n",
    "obj.save('outputFileName')\n",
    "GRTempDF=obj.getTransactions()\n",
    "print('Runtime: ' + str(obj.getRuntime()))\n",
    "print('Memory (RSS): ' + str(obj.getMemoryRSS()))\n",
    "print('Memory (USS): ' + str(obj.getMemoryUSS()))\n",
    "```\n",
    "\n"
   ],
   "metadata": {
    "id": "-V_IiGkfklCj"
   },
   "id": "-V_IiGkfklCj"
  },
  {
   "cell_type": "markdown",
   "source": [
    "### Example 2"
   ],
   "metadata": {
    "id": "5C3iQJg6koQI"
   },
   "id": "5C3iQJg6koQI"
  },
  {
   "cell_type": "code",
   "source": [
    "from PAMI.extras.syntheticDataGenerator \\\n",
    "    import geoReferentialTemporalDatabase as db\n",
    "\n",
    "obj = db.geoReferentialTemporalDatabase(\n",
    "        databaseSize=1000,\n",
    "        avgItemsPerTransaction=10,\n",
    "        numItems=1000,\n",
    "        occurrenceProbabilityOfSameTimestamp=0,\n",
    "        occurrenceProbabilityToSkipSubsequentTimestamp=0,\n",
    "        x1=0,\n",
    "        y1=0,\n",
    "        x2=100,\n",
    "        y2=100,\n",
    "        sep='\\t'\n",
    "        )\n",
    "obj.create()\n",
    "obj.save('geoReferentialTemporalDatabase.csv')\n",
    "GRTempDF=obj.getTransactions()\n",
    "print('Runtime: ' + str(obj.getRuntime()))\n",
    "print('Memory (RSS): ' + str(obj.getMemoryRSS()))\n",
    "print('Memory (USS): ' + str(obj.getMemoryUSS()))"
   ],
   "metadata": {
    "colab": {
     "base_uri": "https://localhost:8080/"
    },
    "id": "4c1G8w0ekkb6",
    "outputId": "363a8c0c-7d76-450d-f2e9-f34f48a68b0e",
    "ExecuteTime": {
     "end_time": "2025-06-17T05:21:01.937423Z",
     "start_time": "2025-06-17T05:21:01.805447Z"
    }
   },
   "id": "4c1G8w0ekkb6",
   "outputs": [
    {
     "name": "stderr",
     "output_type": "stream",
     "text": [
      "100%|██████████| 1000/1000 [00:00<00:00, 14735.52it/s]"
     ]
    },
    {
     "name": "stdout",
     "output_type": "stream",
     "text": [
      "Runtime: 0.11117792129516602\n",
      "Memory (RSS): 79020032\n",
      "Memory (USS): 55148544\n"
     ]
    },
    {
     "name": "stderr",
     "output_type": "stream",
     "text": [
      "\n"
     ]
    }
   ],
   "execution_count": 5
  },
  {
   "cell_type": "code",
   "source": [
    "!head geoReferentialTemporalDatabase.csv"
   ],
   "metadata": {
    "id": "XBwg9Dws6BYJ",
    "outputId": "4cc0854f-a5e4-4a62-a93b-78a641cab91e",
    "colab": {
     "base_uri": "https://localhost:8080/"
    },
    "ExecuteTime": {
     "end_time": "2025-06-17T05:21:02.078671Z",
     "start_time": "2025-06-17T05:21:01.958273Z"
    }
   },
   "id": "XBwg9Dws6BYJ",
   "outputs": [
    {
     "name": "stdout",
     "output_type": "stream",
     "text": [
      "1\t(68, 22)\t(54, 74)\t(25, 14)\t(1, 54)\t(22, 28)\t(53, 2)\t(43, 26)\t(40, 59)\t(58, 34)\r\n",
      "2\t(66, 82)\t(61, 32)\t(69, 67)\t(21, 2)\t(79, 11)\t(79, 95)\t(24, 3)\t(14, 64)\t(64, 5)\r\n",
      "3\t(13, 66)\t(80, 48)\t(65, 25)\t(89, 60)\t(13, 95)\t(17, 75)\t(12, 19)\t(55, 40)\t(35, 45)\t(35, 12)\t(11, 99)\r\n",
      "4\t(42, 1)\t(63, 91)\t(38, 92)\t(6, 58)\t(28, 6)\t(30, 76)\t(90, 98)\t(88, 65)\t(83, 90)\r\n",
      "5\t(16, 40)\t(65, 77)\t(86, 20)\t(33, 11)\t(22, 48)\t(98, 97)\t(15, 25)\t(40, 59)\t(72, 4)\r\n",
      "6\t(35, 57)\t(44, 98)\t(31, 30)\t(14, 64)\t(31, 19)\t(29, 48)\t(94, 20)\t(87, 14)\t(98, 87)\r\n",
      "7\t(93, 5)\t(5, 50)\t(93, 36)\t(14, 58)\t(76, 32)\t(95, 56)\t(41, 91)\t(29, 98)\t(86, 83)\r\n",
      "8\t(0, 24)\t(82, 61)\t(40, 20)\t(0, 64)\t(13, 66)\t(10, 11)\t(11, 99)\t(76, 93)\t(85, 42)\r\n",
      "9\t(87, 49)\t(15, 34)\t(83, 20)\t(94, 71)\t(53, 39)\t(37, 10)\t(5, 51)\t(29, 6)\t(13, 54)\r\n",
      "10\t(92, 25)\t(0, 33)\t(93, 58)\t(57, 85)\t(20, 53)\t(35, 45)\t(26, 9)\t(66, 9)\t(95, 27)\t(48, 93)\t(73, 63)\t(12, 56)\r\n"
     ]
    }
   ],
   "execution_count": 6
  },
  {
   "cell_type": "markdown",
   "source": [
    "## Converting a Georeferenced Dataframe into a Georeferenced Transactional Database"
   ],
   "metadata": {
    "id": "WWxrCCXymdf8"
   },
   "id": "WWxrCCXymdf8"
  },
  {
   "cell_type": "markdown",
   "source": [
    "### Generic\n",
    "\n",
    "\n",
    "\n",
    "```python\n",
    "\n",
    "from PAMI.extras.convert import DF2DB as alg\n",
    "\n",
    "obj = alg.DF2DB(dataFrame)\n",
    "obj.convert2TransactionalDatabase(oFile='outputFileName.txt', condition='>=|>|<=|<|==|!=', thresholdValue=thresholdValue)\n",
    "print('Runtime: ' + str(obj.getRuntime()))\n",
    "print('Memory (RSS): ' + str(obj.getMemoryRSS()))\n",
    "print('Memory (USS): ' + str(obj.getMemoryUSS()))\n",
    "```\n",
    "\n"
   ],
   "metadata": {
    "id": "7oxhLiH0m-qK"
   },
   "id": "7oxhLiH0m-qK"
  },
  {
   "cell_type": "markdown",
   "source": [
    "### Example 3"
   ],
   "metadata": {
    "id": "OSqfgkWanCkc"
   },
   "id": "OSqfgkWanCkc"
  },
  {
   "cell_type": "code",
   "source": [
    "from PAMI.extras.convert import DF2DB as alg\n",
    "import pandas as pd\n",
    "import numpy as np\n",
    "\n",
    "#creating a 4 x 4 dataframe with random values\n",
    "data = np.random.randint(1, 100, size=(4, 4))\n",
    "dataFrame = pd.DataFrame(data,\n",
    "columns=['POINT(0 0)', 'POINT(0 1)', 'POINT(0 2)', 'POINT(0 3)'])\n",
    "\n",
    "obj = alg.DF2DB(dataFrame)\n",
    "obj.convert2TransactionalDatabase(\n",
    "oFile='georeferencedTransactionalDatabase.txt',\n",
    "condition='>=', thresholdValue=36\n",
    ")\n",
    "print('Runtime: ' + str(obj.getRuntime()))\n",
    "print('Memory (RSS): ' + str(obj.getMemoryRSS()))\n",
    "print('Memory (USS): ' + str(obj.getMemoryUSS()))"
   ],
   "metadata": {
    "colab": {
     "base_uri": "https://localhost:8080/"
    },
    "id": "kt1L-C0Umj3q",
    "outputId": "8886aab9-2d0e-44b0-e669-56f8d701ac42",
    "ExecuteTime": {
     "end_time": "2025-06-17T05:21:02.099022Z",
     "start_time": "2025-06-17T05:21:02.088847Z"
    }
   },
   "id": "kt1L-C0Umj3q",
   "outputs": [
    {
     "name": "stdout",
     "output_type": "stream",
     "text": [
      "Runtime: 0.001363992691040039\n",
      "Memory (RSS): 78807040\n",
      "Memory (USS): 54870016\n"
     ]
    }
   ],
   "execution_count": 7
  },
  {
   "cell_type": "markdown",
   "source": [
    "## Converting a Georeferenced Dataframe into a Georeferenced Temporal Database"
   ],
   "metadata": {
    "id": "rAcb22r-psuQ"
   },
   "id": "rAcb22r-psuQ"
  },
  {
   "cell_type": "markdown",
   "source": [
    "### Generic\n",
    "\n",
    "\n",
    "\n",
    "```python\n",
    "from PAMI.extras.convert import DF2DB as alg\n",
    "\n",
    "\n",
    "#converting the database into a transactional database by\n",
    "#considering values greater than or equal to 36\n",
    "obj = alg.DF2DB(dataFrame)\n",
    "obj.convert2TemporalDatabase(oFile='outputFileName', condition='>=|>|<=|<|==|!=', thresholdValue=36)\n",
    "\n",
    "print('Runtime: ' + str(obj.getRuntime()))\n",
    "print('Memory (RSS): ' + str(obj.getMemoryRSS()))\n",
    "print('Memory (USS): ' + str(obj.getMemoryUSS()))\n",
    "```\n",
    "\n"
   ],
   "metadata": {
    "id": "VMfa4ehep2sF"
   },
   "id": "VMfa4ehep2sF"
  },
  {
   "cell_type": "markdown",
   "source": [
    "### Example 4"
   ],
   "metadata": {
    "id": "ndimpkv7p5iE"
   },
   "id": "ndimpkv7p5iE"
  },
  {
   "cell_type": "code",
   "source": [
    "from PAMI.extras.convert import DF2DB as alg\n",
    "import pandas as pd\n",
    "import numpy as np\n",
    "\n",
    "#creating a 5 x 4 dataframe with random values\n",
    "data = np.random.randint(1, 100, size=(5, 4))\n",
    "dataFrame = pd.DataFrame(data,\n",
    "             columns=['POINT(0 0)', 'POINT(0 1)',\n",
    "             'POINT(0 2)', 'POINT(0 3)'])\n",
    "# Adding a timestamp column with specific values\n",
    "timestamps = [1, 3, 3, 5, 8]\n",
    "dataFrame.insert(0, 'timestamp', timestamps)\n",
    "#converting the database into a transactional database\n",
    "obj = alg.DF2DB(dataFrame)\n",
    "obj.convert2TemporalDatabase(\n",
    "        oFile='georeferencedTemporalDatabase.txt',\n",
    "       condition='>=', thresholdValue=36\n",
    "     )\n",
    "print('Runtime: ' + str(obj.getRuntime()))\n",
    "print('Memory (RSS): ' + str(obj.getMemoryRSS()))\n",
    "print('Memory (USS): ' + str(obj.getMemoryUSS()))"
   ],
   "metadata": {
    "colab": {
     "base_uri": "https://localhost:8080/"
    },
    "id": "xDASdnHEpxtV",
    "outputId": "94102901-326b-4c2d-83ee-94c93a148810",
    "ExecuteTime": {
     "end_time": "2025-06-17T05:21:02.135317Z",
     "start_time": "2025-06-17T05:21:02.117032Z"
    }
   },
   "id": "xDASdnHEpxtV",
   "outputs": [
    {
     "name": "stdout",
     "output_type": "stream",
     "text": [
      "Runtime: 0.003206014633178711\n",
      "Memory (RSS): 78495744\n",
      "Memory (USS): 54558720\n"
     ]
    }
   ],
   "execution_count": 8
  },
  {
   "cell_type": "markdown",
   "source": [
    "## Getting Statistical Details for a Geo-referenced Transactional Database"
   ],
   "metadata": {
    "id": "0zEqbScpq5hZ"
   },
   "id": "0zEqbScpq5hZ"
  },
  {
   "cell_type": "markdown",
   "source": [
    "### Generic\n",
    "\n",
    "\n",
    "```\n",
    "from PAMI.extras.dbStats import georeferencedTransactionalDatabase as stat\n",
    "\n",
    "obj = stat.georeferencedTransactionalDatabase(iFile=\"transactionalDatabase.csv\")\n",
    "obj.run()\n",
    "obj.printStats()\n",
    "obj.plotGraphs()\n",
    "obj.plotLocations()\n",
    "```\n",
    "\n"
   ],
   "metadata": {
    "id": "IjJIYsOcq7vP"
   },
   "id": "IjJIYsOcq7vP"
  },
  {
   "cell_type": "markdown",
   "source": [
    "### Example"
   ],
   "metadata": {
    "id": "2xklh1MKq9px"
   },
   "id": "2xklh1MKq9px"
  },
  {
   "cell_type": "code",
   "source": [
    "from PAMI.extras.dbStats import GeoreferencedTransactionalDatabase as stat\n",
    "\n",
    "obj = stat.GeoreferencedTransactionalDatabase(iFile=\"georeferencedTransactionalDatabase.txt\")\n",
    "obj.run()\n",
    "obj.printStats()\n",
    "obj.plotGraphs()"
   ],
   "metadata": {
    "colab": {
     "base_uri": "https://localhost:8080/",
     "height": 1000
    },
    "id": "tfe5hD25q7VG",
    "outputId": "44ceb0ff-e743-4165-db56-26f3661ec3ec",
    "ExecuteTime": {
     "end_time": "2025-06-17T05:21:02.982208Z",
     "start_time": "2025-06-17T05:21:02.151884Z"
    }
   },
   "id": "tfe5hD25q7VG",
   "outputs": [
    {
     "name": "stdout",
     "output_type": "stream",
     "text": [
      "Database size (total no of transactions) : 4\n",
      "Number of items : 4\n",
      "Minimum Transaction Size : 2\n",
      "Average Transaction Size : 3.0\n",
      "Maximum Transaction Size : 4\n",
      "Standard Deviation Transaction Size : 1.0\n",
      "Variance in Transaction Sizes : 1.3333333333333333\n",
      "Sparsity : 0.25\n"
     ]
    },
    {
     "data": {
      "text/plain": [
       "<Figure size 640x480 with 1 Axes>"
      ],
      "image/png": "[encoded data removed]"
     },
     "metadata": {},
     "output_type": "display_data"
    },
    {
     "data": {
      "text/plain": [
       "<Figure size 640x480 with 1 Axes>"
      ],
      "image/png": "[encoded data removed]"
     },
     "metadata": {},
     "output_type": "display_data"
    }
   ],
   "execution_count": 9
  },
  {
   "cell_type": "markdown",
   "source": [
    "## Getting Statistical Details for a Geo-referenced Timeseries Database"
   ],
   "metadata": {
    "id": "sc6bbeRrvdH6"
   },
   "id": "sc6bbeRrvdH6"
  },
  {
   "cell_type": "code",
   "source": [
    "from PAMI.extras.dbStats import  GeoreferencedTemporalDatabase as stat\n",
    "\n",
    "obj = stat.GeoreferencedTemporalDatabase(iFile=\"georeferencedTemporalDatabase.txt\")\n",
    "obj.run()\n",
    "obj.printStats()\n",
    "obj.plotGraphs()"
   ],
   "metadata": {
    "id": "AjR7CDylrb2q",
    "outputId": "eb0510cb-70b3-40a9-ada7-dd8e5de3a8b0",
    "colab": {
     "base_uri": "https://localhost:8080/",
     "height": 1000
    },
    "ExecuteTime": {
     "end_time": "2025-06-17T05:21:03.086830Z",
     "start_time": "2025-06-17T05:21:02.991603Z"
    }
   },
   "id": "AjR7CDylrb2q",
   "outputs": [
    {
     "name": "stdout",
     "output_type": "stream",
     "text": [
      "Database size : 5\n",
      "Number of items : 4\n",
      "Minimum Transaction Size : 1\n",
      "Average Transaction Size : 2.6\n",
      "Maximum Transaction Size : 3\n",
      "Minimum Inter Arrival Period : 1\n",
      "Average Inter Arrival Period : 1.0\n",
      "Maximum Inter Arrival Period : 1\n",
      "Minimum periodicity : 2\n",
      "Average periodicity : 2.5\n",
      "Maximum periodicicty : 3\n",
      "Standard Deviation Transaction Size : 0.8\n",
      "Variance : 0.8\n",
      "Sparsity : 0.35\n"
     ]
    },
    {
     "data": {
      "text/plain": [
       "<Figure size 640x480 with 1 Axes>"
      ],
      "image/png": "[encoded data removed]"
     },
     "metadata": {},
     "output_type": "display_data"
    },
    {
     "data": {
      "text/plain": [
       "<Figure size 640x480 with 1 Axes>"
      ],
      "image/png": "[encoded data removed]"
     },
     "metadata": {},
     "output_type": "display_data"
    }
   ],
   "execution_count": 10
  },
  {
   "metadata": {
    "ExecuteTime": {
     "end_time": "2025-06-17T05:21:03.104292Z",
     "start_time": "2025-06-17T05:21:03.102647Z"
    }
   },
   "cell_type": "code",
   "source": "",
   "id": "418bdb65ea022d21",
   "outputs": [],
   "execution_count": null
  }
 ],
 "metadata": {
  "kernelspec": {
   "display_name": "Python 3",
   "language": "python",
   "name": "python3"
  },
  "language_info": {
   "codemirror_mode": {
    "name": "ipython",
    "version": 2
   },
   "file_extension": ".py",
   "mimetype": "text/x-python",
   "name": "python",
   "nbconvert_exporter": "python",
   "pygments_lexer": "ipython2",
   "version": "2.7.6"
  },
  "colab": {
   "provenance": [],
   "include_colab_link": true
  }
 },
 "nbformat": 4,
 "nbformat_minor": 5
}
