{
  "cells": [
    {
      "cell_type": "markdown",
      "metadata": {
        "id": "view-in-github",
        "colab_type": "text"
      },
      "source": [
        "<a href=\"https://colab.research.google.com/github/UdayLab/Hands-on-Pattern-Mining/blob/main/chapter4.ipynb\" target=\"_parent\"><img src=\"https://colab.research.google.com/assets/colab-badge.svg\" alt=\"Open In Colab\"/></a>"
      ]
    },
    {
      "cell_type": "markdown",
      "source": [
        "# Chapter 4: Pattern Discovery in Transactional Databases"
      ],
      "metadata": {
        "id": "14HciOZCFrYm"
      },
      "id": "14HciOZCFrYm"
    },
    {
      "cell_type": "markdown",
      "source": [
        "## Install PAMI repository"
      ],
      "metadata": {
        "id": "OXAsDHIFFwxx"
      },
      "id": "OXAsDHIFFwxx"
    },
    {
      "cell_type": "code",
      "execution_count": null,
      "id": "initial_id",
      "metadata": {
        "collapsed": true,
        "colab": {
          "base_uri": "https://localhost:8080/"
        },
        "id": "initial_id",
        "outputId": "712ce502-6650-453c-de40-effe0fda6b3e"
      },
      "outputs": [
        {
          "output_type": "stream",
          "name": "stdout",
          "text": [
            "Collecting pami\n",
            "  Downloading pami-2024.11.15.1-py3-none-any.whl.metadata (80 kB)\n",
            "\u001b[?25l     \u001b[90m━━━━━━━━━━━━━━━━━━━━━━━━━━━━━━━━━━━━━━━━\u001b[0m \u001b[32m0.0/80.3 kB\u001b[0m \u001b[31m?\u001b[0m eta \u001b[36m-:--:--\u001b[0m\r\u001b[2K     \u001b[90m━━━━━━━━━━━━━━━━━━━━━━━━━━━━━━━━━━━━━━━━\u001b[0m \u001b[32m80.3/80.3 kB\u001b[0m \u001b[31m3.8 MB/s\u001b[0m eta \u001b[36m0:00:00\u001b[0m\n",
            "\u001b[?25hRequirement already satisfied: psutil in /usr/local/lib/python3.10/dist-packages (from pami) (5.9.5)\n",
            "Requirement already satisfied: pandas in /usr/local/lib/python3.10/dist-packages (from pami) (2.2.2)\n",
            "Requirement already satisfied: plotly in /usr/local/lib/python3.10/dist-packages (from pami) (5.24.1)\n",
            "Requirement already satisfied: matplotlib in /usr/local/lib/python3.10/dist-packages (from pami) (3.8.0)\n",
            "Collecting resource (from pami)\n",
            "  Downloading Resource-0.2.1-py2.py3-none-any.whl.metadata (478 bytes)\n",
            "Collecting validators (from pami)\n",
            "  Downloading validators-0.34.0-py3-none-any.whl.metadata (3.8 kB)\n",
            "Requirement already satisfied: urllib3 in /usr/local/lib/python3.10/dist-packages (from pami) (2.2.3)\n",
            "Requirement already satisfied: Pillow in /usr/local/lib/python3.10/dist-packages (from pami) (11.0.0)\n",
            "Requirement already satisfied: numpy in /usr/local/lib/python3.10/dist-packages (from pami) (1.26.4)\n",
            "Requirement already satisfied: sphinx in /usr/local/lib/python3.10/dist-packages (from pami) (8.1.3)\n",
            "Collecting sphinx-rtd-theme (from pami)\n",
            "  Downloading sphinx_rtd_theme-3.0.2-py2.py3-none-any.whl.metadata (4.4 kB)\n",
            "Collecting discord.py (from pami)\n",
            "  Downloading discord.py-2.4.0-py3-none-any.whl.metadata (6.9 kB)\n",
            "Requirement already satisfied: networkx in /usr/local/lib/python3.10/dist-packages (from pami) (3.4.2)\n",
            "Requirement already satisfied: deprecated in /usr/local/lib/python3.10/dist-packages (from pami) (1.2.15)\n",
            "Collecting fastparquet (from pami)\n",
            "  Downloading fastparquet-2024.11.0-cp310-cp310-manylinux_2_17_x86_64.manylinux2014_x86_64.whl.metadata (4.2 kB)\n",
            "Requirement already satisfied: wrapt<2,>=1.10 in /usr/local/lib/python3.10/dist-packages (from deprecated->pami) (1.16.0)\n",
            "Requirement already satisfied: aiohttp<4,>=3.7.4 in /usr/local/lib/python3.10/dist-packages (from discord.py->pami) (3.11.2)\n",
            "Collecting cramjam>=2.3 (from fastparquet->pami)\n",
            "  Downloading cramjam-2.9.0-cp310-cp310-manylinux_2_17_x86_64.manylinux2014_x86_64.whl.metadata (4.9 kB)\n",
            "Requirement already satisfied: fsspec in /usr/local/lib/python3.10/dist-packages (from fastparquet->pami) (2024.10.0)\n",
            "Requirement already satisfied: packaging in /usr/local/lib/python3.10/dist-packages (from fastparquet->pami) (24.2)\n",
            "Requirement already satisfied: python-dateutil>=2.8.2 in /usr/local/lib/python3.10/dist-packages (from pandas->pami) (2.8.2)\n",
            "Requirement already satisfied: pytz>=2020.1 in /usr/local/lib/python3.10/dist-packages (from pandas->pami) (2024.2)\n",
            "Requirement already satisfied: tzdata>=2022.7 in /usr/local/lib/python3.10/dist-packages (from pandas->pami) (2024.2)\n",
            "Requirement already satisfied: contourpy>=1.0.1 in /usr/local/lib/python3.10/dist-packages (from matplotlib->pami) (1.3.1)\n",
            "Requirement already satisfied: cycler>=0.10 in /usr/local/lib/python3.10/dist-packages (from matplotlib->pami) (0.12.1)\n",
            "Requirement already satisfied: fonttools>=4.22.0 in /usr/local/lib/python3.10/dist-packages (from matplotlib->pami) (4.55.0)\n",
            "Requirement already satisfied: kiwisolver>=1.0.1 in /usr/local/lib/python3.10/dist-packages (from matplotlib->pami) (1.4.7)\n",
            "Requirement already satisfied: pyparsing>=2.3.1 in /usr/local/lib/python3.10/dist-packages (from matplotlib->pami) (3.2.0)\n",
            "Requirement already satisfied: tenacity>=6.2.0 in /usr/local/lib/python3.10/dist-packages (from plotly->pami) (9.0.0)\n",
            "Collecting JsonForm>=0.0.2 (from resource->pami)\n",
            "  Downloading JsonForm-0.0.2.tar.gz (2.4 kB)\n",
            "  Preparing metadata (setup.py) ... \u001b[?25l\u001b[?25hdone\n",
            "Collecting JsonSir>=0.0.2 (from resource->pami)\n",
            "  Downloading JsonSir-0.0.2.tar.gz (2.2 kB)\n",
            "  Preparing metadata (setup.py) ... \u001b[?25l\u001b[?25hdone\n",
            "Collecting python-easyconfig>=0.1.0 (from resource->pami)\n",
            "  Downloading Python_EasyConfig-0.1.7-py2.py3-none-any.whl.metadata (462 bytes)\n",
            "Requirement already satisfied: sphinxcontrib-applehelp>=1.0.7 in /usr/local/lib/python3.10/dist-packages (from sphinx->pami) (2.0.0)\n",
            "Requirement already satisfied: sphinxcontrib-devhelp>=1.0.6 in /usr/local/lib/python3.10/dist-packages (from sphinx->pami) (2.0.0)\n",
            "Requirement already satisfied: sphinxcontrib-htmlhelp>=2.0.6 in /usr/local/lib/python3.10/dist-packages (from sphinx->pami) (2.1.0)\n",
            "Requirement already satisfied: sphinxcontrib-jsmath>=1.0.1 in /usr/local/lib/python3.10/dist-packages (from sphinx->pami) (1.0.1)\n",
            "Requirement already satisfied: sphinxcontrib-qthelp>=1.0.6 in /usr/local/lib/python3.10/dist-packages (from sphinx->pami) (2.0.0)\n",
            "Requirement already satisfied: sphinxcontrib-serializinghtml>=1.1.9 in /usr/local/lib/python3.10/dist-packages (from sphinx->pami) (2.0.0)\n",
            "Requirement already satisfied: Jinja2>=3.1 in /usr/local/lib/python3.10/dist-packages (from sphinx->pami) (3.1.4)\n",
            "Requirement already satisfied: Pygments>=2.17 in /usr/local/lib/python3.10/dist-packages (from sphinx->pami) (2.18.0)\n",
            "Requirement already satisfied: docutils<0.22,>=0.20 in /usr/local/lib/python3.10/dist-packages (from sphinx->pami) (0.21.2)\n",
            "Requirement already satisfied: snowballstemmer>=2.2 in /usr/local/lib/python3.10/dist-packages (from sphinx->pami) (2.2.0)\n",
            "Requirement already satisfied: babel>=2.13 in /usr/local/lib/python3.10/dist-packages (from sphinx->pami) (2.16.0)\n",
            "Requirement already satisfied: alabaster>=0.7.14 in /usr/local/lib/python3.10/dist-packages (from sphinx->pami) (1.0.0)\n",
            "Requirement already satisfied: imagesize>=1.3 in /usr/local/lib/python3.10/dist-packages (from sphinx->pami) (1.4.1)\n",
            "Requirement already satisfied: requests>=2.30.0 in /usr/local/lib/python3.10/dist-packages (from sphinx->pami) (2.32.3)\n",
            "Requirement already satisfied: tomli>=2 in /usr/local/lib/python3.10/dist-packages (from sphinx->pami) (2.1.0)\n",
            "Collecting sphinxcontrib-jquery<5,>=4 (from sphinx-rtd-theme->pami)\n",
            "  Downloading sphinxcontrib_jquery-4.1-py2.py3-none-any.whl.metadata (2.6 kB)\n",
            "Requirement already satisfied: aiohappyeyeballs>=2.3.0 in /usr/local/lib/python3.10/dist-packages (from aiohttp<4,>=3.7.4->discord.py->pami) (2.4.3)\n",
            "Requirement already satisfied: aiosignal>=1.1.2 in /usr/local/lib/python3.10/dist-packages (from aiohttp<4,>=3.7.4->discord.py->pami) (1.3.1)\n",
            "Requirement already satisfied: attrs>=17.3.0 in /usr/local/lib/python3.10/dist-packages (from aiohttp<4,>=3.7.4->discord.py->pami) (24.2.0)\n",
            "Requirement already satisfied: frozenlist>=1.1.1 in /usr/local/lib/python3.10/dist-packages (from aiohttp<4,>=3.7.4->discord.py->pami) (1.5.0)\n",
            "Requirement already satisfied: multidict<7.0,>=4.5 in /usr/local/lib/python3.10/dist-packages (from aiohttp<4,>=3.7.4->discord.py->pami) (6.1.0)\n",
            "Requirement already satisfied: propcache>=0.2.0 in /usr/local/lib/python3.10/dist-packages (from aiohttp<4,>=3.7.4->discord.py->pami) (0.2.0)\n",
            "Requirement already satisfied: yarl<2.0,>=1.17.0 in /usr/local/lib/python3.10/dist-packages (from aiohttp<4,>=3.7.4->discord.py->pami) (1.17.2)\n",
            "Requirement already satisfied: async-timeout<6.0,>=4.0 in /usr/local/lib/python3.10/dist-packages (from aiohttp<4,>=3.7.4->discord.py->pami) (4.0.3)\n",
            "Requirement already satisfied: MarkupSafe>=2.0 in /usr/local/lib/python3.10/dist-packages (from Jinja2>=3.1->sphinx->pami) (3.0.2)\n",
            "Requirement already satisfied: jsonschema in /usr/local/lib/python3.10/dist-packages (from JsonForm>=0.0.2->resource->pami) (4.23.0)\n",
            "Requirement already satisfied: six>=1.5 in /usr/local/lib/python3.10/dist-packages (from python-dateutil>=2.8.2->pandas->pami) (1.16.0)\n",
            "Requirement already satisfied: PyYAML in /usr/local/lib/python3.10/dist-packages (from python-easyconfig>=0.1.0->resource->pami) (6.0.2)\n",
            "Requirement already satisfied: charset-normalizer<4,>=2 in /usr/local/lib/python3.10/dist-packages (from requests>=2.30.0->sphinx->pami) (3.4.0)\n",
            "Requirement already satisfied: idna<4,>=2.5 in /usr/local/lib/python3.10/dist-packages (from requests>=2.30.0->sphinx->pami) (3.10)\n",
            "Requirement already satisfied: certifi>=2017.4.17 in /usr/local/lib/python3.10/dist-packages (from requests>=2.30.0->sphinx->pami) (2024.8.30)\n",
            "Requirement already satisfied: typing-extensions>=4.1.0 in /usr/local/lib/python3.10/dist-packages (from multidict<7.0,>=4.5->aiohttp<4,>=3.7.4->discord.py->pami) (4.12.2)\n",
            "Requirement already satisfied: jsonschema-specifications>=2023.03.6 in /usr/local/lib/python3.10/dist-packages (from jsonschema->JsonForm>=0.0.2->resource->pami) (2024.10.1)\n",
            "Requirement already satisfied: referencing>=0.28.4 in /usr/local/lib/python3.10/dist-packages (from jsonschema->JsonForm>=0.0.2->resource->pami) (0.35.1)\n",
            "Requirement already satisfied: rpds-py>=0.7.1 in /usr/local/lib/python3.10/dist-packages (from jsonschema->JsonForm>=0.0.2->resource->pami) (0.21.0)\n",
            "Downloading pami-2024.11.15.1-py3-none-any.whl (1.2 MB)\n",
            "\u001b[2K   \u001b[90m━━━━━━━━━━━━━━━━━━━━━━━━━━━━━━━━━━━━━━━━\u001b[0m \u001b[32m1.2/1.2 MB\u001b[0m \u001b[31m14.4 MB/s\u001b[0m eta \u001b[36m0:00:00\u001b[0m\n",
            "\u001b[?25hDownloading discord.py-2.4.0-py3-none-any.whl (1.1 MB)\n",
            "\u001b[2K   \u001b[90m━━━━━━━━━━━━━━━━━━━━━━━━━━━━━━━━━━━━━━━━\u001b[0m \u001b[32m1.1/1.1 MB\u001b[0m \u001b[31m36.5 MB/s\u001b[0m eta \u001b[36m0:00:00\u001b[0m\n",
            "\u001b[?25hDownloading fastparquet-2024.11.0-cp310-cp310-manylinux_2_17_x86_64.manylinux2014_x86_64.whl (1.7 MB)\n",
            "\u001b[2K   \u001b[90m━━━━━━━━━━━━━━━━━━━━━━━━━━━━━━━━━━━━━━━━\u001b[0m \u001b[32m1.7/1.7 MB\u001b[0m \u001b[31m38.7 MB/s\u001b[0m eta \u001b[36m0:00:00\u001b[0m\n",
            "\u001b[?25hDownloading Resource-0.2.1-py2.py3-none-any.whl (25 kB)\n",
            "Downloading sphinx_rtd_theme-3.0.2-py2.py3-none-any.whl (7.7 MB)\n",
            "\u001b[2K   \u001b[90m━━━━━━━━━━━━━━━━━━━━━━━━━━━━━━━━━━━━━━━━\u001b[0m \u001b[32m7.7/7.7 MB\u001b[0m \u001b[31m52.9 MB/s\u001b[0m eta \u001b[36m0:00:00\u001b[0m\n",
            "\u001b[?25hDownloading validators-0.34.0-py3-none-any.whl (43 kB)\n",
            "\u001b[2K   \u001b[90m━━━━━━━━━━━━━━━━━━━━━━━━━━━━━━━━━━━━━━━━\u001b[0m \u001b[32m43.5/43.5 kB\u001b[0m \u001b[31m2.6 MB/s\u001b[0m eta \u001b[36m0:00:00\u001b[0m\n",
            "\u001b[?25hDownloading cramjam-2.9.0-cp310-cp310-manylinux_2_17_x86_64.manylinux2014_x86_64.whl (2.4 MB)\n",
            "\u001b[2K   \u001b[90m━━━━━━━━━━━━━━━━━━━━━━━━━━━━━━━━━━━━━━━━\u001b[0m \u001b[32m2.4/2.4 MB\u001b[0m \u001b[31m34.1 MB/s\u001b[0m eta \u001b[36m0:00:00\u001b[0m\n",
            "\u001b[?25hDownloading Python_EasyConfig-0.1.7-py2.py3-none-any.whl (5.4 kB)\n",
            "Downloading sphinxcontrib_jquery-4.1-py2.py3-none-any.whl (121 kB)\n",
            "\u001b[2K   \u001b[90m━━━━━━━━━━━━━━━━━━━━━━━━━━━━━━━━━━━━━━━━\u001b[0m \u001b[32m121.1/121.1 kB\u001b[0m \u001b[31m7.5 MB/s\u001b[0m eta \u001b[36m0:00:00\u001b[0m\n",
            "\u001b[?25hBuilding wheels for collected packages: JsonForm, JsonSir\n",
            "  Building wheel for JsonForm (setup.py) ... \u001b[?25l\u001b[?25hdone\n",
            "  Created wheel for JsonForm: filename=JsonForm-0.0.2-py3-none-any.whl size=3311 sha256=f3d5bdf99e6a6fd89f50e75ecd90a4e06dd2c62f183df746064ae6c62ed0bfef\n",
            "  Stored in directory: /root/.cache/pip/wheels/b6/e5/87/11026246d3bd4ad67c0615682d2d6748bbd9a40ac0490882bd\n",
            "  Building wheel for JsonSir (setup.py) ... \u001b[?25l\u001b[?25hdone\n",
            "  Created wheel for JsonSir: filename=JsonSir-0.0.2-py3-none-any.whl size=4753 sha256=ff4ee55531068366f4fc867710e24ea0af9a3b5cb7a23ccbf556d30c49d65a97\n",
            "  Stored in directory: /root/.cache/pip/wheels/1d/4c/d3/4d9757425983b43eb709be1043d82cd03fb863ce5f56f117e6\n",
            "Successfully built JsonForm JsonSir\n",
            "Installing collected packages: JsonSir, validators, python-easyconfig, cramjam, sphinxcontrib-jquery, fastparquet, sphinx-rtd-theme, JsonForm, discord.py, resource, pami\n",
            "Successfully installed JsonForm-0.0.2 JsonSir-0.0.2 cramjam-2.9.0 discord.py-2.4.0 fastparquet-2024.11.0 pami-2024.11.15.1 python-easyconfig-0.1.7 resource-0.2.1 sphinx-rtd-theme-3.0.2 sphinxcontrib-jquery-4.1 validators-0.34.0\n"
          ]
        }
      ],
      "source": [
        "!pip install pami"
      ]
    },
    {
      "cell_type": "markdown",
      "source": [
        "## Download the sample transactional database"
      ],
      "metadata": {
        "id": "aXMwnQmBF4rr"
      },
      "id": "aXMwnQmBF4rr"
    },
    {
      "cell_type": "code",
      "source": [
        "!wget -nc https://web-ext.u-aizu.ac.jp/~udayrage/datasets/transactionalDatabases/Transactional_T10I4D100K.csv"
      ],
      "metadata": {
        "colab": {
          "base_uri": "https://localhost:8080/"
        },
        "id": "9i5Wvom4F-kr",
        "outputId": "f2d02062-dbea-439c-99ca-62e26ca9068e"
      },
      "id": "9i5Wvom4F-kr",
      "execution_count": null,
      "outputs": [
        {
          "output_type": "stream",
          "name": "stdout",
          "text": [
            "--2024-12-03 05:57:12--  https://web-ext.u-aizu.ac.jp/~udayrage/datasets/transactionalDatabases/Transactional_T10I4D100K.csv\n",
            "Resolving web-ext.u-aizu.ac.jp (web-ext.u-aizu.ac.jp)... 163.143.103.34\n",
            "Connecting to web-ext.u-aizu.ac.jp (web-ext.u-aizu.ac.jp)|163.143.103.34|:443... connected.\n",
            "HTTP request sent, awaiting response... 200 OK\n",
            "Length: 4019277 (3.8M) [text/csv]\n",
            "Saving to: ‘Transactional_T10I4D100K.csv’\n",
            "\n",
            "Transactional_T10I4 100%[===================>]   3.83M  3.88MB/s    in 1.0s    \n",
            "\n",
            "2024-12-03 05:57:14 (3.88 MB/s) - ‘Transactional_T10I4D100K.csv’ saved [4019277/4019277]\n",
            "\n"
          ]
        }
      ]
    },
    {
      "cell_type": "markdown",
      "source": [
        "## Discovering frequent patterns using FP-growth"
      ],
      "metadata": {
        "id": "tiKA5YNBGkZZ"
      },
      "id": "tiKA5YNBGkZZ"
    },
    {
      "cell_type": "markdown",
      "source": [
        "### Generic\n",
        "\n",
        "```python\n",
        "from PAMI.frequentPattern.basic import FPGrowth  as alg\n",
        "\n",
        "obj = alg.FPGrowth(iFile='inputFileName',minSup=minimumSupportvalue,sep='\\t')\n",
        "obj.mine()\n",
        "obj.save('outputFileName')\n",
        "\n",
        "frequentPatternsDF= obj.getPatternsAsDataFrame()\n",
        "print('#Patterns: ' + str(len(frequentPatternsDF)))\n",
        "print('Runtime: ' + str(obj.getRuntime()))\n",
        "print('Memory (RSS): ' + str(obj.getMemoryRSS()))\n",
        "print('Memory (USS): ' + str(obj.getMemoryUSS()))\n",
        "```\n",
        "\n"
      ],
      "metadata": {
        "id": "RwAbDmPAGpLZ"
      },
      "id": "RwAbDmPAGpLZ"
    },
    {
      "cell_type": "markdown",
      "source": [
        "### Example 1"
      ],
      "metadata": {
        "id": "p1h7KQYiG9ae"
      },
      "id": "p1h7KQYiG9ae"
    },
    {
      "cell_type": "code",
      "source": [
        "from PAMI.frequentPattern.basic import FPGrowth  as alg\n",
        "\n",
        "obj = alg.FPGrowth(iFile='Transactional_T10I4D100K.csv',minSup=300,sep='\\t')\n",
        "obj.mine()\n",
        "obj.save('frequentPatternsAtMinSupCount300.txt')\n",
        "\n",
        "frequentPatternsDF= obj.getPatternsAsDataFrame()\n",
        "print('#Patterns: ' + str(len(frequentPatternsDF)))\n",
        "print('Runtime: ' + str(obj.getRuntime()))\n",
        "print('Memory (RSS): ' + str(obj.getMemoryRSS()))\n",
        "print('Memory (USS): ' + str(obj.getMemoryUSS()))"
      ],
      "metadata": {
        "colab": {
          "base_uri": "https://localhost:8080/"
        },
        "id": "aonyqnmUGgyJ",
        "outputId": "36f1488a-1b7f-4079-c24c-9b773f8180f6"
      },
      "id": "aonyqnmUGgyJ",
      "execution_count": null,
      "outputs": [
        {
          "output_type": "stream",
          "name": "stdout",
          "text": [
            "Frequent patterns were generated successfully using frequentPatternGrowth algorithm\n",
            "#Patterns: 4540\n",
            "Runtime: 11.018220901489258\n",
            "Memory (RSS): 562528256\n",
            "Memory (USS): 540168192\n"
          ]
        }
      ]
    },
    {
      "cell_type": "markdown",
      "source": [
        "## Discovering Closed Frequent Patterns"
      ],
      "metadata": {
        "id": "vww7aVdQHP3Z"
      },
      "id": "vww7aVdQHP3Z"
    },
    {
      "cell_type": "markdown",
      "source": [
        "### Generic\n",
        "\n",
        "\n",
        "\n",
        "```python\n",
        "from PAMI.frequentPattern.closed import CHARM  as alg\n",
        "\n",
        "obj = alg.CHARM(iFile='inputFileName', minSup=minimumSupportValue)\n",
        "obj.mine()\n",
        "obj.save('outputFileName')\n",
        "\n",
        "closedFPsDF= obj.getPatternsAsDataFrame()\n",
        "\n",
        "print('#Patterns: ' + str(len(obj.getPatternsAsDataFrame())))  \n",
        "print('Runtime: ' + str(obj.getRuntime()))\n",
        "print('Memory (RSS): ' + str(obj.getMemoryRSS()))\n",
        "print('Memory (USS): ' + str(obj.getMemoryUSS()))\n",
        "```\n",
        "\n"
      ],
      "metadata": {
        "id": "y-Lm5Na9HTvT"
      },
      "id": "y-Lm5Na9HTvT"
    },
    {
      "cell_type": "markdown",
      "source": [
        "### Example 2"
      ],
      "metadata": {
        "id": "TBNI5kT3HqbH"
      },
      "id": "TBNI5kT3HqbH"
    },
    {
      "cell_type": "code",
      "source": [
        "from PAMI.frequentPattern.closed import CHARM  as alg\n",
        "\n",
        "obj = alg.CHARM(iFile='Transactional_T10I4D100K.csv', minSup=300)\n",
        "obj.mine()\n",
        "obj.save('closedFrequentPatterns.txt')\n",
        "\n",
        "closedFPsDF= obj.getPatternsAsDataFrame()\n",
        "\n",
        "print('#Patterns: ' + str(len(obj.getPatternsAsDataFrame())))\n",
        "print('Runtime: ' + str(obj.getRuntime()))\n",
        "print('Memory (RSS): ' + str(obj.getMemoryRSS()))\n",
        "print('Memory (USS): ' + str(obj.getMemoryUSS()))"
      ],
      "metadata": {
        "colab": {
          "base_uri": "https://localhost:8080/"
        },
        "id": "ljtbQUopF1fE",
        "outputId": "4f37d742-281f-47c3-9d19-991f06e2d5b5"
      },
      "id": "ljtbQUopF1fE",
      "execution_count": null,
      "outputs": [
        {
          "output_type": "stream",
          "name": "stdout",
          "text": [
            "Closed Frequent patterns were generated successfully using CHARM algorithm\n",
            "#Patterns: 2856\n",
            "Runtime: 11.586620092391968\n",
            "Memory (RSS): 581001216\n",
            "Memory (USS): 558632960\n"
          ]
        }
      ]
    },
    {
      "cell_type": "markdown",
      "source": [
        "## Discovering Maximal Frequent Patterns"
      ],
      "metadata": {
        "id": "NWzSMDsjH3hs"
      },
      "id": "NWzSMDsjH3hs"
    },
    {
      "cell_type": "markdown",
      "source": [
        "### Generic\n",
        "\n",
        "```python\n",
        "from PAMI.frequentPattern.maximal import MaxFPGrowth  as alg\n",
        "\n",
        "obj = alg.MaxFPGrowth(iFile='inputFileName', minSup=minimumSupportValue)\n",
        "obj.mine()\n",
        "obj.save('outputFileName')\n",
        "\n",
        "maximalFPsDF= obj.getPatternsAsDataFrame()\n",
        "\n",
        "print('#Patterns: ' + str(len(obj.getPatternsAsDataFrame())))\n",
        "print('Runtime: ' + str(obj.getRuntime()))\n",
        "print('Memory (RSS): ' + str(obj.getMemoryRSS()))\n",
        "print('Memory (USS): ' + str(obj.getMemoryUSS()))\n",
        "```\n",
        "\n"
      ],
      "metadata": {
        "id": "ww4Vv1_pH694"
      },
      "id": "ww4Vv1_pH694"
    },
    {
      "cell_type": "markdown",
      "source": [
        "### Example 3"
      ],
      "metadata": {
        "id": "rOeQDaIKIXWi"
      },
      "id": "rOeQDaIKIXWi"
    },
    {
      "cell_type": "code",
      "source": [
        "from PAMI.frequentPattern.maximal import MaxFPGrowth  as alg\n",
        "\n",
        "obj = alg.MaxFPGrowth(iFile='Transactional_T10I4D100K.csv', minSup=300)\n",
        "obj.mine()\n",
        "obj.save('maximalFrequentPatternsAtMinSupCount100.txt')\n",
        "\n",
        "maximalFPsDF= obj.getPatternsAsDataFrame()\n",
        "\n",
        "print('#Patterns: ' + str(len(obj.getPatternsAsDataFrame())))\n",
        "print('Runtime: ' + str(obj.getRuntime()))\n",
        "print('Memory (RSS): ' + str(obj.getMemoryRSS()))\n",
        "print('Memory (USS): ' + str(obj.getMemoryUSS()))"
      ],
      "metadata": {
        "colab": {
          "base_uri": "https://localhost:8080/"
        },
        "id": "_-px1Mv6H6gZ",
        "outputId": "da253725-2c81-4acc-98be-5bf8de520a99"
      },
      "id": "_-px1Mv6H6gZ",
      "execution_count": null,
      "outputs": [
        {
          "output_type": "stream",
          "name": "stdout",
          "text": [
            "Maximal Frequent patterns were generated successfully using MaxFp-Growth algorithm \n",
            "#Patterns: 1292\n",
            "Runtime: 11.646287202835083\n",
            "Memory (RSS): 539312128\n",
            "Memory (USS): 516968448\n"
          ]
        }
      ]
    },
    {
      "cell_type": "markdown",
      "source": [
        "## Discovering Top-k Frequently Occurring Patterns"
      ],
      "metadata": {
        "id": "9r52n1lwIqwO"
      },
      "id": "9r52n1lwIqwO"
    },
    {
      "cell_type": "markdown",
      "source": [
        "### Generic\n",
        "\n",
        "\n",
        "\n",
        "```python\n",
        "from PAMI.frequentPattern.topk import FAE  as alg\n",
        "\n",
        "obj = alg.FAE(iFile='inputFileName', k=number of frequently patterns needed)\n",
        "obj.mine()\n",
        "obj.save('outputFileName')\n",
        "\n",
        "print('#Patterns: ' + str(len(obj.getPatternsAsDataFrame())))\n",
        "print('Runtime: ' + str(obj.getRuntime()))\n",
        "print('Memory (RSS): ' + str(obj.getMemoryRSS()))\n",
        "print('Memory (USS): ' + str(obj.getMemoryUSS()))\n",
        "```\n",
        "\n"
      ],
      "metadata": {
        "id": "bFQ93rypIwdJ"
      },
      "id": "bFQ93rypIwdJ"
    },
    {
      "cell_type": "markdown",
      "source": [
        "### Example 4"
      ],
      "metadata": {
        "id": "8A-ig8K-JBsZ"
      },
      "id": "8A-ig8K-JBsZ"
    },
    {
      "cell_type": "code",
      "source": [
        "from PAMI.frequentPattern.topk import FAE  as alg\n",
        "\n",
        "obj = alg.FAE(iFile='Transactional_T10I4D100K.csv', k=1000)\n",
        "obj.mine()\n",
        "obj.save('topkFrequentPatterns.txt')\n",
        "\n",
        "print('#Patterns: ' + str(len(obj.getPatternsAsDataFrame())))\n",
        "print('Runtime: ' + str(obj.getRuntime()))\n",
        "print('Memory (RSS): ' + str(obj.getMemoryRSS()))\n",
        "print('Memory (USS): ' + str(obj.getMemoryUSS()))"
      ],
      "metadata": {
        "colab": {
          "base_uri": "https://localhost:8080/"
        },
        "id": "FUEpvCYhIv3r",
        "outputId": "da2df095-2cbc-44dd-9dd4-923bee43a411"
      },
      "id": "FUEpvCYhIv3r",
      "execution_count": null,
      "outputs": [
        {
          "output_type": "stream",
          "name": "stdout",
          "text": [
            " TopK frequent patterns were successfully generated using FAE algorithm.\n",
            "#Patterns: 1000\n",
            "Runtime: 19.14928388595581\n",
            "Memory (RSS): 366190592\n",
            "Memory (USS): 343724032\n"
          ]
        }
      ]
    },
    {
      "cell_type": "markdown",
      "source": [
        "## Rare Item Problem - Calculating the items' MIS values"
      ],
      "metadata": {
        "id": "Gc_k_tfwJTOD"
      },
      "id": "Gc_k_tfwJTOD"
    },
    {
      "cell_type": "markdown",
      "source": [
        "### Generic\n",
        "\n",
        "\n",
        "\n",
        "```python\n",
        "from PAMI.extras.calculateMISValues import usingBeta as ub\n",
        "cd = ub.usingBeta(iFile='inputFileName',\n",
        "        beta=percentageOfItemsFrequency, LS=lowestMinimumSupportForAnItem) #using default tab separator\n",
        "cd.calculateMIS()\n",
        "cd.save('outputFileName')\n",
        "```\n",
        "\n"
      ],
      "metadata": {
        "id": "sems1MQUJbaR"
      },
      "id": "sems1MQUJbaR"
    },
    {
      "cell_type": "markdown",
      "source": [
        "### Example 5"
      ],
      "metadata": {
        "id": "fvoG0ZTlJeDk"
      },
      "id": "fvoG0ZTlJeDk"
    },
    {
      "cell_type": "code",
      "source": [
        "from PAMI.extras.calculateMISValues import usingBeta as ub\n",
        "cd = ub.usingBeta(iFile='Transactional_T10I4D100K.csv',\n",
        "        beta=0.5, LS=100) #using default tab separator\n",
        "cd.calculateMIS()\n",
        "cd.save('MIS.txt')"
      ],
      "metadata": {
        "id": "bIA9BiDwJatI"
      },
      "id": "bIA9BiDwJatI",
      "execution_count": null,
      "outputs": []
    },
    {
      "cell_type": "markdown",
      "source": [
        "## Rare Item Problem - Mining Frequent Patterns using Multiple Minimum Support Values"
      ],
      "metadata": {
        "id": "7Vq4trmIKL-J"
      },
      "id": "7Vq4trmIKL-J"
    },
    {
      "cell_type": "markdown",
      "source": [
        "### Generic\n",
        "\n",
        "\n",
        "```python\n",
        "from PAMI.multipleMinimumSupportBasedFrequentPattern.basic \\\n",
        "    import CFPGrowthPlus as alg\n",
        "\n",
        "obj = alg.CFPGrowthPlus(iFile='inputFileName',\n",
        "        MIS='MIS.txt')  #using default tab separator\n",
        "obj.mine()         \n",
        "obj.save('outputFileName')\n",
        "print('Total No of patterns: ' +\n",
        "    str(len(obj.getPatternsAsDataFrame())))\n",
        "print('Runtime: ' + str(obj.getRuntime()))\n",
        "print('Memory (RSS): ' + str(obj.getMemoryRSS()))\n",
        "print('Memory (USS): ' + str(obj.getMemoryUSS()))\n",
        "```\n",
        "\n"
      ],
      "metadata": {
        "id": "k4z2tnqxKUiq"
      },
      "id": "k4z2tnqxKUiq"
    },
    {
      "cell_type": "markdown",
      "source": [
        "### Example 6"
      ],
      "metadata": {
        "id": "Ybolv5HeKX0n"
      },
      "id": "Ybolv5HeKX0n"
    },
    {
      "cell_type": "code",
      "source": [
        "from PAMI.multipleMinimumSupportBasedFrequentPattern.basic \\\n",
        "    import CFPGrowthPlus as alg\n",
        "\n",
        "obj = alg.CFPGrowthPlus(iFile='Transactional_T10I4D100K.csv',\n",
        "        MIS='MIS.txt')  #using default tab separator\n",
        "obj.mine()\n",
        "obj.save('frequentPatternsMultipleMinimumSupports.txt')\n",
        "print('Total No of patterns: ' +\n",
        "    str(len(obj.getPatternsAsDataFrame())))\n",
        "print('Runtime: ' + str(obj.getRuntime()))\n",
        "print('Memory (RSS): ' + str(obj.getMemoryRSS()))\n",
        "print('Memory (USS): ' + str(obj.getMemoryUSS()))"
      ],
      "metadata": {
        "colab": {
          "base_uri": "https://localhost:8080/"
        },
        "id": "dNFmwbO3KT8p",
        "outputId": "5b9882a3-1ff6-4b75-ce5c-3e914b5ae402"
      },
      "id": "dNFmwbO3KT8p",
      "execution_count": null,
      "outputs": [
        {
          "output_type": "stream",
          "name": "stdout",
          "text": [
            "Frequent patterns were generated successfully using Conditional Frequent Pattern Growth algorithm\n",
            "Total No of patterns: 4947\n",
            "Runtime: 17.537547826766968\n",
            "Memory (RSS): 700235776\n",
            "Memory (USS): 677855232\n"
          ]
        }
      ]
    },
    {
      "cell_type": "markdown",
      "source": [
        "## Discovering Correlated Patterns"
      ],
      "metadata": {
        "id": "bmNkbtS_LIAR"
      },
      "id": "bmNkbtS_LIAR"
    },
    {
      "cell_type": "markdown",
      "source": [
        "### Generic\n",
        "\n",
        "\n",
        "\n",
        "```python\n",
        "from PAMI.correlatedPattern.basic import CoMine as alg\n",
        "\n",
        "obj = alg.CoMine(iFile='inputFileName',\n",
        "        minSup=minimumSupportValue, minAllConf=minimumAllConfidenceValue)\n",
        "obj.mine()\n",
        "obj.save('correlatedPatterns.txt')\n",
        "\n",
        "print('#Patterns: ' + str(len(obj.getPatternsAsDataFrame())))\n",
        "print('Runtime: ' + str(obj.getRuntime()))\n",
        "print('Memory (RSS): ' + str(obj.getMemoryRSS()))\n",
        "print('Memory (USS): ' + str(obj.getMemoryUSS()))\n",
        "```\n",
        "\n"
      ],
      "metadata": {
        "id": "-KMikDejLNj8"
      },
      "id": "-KMikDejLNj8"
    },
    {
      "cell_type": "markdown",
      "source": [
        "### Example 7"
      ],
      "metadata": {
        "id": "VeWLau1ELQvt"
      },
      "id": "VeWLau1ELQvt"
    },
    {
      "cell_type": "code",
      "source": [
        "from PAMI.correlatedPattern.basic import CoMine as alg\n",
        "\n",
        "obj = alg.CoMine(iFile='Transactional_T10I4D100K.csv', minSup=300, minAllConf=0.5)\n",
        "obj.mine()\n",
        "obj.save('correlatedPatterns.txt')\n",
        "\n",
        "print('#Patterns: ' + str(len(obj.getPatternsAsDataFrame())))\n",
        "print('Runtime: ' + str(obj.getRuntime()))\n",
        "print('Memory (RSS): ' + str(obj.getMemoryRSS()))\n",
        "print('Memory (USS): ' + str(obj.getMemoryUSS()))"
      ],
      "metadata": {
        "colab": {
          "base_uri": "https://localhost:8080/"
        },
        "id": "lanvH9puLL_F",
        "outputId": "89905d9f-fe58-42fd-9e1f-a2860fe96bc3"
      },
      "id": "lanvH9puLL_F",
      "execution_count": null,
      "outputs": [
        {
          "output_type": "stream",
          "name": "stdout",
          "text": [
            "Correlated patterns were generated successfully using CoMine algorithm\n",
            "#Patterns: 723\n",
            "Runtime: 15.577804803848267\n",
            "Memory (RSS): 657141760\n",
            "Memory (USS): 634855424\n"
          ]
        }
      ]
    },
    {
      "cell_type": "markdown",
      "source": [
        "## Discovering Relative Frequent Patterns"
      ],
      "metadata": {
        "id": "oiCPzdFxLwQ2"
      },
      "id": "oiCPzdFxLwQ2"
    },
    {
      "cell_type": "markdown",
      "source": [
        "### Generic\n",
        "\n",
        "\n",
        "\n",
        "```python\n",
        "from PAMI.relativeFrequentPattern.basic import RSFPGrowth as alg\n",
        "\n",
        "obj = alg.RSFPGrowth(iFile='inputFileName', minSup=minimumSupportCount, minRS=minimumRelativeSupportValue)\n",
        "\n",
        "obj.mine()\n",
        "obj.save('outputFileName')\n",
        "\n",
        "relativeFrequentPatternsDF= obj.getPatternsAsDataFrame()\n",
        "print('#Patterns: ' + str(len(relativeFrequentPatternsDF)))\n",
        "print('Runtime: ' + str(obj.getRuntime())) #measure the runtime\n",
        "print('Memory (RSS): ' + str(obj.getMemoryRSS()))\n",
        "print('Memory (USS): ' + str(obj.getMemoryUSS()))\n",
        "```\n",
        "\n"
      ],
      "metadata": {
        "id": "NgoNQlG9L7nH"
      },
      "id": "NgoNQlG9L7nH"
    },
    {
      "cell_type": "markdown",
      "source": [
        "### Example 8"
      ],
      "metadata": {
        "id": "9pz77qyYL-9T"
      },
      "id": "9pz77qyYL-9T"
    },
    {
      "cell_type": "code",
      "source": [
        "from PAMI.relativeFrequentPattern.basic import RSFPGrowth as alg\n",
        "\n",
        "obj = alg.RSFPGrowth(iFile='Transactional_T10I4D100K.csv', minSup=300, minRS=0.75)\n",
        "\n",
        "obj.mine()\n",
        "obj.save('relativeFrequentPatterns.txt')\n",
        "\n",
        "relativeFrequentPatternsDF= obj.getPatternsAsDataFrame()\n",
        "print('#Patterns: ' + str(len(relativeFrequentPatternsDF)))\n",
        "print('Runtime: ' + str(obj.getRuntime())) #measure the runtime\n",
        "print('Memory (RSS): ' + str(obj.getMemoryRSS()))\n",
        "print('Memory (USS): ' + str(obj.getMemoryUSS()))"
      ],
      "metadata": {
        "colab": {
          "base_uri": "https://localhost:8080/"
        },
        "id": "RG3r3mWELz67",
        "outputId": "d48d2d29-7435-4248-e5f5-922577127a26"
      },
      "id": "RG3r3mWELz67",
      "execution_count": null,
      "outputs": [
        {
          "output_type": "stream",
          "name": "stdout",
          "text": [
            "Relative support frequent patterns were generated successfully using RSFPGrowth algorithm\n",
            "#Patterns: 4540\n",
            "Runtime: 29.90667486190796\n",
            "Memory (RSS): 574488576\n",
            "Memory (USS): 552030208\n"
          ]
        }
      ]
    },
    {
      "cell_type": "markdown",
      "source": [
        "## Discovering Fault-Tolerant Frequent Patterns"
      ],
      "metadata": {
        "id": "v2NKfNVSMciE"
      },
      "id": "v2NKfNVSMciE"
    },
    {
      "cell_type": "markdown",
      "source": [
        "### Generic\n",
        "\n",
        "\n",
        "\n",
        "```python\n",
        "from PAMI.faultTolerantFrequentPattern.basic import FTFPGrowth as alg\n",
        "\n",
        "obj = alg.FTFPGrowth(iFile='inputFileName', minSup=minimumSupportValue, itemSup=minimumSupportAnItemHasToMaintain, minLength=minimumLengthOfAnItemset, faultTolerance=faultTolerantValue, sep=\"\\t\")\n",
        "obj.mine()\n",
        "\n",
        "print('#Patterns: ' + str(len(relativeFrequentPatternsDF)))\n",
        "print('Runtime: ' + str(obj.getRuntime())) #measure the runtime\n",
        "print('Memory (RSS): ' + str(obj.getMemoryRSS()))\n",
        "print('Memory (USS): ' + str(obj.getMemoryUSS()))\n",
        "```\n",
        "\n"
      ],
      "metadata": {
        "id": "MhOhZwq3MgQ2"
      },
      "id": "MhOhZwq3MgQ2"
    },
    {
      "cell_type": "markdown",
      "source": [
        "### Example 9"
      ],
      "metadata": {
        "id": "2-GzQqFuMj3-"
      },
      "id": "2-GzQqFuMj3-"
    },
    {
      "cell_type": "code",
      "source": [
        "from PAMI.faultTolerantFrequentPattern.basic import FTFPGrowth as alg\n",
        "\n",
        "obj = alg.FTFPGrowth(iFile='Transactional_T10I4D100K.csv', minSup=100, itemSup=100, minLength=3, faultTolerance=1, sep=\"\\t\")\n",
        "\n",
        "obj.mine()\n",
        "\n",
        "print('#Patterns: ' + str(len(relativeFrequentPatternsDF)))\n",
        "print('Runtime: ' + str(obj.getRuntime())) #measure the runtime\n",
        "print('Memory (RSS): ' + str(obj.getMemoryRSS()))\n",
        "print('Memory (USS): ' + str(obj.getMemoryUSS()))"
      ],
      "metadata": {
        "colab": {
          "base_uri": "https://localhost:8080/"
        },
        "id": "nSkzk503Mfhs",
        "outputId": "934499cc-952d-4fe7-b0bf-0900b612d377"
      },
      "id": "nSkzk503Mfhs",
      "execution_count": null,
      "outputs": [
        {
          "output_type": "stream",
          "name": "stdout",
          "text": [
            "Frequent patterns were generated successfully using frequentPatternGrowth algorithm\n",
            "#Patterns: 4540\n",
            "Runtime: 18.587899923324585\n",
            "Memory (RSS): 930197504\n",
            "Memory (USS): 907669504\n"
          ]
        }
      ]
    },
    {
      "cell_type": "markdown",
      "source": [
        "## Discovering Association Rules From the Frequent Patterns"
      ],
      "metadata": {
        "id": "8PigaEY6Ng3t"
      },
      "id": "8PigaEY6Ng3t"
    },
    {
      "cell_type": "markdown",
      "source": [
        "### Generic\n",
        "\n",
        "\n",
        "\n",
        "```python\n",
        "from PAMI.AssociationRules.basic import confidence as alg\n",
        "\n",
        "obj = alg.confidence('inputFileName', minConf=minimumConfidenceValue)\n",
        "obj.mine()\n",
        "obj.printResults()\n",
        "obj.save(\"outputFileName\")\n",
        "```\n",
        "\n"
      ],
      "metadata": {
        "id": "jeFj4OWVNmtm"
      },
      "id": "jeFj4OWVNmtm"
    },
    {
      "cell_type": "markdown",
      "source": [
        "### Example 10"
      ],
      "metadata": {
        "id": "EZEFTHfsNsLR"
      },
      "id": "EZEFTHfsNsLR"
    },
    {
      "cell_type": "code",
      "source": [
        "from PAMI.AssociationRules.basic import confidence as alg\n",
        "\n",
        "obj = alg.confidence('frequentPatternsAtMinSupCount300.txt', minConf=0.75)\n",
        "obj.mine()\n",
        "obj.printResults()\n",
        "obj.save(\"associationRulesconfidence.csv\")"
      ],
      "metadata": {
        "colab": {
          "base_uri": "https://localhost:8080/"
        },
        "id": "5otyL8jjNkdh",
        "outputId": "ef9153df-00a8-4e5f-f123-2748a445c955"
      },
      "id": "5otyL8jjNkdh",
      "execution_count": null,
      "outputs": [
        {
          "output_type": "stream",
          "name": "stdout",
          "text": [
            "Association rules successfully  generated from frequent patterns \n",
            "Total number of Association Rules: 22984\n",
            "Total Memory in USS: 903217152\n",
            "Total Memory in RSS 925667328\n",
            "Total ExecutionTime in ms: 0.036444902420043945\n"
          ]
        }
      ]
    }
  ],
  "metadata": {
    "kernelspec": {
      "display_name": "Python 3",
      "language": "python",
      "name": "python3"
    },
    "language_info": {
      "codemirror_mode": {
        "name": "ipython",
        "version": 2
      },
      "file_extension": ".py",
      "mimetype": "text/x-python",
      "name": "python",
      "nbconvert_exporter": "python",
      "pygments_lexer": "ipython2",
      "version": "2.7.6"
    },
    "colab": {
      "provenance": [],
      "toc_visible": true,
      "include_colab_link": true
    }
  },
  "nbformat": 4,
  "nbformat_minor": 5
}