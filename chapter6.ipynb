{
  "cells": [
    {
      "cell_type": "markdown",
      "metadata": {
        "id": "view-in-github",
        "colab_type": "text"
      },
      "source": [
        "<a href=\"https://colab.research.google.com/github/UdayLab/Hands-on-Pattern-Mining/blob/main/chapter6.ipynb\" target=\"_parent\"><img src=\"https://colab.research.google.com/assets/colab-badge.svg\" alt=\"Open In Colab\"/></a>"
      ]
    },
    {
      "cell_type": "markdown",
      "source": [
        "# Chapter 6: Pattern Discovery in Temporal Databases"
      ],
      "metadata": {
        "id": "bSDv12mPf0PV"
      },
      "id": "bSDv12mPf0PV"
    },
    {
      "cell_type": "markdown",
      "source": [
        "## Install the PAMI repository"
      ],
      "metadata": {
        "id": "Pf44oIJRgBK1"
      },
      "id": "Pf44oIJRgBK1"
    },
    {
      "cell_type": "code",
      "source": [
        "!pip install PAMI"
      ],
      "metadata": {
        "colab": {
          "base_uri": "https://localhost:8080/",
          "height": 1000
        },
        "id": "Di-DNu0Gf-ny",
        "outputId": "9ef1d7b8-5539-4272-8a2a-95e2233624af"
      },
      "id": "Di-DNu0Gf-ny",
      "execution_count": null,
      "outputs": [
        {
          "output_type": "stream",
          "name": "stdout",
          "text": [
            "Collecting PAMI\n",
            "  Downloading pami-2025.3.25.1-py3-none-any.whl.metadata (80 kB)\n",
            "\u001b[?25l     \u001b[90m━━━━━━━━━━━━━━━━━━━━━━━━━━━━━━━━━━━━━━━━\u001b[0m \u001b[32m0.0/80.3 kB\u001b[0m \u001b[31m?\u001b[0m eta \u001b[36m-:--:--\u001b[0m\r\u001b[2K     \u001b[91m━━━━━━━━━━━━━━━━━━━━━━━━━━━━━━━━━━━\u001b[0m\u001b[91m╸\u001b[0m\u001b[90m━━━━\u001b[0m \u001b[32m71.7/80.3 kB\u001b[0m \u001b[31m3.3 MB/s\u001b[0m eta \u001b[36m0:00:01\u001b[0m\r\u001b[2K     \u001b[90m━━━━━━━━━━━━━━━━━━━━━━━━━━━━━━━━━━━━━━━━\u001b[0m \u001b[32m80.3/80.3 kB\u001b[0m \u001b[31m1.3 MB/s\u001b[0m eta \u001b[36m0:00:00\u001b[0m\n",
            "\u001b[?25hRequirement already satisfied: psutil in /usr/local/lib/python3.11/dist-packages (from PAMI) (5.9.5)\n",
            "Requirement already satisfied: pandas in /usr/local/lib/python3.11/dist-packages (from PAMI) (2.2.2)\n",
            "Requirement already satisfied: plotly in /usr/local/lib/python3.11/dist-packages (from PAMI) (5.24.1)\n",
            "Requirement already satisfied: matplotlib in /usr/local/lib/python3.11/dist-packages (from PAMI) (3.10.0)\n",
            "Collecting resource (from PAMI)\n",
            "  Downloading Resource-0.2.1-py2.py3-none-any.whl.metadata (478 bytes)\n",
            "Collecting validators (from PAMI)\n",
            "  Downloading validators-0.35.0-py3-none-any.whl.metadata (3.9 kB)\n",
            "Requirement already satisfied: urllib3 in /usr/local/lib/python3.11/dist-packages (from PAMI) (2.4.0)\n",
            "Requirement already satisfied: Pillow in /usr/local/lib/python3.11/dist-packages (from PAMI) (11.2.1)\n",
            "Requirement already satisfied: numpy in /usr/local/lib/python3.11/dist-packages (from PAMI) (2.0.2)\n",
            "Requirement already satisfied: sphinx in /usr/local/lib/python3.11/dist-packages (from PAMI) (8.2.3)\n",
            "Collecting sphinx-rtd-theme (from PAMI)\n",
            "  Downloading sphinx_rtd_theme-3.0.2-py2.py3-none-any.whl.metadata (4.4 kB)\n",
            "Collecting discord.py (from PAMI)\n",
            "  Downloading discord_py-2.5.2-py3-none-any.whl.metadata (7.4 kB)\n",
            "Requirement already satisfied: networkx in /usr/local/lib/python3.11/dist-packages (from PAMI) (3.5)\n",
            "Collecting deprecated (from PAMI)\n",
            "  Downloading Deprecated-1.2.18-py2.py3-none-any.whl.metadata (5.7 kB)\n",
            "Collecting fastparquet (from PAMI)\n",
            "  Downloading fastparquet-2024.11.0-cp311-cp311-manylinux_2_17_x86_64.manylinux2014_x86_64.whl.metadata (4.2 kB)\n",
            "Requirement already satisfied: wrapt<2,>=1.10 in /usr/local/lib/python3.11/dist-packages (from deprecated->PAMI) (1.17.2)\n",
            "Requirement already satisfied: aiohttp<4,>=3.7.4 in /usr/local/lib/python3.11/dist-packages (from discord.py->PAMI) (3.11.15)\n",
            "Requirement already satisfied: cramjam>=2.3 in /usr/local/lib/python3.11/dist-packages (from fastparquet->PAMI) (2.10.0)\n",
            "Requirement already satisfied: fsspec in /usr/local/lib/python3.11/dist-packages (from fastparquet->PAMI) (2025.3.2)\n",
            "Requirement already satisfied: packaging in /usr/local/lib/python3.11/dist-packages (from fastparquet->PAMI) (24.2)\n",
            "Requirement already satisfied: python-dateutil>=2.8.2 in /usr/local/lib/python3.11/dist-packages (from pandas->PAMI) (2.9.0.post0)\n",
            "Requirement already satisfied: pytz>=2020.1 in /usr/local/lib/python3.11/dist-packages (from pandas->PAMI) (2025.2)\n",
            "Requirement already satisfied: tzdata>=2022.7 in /usr/local/lib/python3.11/dist-packages (from pandas->PAMI) (2025.2)\n",
            "Requirement already satisfied: contourpy>=1.0.1 in /usr/local/lib/python3.11/dist-packages (from matplotlib->PAMI) (1.3.2)\n",
            "Requirement already satisfied: cycler>=0.10 in /usr/local/lib/python3.11/dist-packages (from matplotlib->PAMI) (0.12.1)\n",
            "Requirement already satisfied: fonttools>=4.22.0 in /usr/local/lib/python3.11/dist-packages (from matplotlib->PAMI) (4.58.1)\n",
            "Requirement already satisfied: kiwisolver>=1.3.1 in /usr/local/lib/python3.11/dist-packages (from matplotlib->PAMI) (1.4.8)\n",
            "Requirement already satisfied: pyparsing>=2.3.1 in /usr/local/lib/python3.11/dist-packages (from matplotlib->PAMI) (3.2.3)\n",
            "Requirement already satisfied: tenacity>=6.2.0 in /usr/local/lib/python3.11/dist-packages (from plotly->PAMI) (9.1.2)\n",
            "Collecting JsonForm>=0.0.2 (from resource->PAMI)\n",
            "  Downloading JsonForm-0.0.2.tar.gz (2.4 kB)\n",
            "  Preparing metadata (setup.py) ... \u001b[?25l\u001b[?25hdone\n",
            "Collecting JsonSir>=0.0.2 (from resource->PAMI)\n",
            "  Downloading JsonSir-0.0.2.tar.gz (2.2 kB)\n",
            "  Preparing metadata (setup.py) ... \u001b[?25l\u001b[?25hdone\n",
            "Collecting python-easyconfig>=0.1.0 (from resource->PAMI)\n",
            "  Downloading Python_EasyConfig-0.1.7-py2.py3-none-any.whl.metadata (462 bytes)\n",
            "Requirement already satisfied: sphinxcontrib-applehelp>=1.0.7 in /usr/local/lib/python3.11/dist-packages (from sphinx->PAMI) (2.0.0)\n",
            "Requirement already satisfied: sphinxcontrib-devhelp>=1.0.6 in /usr/local/lib/python3.11/dist-packages (from sphinx->PAMI) (2.0.0)\n",
            "Requirement already satisfied: sphinxcontrib-htmlhelp>=2.0.6 in /usr/local/lib/python3.11/dist-packages (from sphinx->PAMI) (2.1.0)\n",
            "Requirement already satisfied: sphinxcontrib-jsmath>=1.0.1 in /usr/local/lib/python3.11/dist-packages (from sphinx->PAMI) (1.0.1)\n",
            "Requirement already satisfied: sphinxcontrib-qthelp>=1.0.6 in /usr/local/lib/python3.11/dist-packages (from sphinx->PAMI) (2.0.0)\n",
            "Requirement already satisfied: sphinxcontrib-serializinghtml>=1.1.9 in /usr/local/lib/python3.11/dist-packages (from sphinx->PAMI) (2.0.0)\n",
            "Requirement already satisfied: Jinja2>=3.1 in /usr/local/lib/python3.11/dist-packages (from sphinx->PAMI) (3.1.6)\n",
            "Requirement already satisfied: Pygments>=2.17 in /usr/local/lib/python3.11/dist-packages (from sphinx->PAMI) (2.19.1)\n",
            "Requirement already satisfied: docutils<0.22,>=0.20 in /usr/local/lib/python3.11/dist-packages (from sphinx->PAMI) (0.21.2)\n",
            "Requirement already satisfied: snowballstemmer>=2.2 in /usr/local/lib/python3.11/dist-packages (from sphinx->PAMI) (3.0.1)\n",
            "Requirement already satisfied: babel>=2.13 in /usr/local/lib/python3.11/dist-packages (from sphinx->PAMI) (2.17.0)\n",
            "Requirement already satisfied: alabaster>=0.7.14 in /usr/local/lib/python3.11/dist-packages (from sphinx->PAMI) (1.0.0)\n",
            "Requirement already satisfied: imagesize>=1.3 in /usr/local/lib/python3.11/dist-packages (from sphinx->PAMI) (1.4.1)\n",
            "Requirement already satisfied: requests>=2.30.0 in /usr/local/lib/python3.11/dist-packages (from sphinx->PAMI) (2.32.3)\n",
            "Requirement already satisfied: roman-numerals-py>=1.0.0 in /usr/local/lib/python3.11/dist-packages (from sphinx->PAMI) (3.1.0)\n",
            "Collecting sphinxcontrib-jquery<5,>=4 (from sphinx-rtd-theme->PAMI)\n",
            "  Downloading sphinxcontrib_jquery-4.1-py2.py3-none-any.whl.metadata (2.6 kB)\n",
            "Requirement already satisfied: aiohappyeyeballs>=2.3.0 in /usr/local/lib/python3.11/dist-packages (from aiohttp<4,>=3.7.4->discord.py->PAMI) (2.6.1)\n",
            "Requirement already satisfied: aiosignal>=1.1.2 in /usr/local/lib/python3.11/dist-packages (from aiohttp<4,>=3.7.4->discord.py->PAMI) (1.3.2)\n",
            "Requirement already satisfied: attrs>=17.3.0 in /usr/local/lib/python3.11/dist-packages (from aiohttp<4,>=3.7.4->discord.py->PAMI) (25.3.0)\n",
            "Requirement already satisfied: frozenlist>=1.1.1 in /usr/local/lib/python3.11/dist-packages (from aiohttp<4,>=3.7.4->discord.py->PAMI) (1.6.0)\n",
            "Requirement already satisfied: multidict<7.0,>=4.5 in /usr/local/lib/python3.11/dist-packages (from aiohttp<4,>=3.7.4->discord.py->PAMI) (6.4.4)\n",
            "Requirement already satisfied: propcache>=0.2.0 in /usr/local/lib/python3.11/dist-packages (from aiohttp<4,>=3.7.4->discord.py->PAMI) (0.3.1)\n",
            "Requirement already satisfied: yarl<2.0,>=1.17.0 in /usr/local/lib/python3.11/dist-packages (from aiohttp<4,>=3.7.4->discord.py->PAMI) (1.20.0)\n",
            "Requirement already satisfied: MarkupSafe>=2.0 in /usr/local/lib/python3.11/dist-packages (from Jinja2>=3.1->sphinx->PAMI) (3.0.2)\n",
            "Requirement already satisfied: jsonschema in /usr/local/lib/python3.11/dist-packages (from JsonForm>=0.0.2->resource->PAMI) (4.24.0)\n",
            "Requirement already satisfied: six>=1.5 in /usr/local/lib/python3.11/dist-packages (from python-dateutil>=2.8.2->pandas->PAMI) (1.17.0)\n",
            "Requirement already satisfied: PyYAML in /usr/local/lib/python3.11/dist-packages (from python-easyconfig>=0.1.0->resource->PAMI) (6.0.2)\n",
            "Requirement already satisfied: charset-normalizer<4,>=2 in /usr/local/lib/python3.11/dist-packages (from requests>=2.30.0->sphinx->PAMI) (3.4.2)\n",
            "Requirement already satisfied: idna<4,>=2.5 in /usr/local/lib/python3.11/dist-packages (from requests>=2.30.0->sphinx->PAMI) (3.10)\n",
            "Requirement already satisfied: certifi>=2017.4.17 in /usr/local/lib/python3.11/dist-packages (from requests>=2.30.0->sphinx->PAMI) (2025.4.26)\n",
            "Requirement already satisfied: jsonschema-specifications>=2023.03.6 in /usr/local/lib/python3.11/dist-packages (from jsonschema->JsonForm>=0.0.2->resource->PAMI) (2025.4.1)\n",
            "Requirement already satisfied: referencing>=0.28.4 in /usr/local/lib/python3.11/dist-packages (from jsonschema->JsonForm>=0.0.2->resource->PAMI) (0.36.2)\n",
            "Requirement already satisfied: rpds-py>=0.7.1 in /usr/local/lib/python3.11/dist-packages (from jsonschema->JsonForm>=0.0.2->resource->PAMI) (0.25.1)\n",
            "Requirement already satisfied: typing-extensions>=4.4.0 in /usr/local/lib/python3.11/dist-packages (from referencing>=0.28.4->jsonschema->JsonForm>=0.0.2->resource->PAMI) (4.14.0)\n",
            "Downloading pami-2025.3.25.1-py3-none-any.whl (1.2 MB)\n",
            "\u001b[2K   \u001b[90m━━━━━━━━━━━━━━━━━━━━━━━━━━━━━━━━━━━━━━━━\u001b[0m \u001b[32m1.2/1.2 MB\u001b[0m \u001b[31m9.7 MB/s\u001b[0m eta \u001b[36m0:00:00\u001b[0m\n",
            "\u001b[?25hDownloading Deprecated-1.2.18-py2.py3-none-any.whl (10.0 kB)\n",
            "Downloading discord_py-2.5.2-py3-none-any.whl (1.2 MB)\n",
            "\u001b[2K   \u001b[90m━━━━━━━━━━━━━━━━━━━━━━━━━━━━━━━━━━━━━━━━\u001b[0m \u001b[32m1.2/1.2 MB\u001b[0m \u001b[31m27.2 MB/s\u001b[0m eta \u001b[36m0:00:00\u001b[0m\n",
            "\u001b[?25hDownloading fastparquet-2024.11.0-cp311-cp311-manylinux_2_17_x86_64.manylinux2014_x86_64.whl (1.8 MB)\n",
            "\u001b[2K   \u001b[90m━━━━━━━━━━━━━━━━━━━━━━━━━━━━━━━━━━━━━━━━\u001b[0m \u001b[32m1.8/1.8 MB\u001b[0m \u001b[31m32.5 MB/s\u001b[0m eta \u001b[36m0:00:00\u001b[0m\n",
            "\u001b[?25hDownloading Resource-0.2.1-py2.py3-none-any.whl (25 kB)\n",
            "Downloading sphinx_rtd_theme-3.0.2-py2.py3-none-any.whl (7.7 MB)\n",
            "\u001b[2K   \u001b[90m━━━━━━━━━━━━━━━━━━━━━━━━━━━━━━━━━━━━━━━━\u001b[0m \u001b[32m7.7/7.7 MB\u001b[0m \u001b[31m47.8 MB/s\u001b[0m eta \u001b[36m0:00:00\u001b[0m\n",
            "\u001b[?25hDownloading validators-0.35.0-py3-none-any.whl (44 kB)\n",
            "\u001b[2K   \u001b[90m━━━━━━━━━━━━━━━━━━━━━━━━━━━━━━━━━━━━━━━━\u001b[0m \u001b[32m44.7/44.7 kB\u001b[0m \u001b[31m2.4 MB/s\u001b[0m eta \u001b[36m0:00:00\u001b[0m\n",
            "\u001b[?25hDownloading Python_EasyConfig-0.1.7-py2.py3-none-any.whl (5.4 kB)\n",
            "Downloading sphinxcontrib_jquery-4.1-py2.py3-none-any.whl (121 kB)\n",
            "\u001b[2K   \u001b[90m━━━━━━━━━━━━━━━━━━━━━━━━━━━━━━━━━━━━━━━━\u001b[0m \u001b[32m121.1/121.1 kB\u001b[0m \u001b[31m6.0 MB/s\u001b[0m eta \u001b[36m0:00:00\u001b[0m\n",
            "\u001b[?25hBuilding wheels for collected packages: JsonForm, JsonSir\n",
            "  Building wheel for JsonForm (setup.py) ... \u001b[?25l\u001b[?25hdone\n",
            "  Created wheel for JsonForm: filename=JsonForm-0.0.2-py3-none-any.whl size=3311 sha256=fe4c0ae30b4435ba113a662956bf5bb49a299de238c50b189771a1a2007f062a\n",
            "  Stored in directory: /root/.cache/pip/wheels/ee/53/ac/c77344bd941889aa16ad694cb203ee587de1749e973ba9fdb8\n",
            "  Building wheel for JsonSir (setup.py) ... \u001b[?25l\u001b[?25hdone\n",
            "  Created wheel for JsonSir: filename=JsonSir-0.0.2-py3-none-any.whl size=4754 sha256=0c8c8e77b3cef74222dd128fc149f69c43c91b335b1e67166c0dcc9c3b4f8908\n",
            "  Stored in directory: /root/.cache/pip/wheels/d0/92/1d/bdf54bd7aefaf8305526450e3337733509b755328692619664\n",
            "Successfully built JsonForm JsonSir\n",
            "Installing collected packages: JsonSir, validators, python-easyconfig, deprecated, sphinxcontrib-jquery, fastparquet, discord.py, sphinx-rtd-theme, JsonForm, resource, PAMI\n",
            "Successfully installed JsonForm-0.0.2 JsonSir-0.0.2 PAMI-2025.3.25.1 deprecated-1.2.18 discord.py-2.5.2 fastparquet-2024.11.0 python-easyconfig-0.1.7 resource-0.2.1 sphinx-rtd-theme-3.0.2 sphinxcontrib-jquery-4.1 validators-0.35.0\n"
          ]
        },
        {
          "output_type": "display_data",
          "data": {
            "application/vnd.colab-display-data+json": {
              "pip_warning": {
                "packages": [
                  "sphinxcontrib"
                ]
              },
              "id": "1def766c935a405d93df3c8b9a8479cd"
            }
          },
          "metadata": {}
        }
      ]
    },
    {
      "cell_type": "markdown",
      "source": [
        "## Download a sample database"
      ],
      "metadata": {
        "id": "ExFvurRMgLcO"
      },
      "id": "ExFvurRMgLcO"
    },
    {
      "cell_type": "code",
      "source": [
        "!wget -nc --no-check-certificate https://github.com/UdayLab/Hands-on-Pattern-Mining/raw/main/datasets/Temporal_T10I4D100K.csv"
      ],
      "metadata": {
        "colab": {
          "base_uri": "https://localhost:8080/"
        },
        "id": "utJfyW0XgIhy",
        "outputId": "fcdaca6c-a92e-4043-b53b-4848081c43a1"
      },
      "id": "utJfyW0XgIhy",
      "execution_count": null,
      "outputs": [
        {
          "output_type": "stream",
          "name": "stdout",
          "text": [
            "--2025-06-14 08:17:58--  https://github.com/UdayLab/Hands-on-Pattern-Mining/raw/main/datasets/Temporal_T10I4D100K.csv\n",
            "Resolving github.com (github.com)... 140.82.112.4\n",
            "Connecting to github.com (github.com)|140.82.112.4|:443... connected.\n",
            "HTTP request sent, awaiting response... 302 Found\n",
            "Location: https://raw.githubusercontent.com/UdayLab/Hands-on-Pattern-Mining/main/datasets/Temporal_T10I4D100K.csv [following]\n",
            "--2025-06-14 08:17:59--  https://raw.githubusercontent.com/UdayLab/Hands-on-Pattern-Mining/main/datasets/Temporal_T10I4D100K.csv\n",
            "Resolving raw.githubusercontent.com (raw.githubusercontent.com)... 185.199.110.133, 185.199.108.133, 185.199.111.133, ...\n",
            "Connecting to raw.githubusercontent.com (raw.githubusercontent.com)|185.199.110.133|:443... connected.\n",
            "HTTP request sent, awaiting response... 200 OK\n",
            "Length: 4506849 (4.3M) [text/plain]\n",
            "Saving to: ‘Temporal_T10I4D100K.csv’\n",
            "\n",
            "Temporal_T10I4D100K 100%[===================>]   4.30M  --.-KB/s    in 0.08s   \n",
            "\n",
            "2025-06-14 08:18:00 (54.4 MB/s) - ‘Temporal_T10I4D100K.csv’ saved [4506849/4506849]\n",
            "\n"
          ]
        }
      ]
    },
    {
      "cell_type": "markdown",
      "source": [
        "## Finding Periodic-Frequent Patterns"
      ],
      "metadata": {
        "id": "bOs6qrexhlvj"
      },
      "id": "bOs6qrexhlvj"
    },
    {
      "cell_type": "markdown",
      "source": [
        "### Syntax"
      ],
      "metadata": {
        "id": "nw-mfmwfhqiT"
      },
      "id": "nw-mfmwfhqiT"
    },
    {
      "cell_type": "markdown",
      "source": [
        "```\n",
        "# Import the algorithm\n",
        "from PAMI.periodicFrequentPattern.basic import PFPGrowthPlus as alg\n",
        "\n",
        "obj = alg.PFPGrowthPlus(iFile, minSup, maxPer, sep) # Initialize\n",
        "obj.mine()\n",
        "obj.save('periodicFrequentPatterns.txt')\n",
        "\n",
        "patternsDF = obj.getPatternsAsDataFrame()\n",
        "print('Patterns: ' + str(len(patternsDF)))\n",
        "print('Runtime: ' + str(obj.getRuntime()))\n",
        "print('Memory (RSS): ' + str(obj.getMemoryRSS()))\n",
        "print('Memory (USS): ' + str(obj.getMemoryUSS()))\n",
        "```"
      ],
      "metadata": {
        "id": "H7VeCCPLhtND"
      },
      "id": "H7VeCCPLhtND"
    },
    {
      "cell_type": "markdown",
      "source": [
        "### Example 1"
      ],
      "metadata": {
        "id": "rdcrp4-bh7mU"
      },
      "id": "rdcrp4-bh7mU"
    },
    {
      "cell_type": "code",
      "source": [
        "from PAMI.periodicFrequentPattern.basic import PFPGrowthPlus as alg # Import the algorithm\n",
        "\n",
        "obj = alg.PFPGrowthPlus(iFile='Temporal_T10I4D100K.csv', minSup=100, maxPer='2000', sep='\\t') # Initialize\n",
        "obj.mine()\n",
        "obj.save('periodicFrequentPatterns.txt')\n",
        "\n",
        "patternsDF = obj.getPatternsAsDataFrame()\n",
        "print('Patterns: ' + str(len(patternsDF)))\n",
        "print('Runtime: ' + str(obj.getRuntime()))\n",
        "print('Memory (RSS): ' + str(obj.getMemoryRSS()))\n",
        "print('Memory (USS): ' + str(obj.getMemoryUSS()))"
      ],
      "metadata": {
        "colab": {
          "base_uri": "https://localhost:8080/"
        },
        "id": "TLsza0Fvgrv6",
        "outputId": "6b350f59-8970-47a3-bfac-7f6af2ce20eb"
      },
      "id": "TLsza0Fvgrv6",
      "execution_count": null,
      "outputs": [
        {
          "output_type": "stream",
          "name": "stdout",
          "text": [
            "periodic-frequent patterns were generated successfully using PFPGrowth++ algorithm \n",
            "Patterns: 18\n",
            "Runtime: 1.2510647773742676\n",
            "Memory (RSS): 278003712\n",
            "Memory (USS): 257417216\n"
          ]
        }
      ]
    },
    {
      "cell_type": "markdown",
      "source": [
        "## Finding Closed Periodic-Frequent Patterns"
      ],
      "metadata": {
        "id": "5Fmb92Y9iFxt"
      },
      "id": "5Fmb92Y9iFxt"
    },
    {
      "cell_type": "markdown",
      "source": [
        "### Syntax"
      ],
      "metadata": {
        "id": "NkYbh6a0iM59"
      },
      "id": "NkYbh6a0iM59"
    },
    {
      "cell_type": "markdown",
      "source": [
        "```\n",
        "#import the algorithm\n",
        "from PAMI.periodicFrequentPattern.closed import CPFPMiner as alg\n",
        "\n",
        "#pass the input arguments (or parameters)\n",
        "obj = alg.CPFPMiner(iFile, minSup, maxPer, sep)\n",
        "\n",
        "#mine the patterns\n",
        "obj.mine()\n",
        "\n",
        "#save the patterns in a file\n",
        "obj.save('closedPeriodicFrequentPatterns.txt')\n",
        "\n",
        "#Get the discovered patterns in a dataframe format\n",
        "patternsDF = obj.getPatternsAsDataFrame()\n",
        "\n",
        "#print the statistics\n",
        "print('Patterns: ' + str(len(patternsDF)))\n",
        "print('Runtime: ' + str(obj.getRuntime()))\n",
        "print('Memory (RSS): ' + str(obj.getMemoryRSS()))\n",
        "print('Memory (USS): ' + str(obj.getMemoryUSS()))\n",
        "```"
      ],
      "metadata": {
        "id": "8o7eahwoiPH9"
      },
      "id": "8o7eahwoiPH9"
    },
    {
      "cell_type": "markdown",
      "source": [
        "### Example 2"
      ],
      "metadata": {
        "id": "FysBz54Aiqmf"
      },
      "id": "FysBz54Aiqmf"
    },
    {
      "cell_type": "code",
      "source": [
        "from PAMI.periodicFrequentPattern.closed import CPFPMiner as alg\n",
        "\n",
        "obj = alg.CPFPMiner(iFile='Temporal_T10I4D100K.csv', minSup=100, maxPer=2000, sep='\\t')\n",
        "\n",
        "obj.mine()\n",
        "obj.save('closedPeriodicFrequentPatterns.txt')\n",
        "\n",
        "patternsDF = obj.getPatternsAsDataFrame()\n",
        "print('Patterns: ' + str(len(patternsDF)))\n",
        "print('Runtime: ' + str(obj.getRuntime()))\n",
        "print('Memory (RSS): ' + str(obj.getMemoryRSS()))\n",
        "print('Memory (USS): ' + str(obj.getMemoryUSS()))"
      ],
      "metadata": {
        "colab": {
          "base_uri": "https://localhost:8080/"
        },
        "id": "oUZCISNwhkf6",
        "outputId": "43c56eaa-9e72-4f41-f2f0-f5a46db292eb"
      },
      "id": "oUZCISNwhkf6",
      "execution_count": null,
      "outputs": [
        {
          "output_type": "stream",
          "name": "stdout",
          "text": [
            "Closed periodic frequent patterns were generated successfully using CPFPMiner algorithm \n",
            "Patterns: 4834\n",
            "Runtime: 47.8831090927124\n",
            "Memory (RSS): 232337408\n",
            "Memory (USS): 211615744\n"
          ]
        }
      ]
    },
    {
      "cell_type": "markdown",
      "source": [
        "## Finding Maximal Periodic-Frequent Patterns"
      ],
      "metadata": {
        "id": "snq2jEd6iyPH"
      },
      "id": "snq2jEd6iyPH"
    },
    {
      "cell_type": "markdown",
      "source": [
        "### Syntax\n",
        "\n",
        "```\n",
        "#import the algorithm\n",
        "from PAMI.periodicFrequentPattern.maximal  import MaxPFGrowth as alg\n",
        "\n",
        "#pass the input parameters\n",
        "obj = alg.MaxPFGrowth(iFile, minSup, maxPer, sep)\n",
        "\n",
        "#mine the patterns\n",
        "obj.mine()\n",
        "\n",
        "#save the patterns in a file\n",
        "obj.save('maximalPeriodicFrequentPatterns.txt')\n",
        "\n",
        "#get the discovered patterns in a dataframe\n",
        "patternsDF = obj.getPatternsAsDataFrame()\n",
        "\n",
        "#print the stats\n",
        "print('Patterns: ' + str(len(patternsDF)))\n",
        "print('Runtime: ' + str(obj.getRuntime()))\n",
        "print('Memory (RSS): ' + str(obj.getMemoryRSS()))\n",
        "print('Memory (USS): ' + str(obj.getMemoryUSS()))\n",
        "```"
      ],
      "metadata": {
        "id": "N8M_S1dCi-LY"
      },
      "id": "N8M_S1dCi-LY"
    },
    {
      "cell_type": "markdown",
      "source": [
        "### Example 3"
      ],
      "metadata": {
        "id": "ZMVO3CnCjWei"
      },
      "id": "ZMVO3CnCjWei"
    },
    {
      "cell_type": "code",
      "source": [
        "from PAMI.periodicFrequentPattern.maximal  import MaxPFGrowth as alg\n",
        "\n",
        "obj = alg.MaxPFGrowth(iFile='Temporal_T10I4D100K.csv', minSup=100, maxPer=2000, sep='\\t')\n",
        "\n",
        "obj.mine()\n",
        "obj.save('maximalPeriodicFrequentPatterns.txt')\n",
        "\n",
        "patternsDF = obj.getPatternsAsDataFrame()\n",
        "print('Patterns: ' + str(len(patternsDF)))\n",
        "print('Runtime: ' + str(obj.getRuntime()))\n",
        "print('Memory (RSS): ' + str(obj.getMemoryRSS()))\n",
        "print('Memory (USS): ' + str(obj.getMemoryUSS()))"
      ],
      "metadata": {
        "colab": {
          "base_uri": "https://localhost:8080/"
        },
        "id": "qcjrSnWei9db",
        "outputId": "5c58da11-a792-4022-ec87-c486344fcd77"
      },
      "id": "qcjrSnWei9db",
      "execution_count": null,
      "outputs": [
        {
          "output_type": "stream",
          "name": "stdout",
          "text": [
            "Maximal Periodic Frequent patterns were generated successfully using MAX-PFPGrowth algorithm \n",
            "Patterns: 920\n",
            "Runtime: 21.802698612213135\n",
            "Memory (RSS): 575463424\n",
            "Memory (USS): 554782720\n"
          ]
        }
      ]
    },
    {
      "cell_type": "markdown",
      "source": [
        "## Finding Top-K Periodic-Frequent Patterns"
      ],
      "metadata": {
        "id": "cKhLtEtmkZYm"
      },
      "id": "cKhLtEtmkZYm"
    },
    {
      "cell_type": "markdown",
      "source": [
        "### Syntax\n",
        "\n",
        "```\n",
        "#import the algorithm\n",
        "from PAMI.periodicFrequentPattern.topk.kPFPMiner import kPFPMiner as alg\n",
        "\n",
        "#pass the input parameters\n",
        "obj = alg.kPFPMiner(iFile, k, sep)\n",
        "\n",
        "#mine the patterns\n",
        "obj.mine()\n",
        "\n",
        "#save the patterns in a file\n",
        "obj.save('topkPeriodicFrequentPatterns.txt')\n",
        "\n",
        "#get the discovered patterns in a dataframe format\n",
        "kPatternsDF = obj.getPatternsAsDataFrame()\n",
        "\n",
        "#print the stats\n",
        "print('#Patterns: ' + str(len(kPatternsDF)))\n",
        "print('Runtime: ' + str(obj.getRuntime()))\n",
        "print('Memory (RSS): ' + str(obj.getMemoryRSS()))\n",
        "print('Memory (USS): ' + str(obj.getMemoryUSS()))\n",
        "```"
      ],
      "metadata": {
        "id": "x89Ef-eAkdi-"
      },
      "id": "x89Ef-eAkdi-"
    },
    {
      "cell_type": "markdown",
      "source": [
        "### Example 4"
      ],
      "metadata": {
        "id": "-AVRT6UlkxpY"
      },
      "id": "-AVRT6UlkxpY"
    },
    {
      "cell_type": "code",
      "source": [
        "from PAMI.periodicFrequentPattern.topk.kPFPMiner import kPFPMiner as alg\n",
        "\n",
        "obj = alg.kPFPMiner(iFile='Temporal_T10I4D100K.csv', k=1000, sep='\\t')\n",
        "obj.mine()\n",
        "\n",
        "obj.save('topkPeriodicFrequentPatterns.txt')\n",
        "\n",
        "kPatternsDF = obj.getPatternsAsDataFrame()\n",
        "print('#Patterns: ' + str(len(kPatternsDF)))\n",
        "print('Runtime: ' + str(obj.getRuntime()))\n",
        "print('Memory (RSS): ' + str(obj.getMemoryRSS()))\n",
        "print('Memory (USS): ' + str(obj.getMemoryUSS()))"
      ],
      "metadata": {
        "colab": {
          "base_uri": "https://localhost:8080/"
        },
        "id": "CLqU6MQ9kctQ",
        "outputId": "4fd9225b-adb7-4e1c-ec87-e27afeb5d23f"
      },
      "id": "CLqU6MQ9kctQ",
      "execution_count": null,
      "outputs": [
        {
          "output_type": "stream",
          "name": "stdout",
          "text": [
            "kPFPMiner has successfully generated top-k frequent patterns\n",
            "#Patterns: 1000\n",
            "Runtime: 63.6779670715332\n",
            "Memory (RSS): 369688576\n",
            "Memory (USS): 348934144\n"
          ]
        }
      ]
    },
    {
      "cell_type": "markdown",
      "source": [
        "## Finding Periodic-Correlated Patterns"
      ],
      "metadata": {
        "id": "1NrvS28Fk2KH"
      },
      "id": "1NrvS28Fk2KH"
    },
    {
      "cell_type": "markdown",
      "source": [
        "### Syntax\n",
        "\n",
        "```\n",
        "#import the algorithm\n",
        "from PAMI.periodicCorrelatedPattern.basic import EPCPGrowth as alg\n",
        "\n",
        "# Initialize the EPCPGrowth algorithm with the appropriate parameters\n",
        "obj = alg.EPCPGrowth(iFile,minSup,minAllConf,maxPer,maxPerAllConf,sep='\\t')\n",
        "\n",
        "# Mine the periodic-correlated patterns\n",
        "obj.mine()\n",
        "\n",
        "# Save the patterns to a file\n",
        "obj.save('correlatedPeriodicFrequentPatterns.txt')\n",
        "\n",
        "# Retrieve the patterns as a DataFrame\n",
        "correlatedPFPs = obj.getPatternsAsDataFrame()\n",
        "\n",
        "# Display summary information\n",
        "print('#Patterns: ' + str(len(correlatedPFPs)))\n",
        "print('Runtime: ' + str(obj.getRuntime()))\n",
        "print('Memory (RSS): ' + str(obj.getMemoryRSS()))\n",
        "print('Memory (USS): ' + str(obj.getMemoryUSS()))\n",
        "```"
      ],
      "metadata": {
        "id": "b9-r4cEyk-5Y"
      },
      "id": "b9-r4cEyk-5Y"
    },
    {
      "cell_type": "markdown",
      "source": [
        "### Example 5"
      ],
      "metadata": {
        "id": "24CqaNP4lWpK"
      },
      "id": "24CqaNP4lWpK"
    },
    {
      "cell_type": "code",
      "source": [
        "from PAMI.periodicCorrelatedPattern.basic import EPCPGrowth as alg\n",
        "\n",
        "# Initialize the EPCPGrowth algorithm with the appropriate parameters\n",
        "obj = alg.EPCPGrowth(\n",
        "        iFile='Temporal_T10I4D100K.csv',\n",
        "        minSup=100,\n",
        "        minAllConf=0.7,\n",
        "        maxPer=2000,\n",
        "        maxPerAllConf=1.5,\n",
        "        sep='\\t')\n",
        "\n",
        "# Mine the periodic-correlated patterns\n",
        "obj.mine()\n",
        "\n",
        "# Save the patterns to a file\n",
        "obj.save('correlatedPeriodicFrequentPatterns.txt')\n",
        "\n",
        "# Retrieve the patterns as a DataFrame\n",
        "correlatedPFPs = obj.getPatternsAsDataFrame()\n",
        "\n",
        "# Display summary information\n",
        "print('#Patterns: ' + str(len(correlatedPFPs)))\n",
        "print('Runtime: ' + str(obj.getRuntime()))\n",
        "print('Memory (RSS): ' + str(obj.getMemoryRSS()))\n",
        "print('Memory (USS): ' + str(obj.getMemoryUSS()))"
      ],
      "metadata": {
        "colab": {
          "base_uri": "https://localhost:8080/"
        },
        "id": "_HXCkE6-k9yQ",
        "outputId": "e7995e28-b377-4e41-8c6a-64d0cd2f1817"
      },
      "id": "_HXCkE6-k9yQ",
      "execution_count": null,
      "outputs": [
        {
          "output_type": "stream",
          "name": "stdout",
          "text": [
            "Correlated Periodic-Frequent patterns were generated successfully using EPCPGrowth algorithm \n",
            "#Patterns: 679\n",
            "Runtime: 21.492053747177124\n",
            "Memory (RSS): 575119360\n",
            "Memory (USS): 554360832\n"
          ]
        }
      ]
    },
    {
      "cell_type": "markdown",
      "source": [
        "## Finding Partial Periodic-Frequent Patterns"
      ],
      "metadata": {
        "id": "TsRU239wloAa"
      },
      "id": "TsRU239wloAa"
    },
    {
      "cell_type": "markdown",
      "source": [
        "### Syntax\n",
        "\n",
        "```\n",
        "#import the algorithm\n",
        "from PAMI.partialPeriodicFrequentPattern.basic import GPFgrowth as alg\n",
        "\n",
        "# Initialize the GPFgrowth algorithm with the required parameters\n",
        "obj = alg.GPFgrowth(iFile,minSup,maxPer,minPR,sep)\n",
        "\n",
        "# Mine the partial periodic-frequent patterns\n",
        "obj.mine()\n",
        "\n",
        "# Save the patterns to a file\n",
        "obj.save('partialPeriodicFrequentPatterns.txt')\n",
        "\n",
        "# Retrieve the patterns as a DataFrame\n",
        "PPFPs = obj.getPatternsAsDataFrame()\n",
        "\n",
        "# Display summary information\n",
        "print('#Patterns: ' + str(len(PPFPs)))\n",
        "print('Runtime: ' + str(obj.getRuntime()))\n",
        "print('Memory (RSS): ' + str(obj.getMemoryRSS()))\n",
        "print('Memory (USS): ' + str(obj.getMemoryUSS()))\n",
        "```"
      ],
      "metadata": {
        "id": "JR5-ZZvJlsFT"
      },
      "id": "JR5-ZZvJlsFT"
    },
    {
      "cell_type": "markdown",
      "source": [
        "### Example 6"
      ],
      "metadata": {
        "id": "Mkxb9djAl-y0"
      },
      "id": "Mkxb9djAl-y0"
    },
    {
      "cell_type": "code",
      "source": [
        "from PAMI.partialPeriodicFrequentPattern.basic \\\n",
        "    import GPFgrowth as alg\n",
        "\n",
        "# Initialize the GPFgrowth algorithm with the required parameters\n",
        "obj = alg.GPFgrowth(\n",
        "        iFile='Temporal_T10I4D100K.csv',\n",
        "        minSup=100,\n",
        "        maxPer=2000,\n",
        "        minPR=0.5,\n",
        "        sep='\\t')\n",
        "\n",
        "# Mine the partial periodic-frequent patterns\n",
        "obj.mine()\n",
        "\n",
        "# Save the patterns to a file\n",
        "obj.save('partialPeriodicFrequentPatterns.txt')\n",
        "\n",
        "# Retrieve the patterns as a DataFrame\n",
        "PPFPs = obj.getPatternsAsDataFrame()\n",
        "\n",
        "# Display summary information\n",
        "print('#Patterns: ' + str(len(PPFPs)))\n",
        "print('Runtime: ' + str(obj.getRuntime()))\n",
        "print('Memory (RSS): ' + str(obj.getMemoryRSS()))\n",
        "print('Memory (USS): ' + str(obj.getMemoryUSS()))"
      ],
      "metadata": {
        "colab": {
          "base_uri": "https://localhost:8080/",
          "height": 356
        },
        "id": "tMgYsYfZlrXY",
        "outputId": "19b62de6-ea4b-4e3f-d495-21209dd71565"
      },
      "id": "tMgYsYfZlrXY",
      "execution_count": null,
      "outputs": [
        {
          "output_type": "error",
          "ename": "AttributeError",
          "evalue": "'_Node' object has no attribute 'item3'",
          "traceback": [
            "\u001b[0;31m---------------------------------------------------------------------------\u001b[0m",
            "\u001b[0;31mAttributeError\u001b[0m                            Traceback (most recent call last)",
            "\u001b[0;32m<ipython-input-17-491439936>\u001b[0m in \u001b[0;36m<cell line: 0>\u001b[0;34m()\u001b[0m\n\u001b[1;32m     11\u001b[0m \u001b[0;34m\u001b[0m\u001b[0m\n\u001b[1;32m     12\u001b[0m \u001b[0;31m# Mine the partial periodic-frequent patterns\u001b[0m\u001b[0;34m\u001b[0m\u001b[0;34m\u001b[0m\u001b[0m\n\u001b[0;32m---> 13\u001b[0;31m \u001b[0mobj\u001b[0m\u001b[0;34m.\u001b[0m\u001b[0mmine\u001b[0m\u001b[0;34m(\u001b[0m\u001b[0;34m)\u001b[0m\u001b[0;34m\u001b[0m\u001b[0;34m\u001b[0m\u001b[0m\n\u001b[0m\u001b[1;32m     14\u001b[0m \u001b[0;34m\u001b[0m\u001b[0m\n\u001b[1;32m     15\u001b[0m \u001b[0;31m# Save the patterns to a file\u001b[0m\u001b[0;34m\u001b[0m\u001b[0;34m\u001b[0m\u001b[0m\n",
            "\u001b[0;32m/usr/local/lib/python3.11/dist-packages/PAMI/partialPeriodicFrequentPattern/basic/GPFgrowth.py\u001b[0m in \u001b[0;36mmine\u001b[0;34m(self)\u001b[0m\n\u001b[1;32m    465\u001b[0m         \u001b[0;31m# def _construct(self, items, data, patterns):\u001b[0m\u001b[0;34m\u001b[0m\u001b[0;34m\u001b[0m\u001b[0m\n\u001b[1;32m    466\u001b[0m         \u001b[0mroot\u001b[0m\u001b[0;34m,\u001b[0m \u001b[0mitemNodes\u001b[0m \u001b[0;34m=\u001b[0m \u001b[0mself\u001b[0m\u001b[0;34m.\u001b[0m\u001b[0m_construct\u001b[0m\u001b[0;34m(\u001b[0m\u001b[0mitems\u001b[0m\u001b[0;34m,\u001b[0m \u001b[0mself\u001b[0m\u001b[0;34m.\u001b[0m\u001b[0m__Database\u001b[0m\u001b[0;34m)\u001b[0m\u001b[0;34m\u001b[0m\u001b[0;34m\u001b[0m\u001b[0m\n\u001b[0;32m--> 467\u001b[0;31m         \u001b[0mself\u001b[0m\u001b[0;34m.\u001b[0m\u001b[0m_recursive\u001b[0m\u001b[0;34m(\u001b[0m\u001b[0mroot\u001b[0m\u001b[0;34m,\u001b[0m \u001b[0mitemNodes\u001b[0m\u001b[0;34m)\u001b[0m\u001b[0;34m\u001b[0m\u001b[0;34m\u001b[0m\u001b[0m\n\u001b[0m\u001b[1;32m    468\u001b[0m \u001b[0;34m\u001b[0m\u001b[0m\n\u001b[1;32m    469\u001b[0m         \u001b[0mtemp\u001b[0m \u001b[0;34m=\u001b[0m \u001b[0;34m{\u001b[0m\u001b[0;34m}\u001b[0m\u001b[0;34m\u001b[0m\u001b[0;34m\u001b[0m\u001b[0m\n",
            "\u001b[0;32m/usr/local/lib/python3.11/dist-packages/PAMI/partialPeriodicFrequentPattern/basic/GPFgrowth.py\u001b[0m in \u001b[0;36m_recursive\u001b[0;34m(self, root, itemNode)\u001b[0m\n\u001b[1;32m    419\u001b[0m             \u001b[0;32mfor\u001b[0m \u001b[0mitem3\u001b[0m \u001b[0;32min\u001b[0m \u001b[0mmaxPerResults\u001b[0m\u001b[0;34m:\u001b[0m\u001b[0;34m\u001b[0m\u001b[0;34m\u001b[0m\u001b[0m\n\u001b[1;32m    420\u001b[0m                 \u001b[0;32mif\u001b[0m \u001b[0mmaxPerResults\u001b[0m\u001b[0;34m[\u001b[0m\u001b[0mitem3\u001b[0m\u001b[0;34m]\u001b[0m \u001b[0;34m>=\u001b[0m \u001b[0mself\u001b[0m\u001b[0;34m.\u001b[0m\u001b[0m_partialPeriodicPatterns__minPR\u001b[0m\u001b[0;34m:\u001b[0m\u001b[0;34m\u001b[0m\u001b[0;34m\u001b[0m\u001b[0m\n\u001b[0;32m--> 421\u001b[0;31m                     \u001b[0mself\u001b[0m\u001b[0;34m.\u001b[0m\u001b[0m_partialPeriodicPatterns__finalPatterns\u001b[0m\u001b[0;34m[\u001b[0m\u001b[0mtuple\u001b[0m\u001b[0;34m(\u001b[0m\u001b[0mnewRoot\u001b[0m\u001b[0;34m.\u001b[0m\u001b[0mitem3\u001b[0m \u001b[0;34m+\u001b[0m \u001b[0;34m[\u001b[0m\u001b[0mitem3\u001b[0m\u001b[0;34m]\u001b[0m\u001b[0;34m)\u001b[0m\u001b[0;34m]\u001b[0m \u001b[0;34m=\u001b[0m \u001b[0;34m[\u001b[0m\u001b[0mlen\u001b[0m\u001b[0;34m(\u001b[0m\u001b[0mitemLocs\u001b[0m\u001b[0;34m[\u001b[0m\u001b[0mitem3\u001b[0m\u001b[0;34m]\u001b[0m\u001b[0;34m)\u001b[0m\u001b[0;34m,\u001b[0m \u001b[0mmaxPerResults\u001b[0m\u001b[0;34m[\u001b[0m\u001b[0mitem3\u001b[0m\u001b[0;34m]\u001b[0m\u001b[0;34m]\u001b[0m\u001b[0;34m\u001b[0m\u001b[0;34m\u001b[0m\u001b[0m\n\u001b[0m\u001b[1;32m    422\u001b[0m \u001b[0;34m\u001b[0m\u001b[0m\n\u001b[1;32m    423\u001b[0m             \u001b[0;31m# Filter itemLocs based on minSup and maxPer\u001b[0m\u001b[0;34m\u001b[0m\u001b[0;34m\u001b[0m\u001b[0m\n",
            "\u001b[0;31mAttributeError\u001b[0m: '_Node' object has no attribute 'item3'"
          ]
        }
      ]
    },
    {
      "cell_type": "markdown",
      "source": [
        "## Finding Partial Periodic Patterns"
      ],
      "metadata": {
        "id": "e0aWGmVD1oxx"
      },
      "id": "e0aWGmVD1oxx"
    },
    {
      "cell_type": "markdown",
      "source": [
        "### Syntax\n",
        "\n",
        "```\n",
        "from PAMI.partialPeriodicPattern.basic import PPPGrowth as alg\n",
        "\n",
        "# Initialize the PPPGrowth algorithm with necessary parameters\n",
        "obj = alg.PPPGrowth(iFile='Temporal_T10I4D100K.csv', minPS=100, period=200, sep='\\t')\n",
        "\n",
        "# Mine the partial periodic patterns\n",
        "obj.mine()\n",
        "\n",
        "# Save the patterns to a file\n",
        "obj.save('partialPeriodicPatterns.txt')\n",
        "\n",
        "# Retrieve the patterns as a DataFrame\n",
        "PPFPs = obj.getPatternsAsDataFrame()\n",
        "\n",
        "# Display summary information\n",
        "print('#Patterns: ' + str(len(PPFPs)))\n",
        "print('Runtime: ' + str(obj.getRuntime()))\n",
        "print('Memory (RSS): ' + str(obj.getMemoryRSS()))\n",
        "print('Memory (USS): ' + str(obj.getMemoryUSS()))\n",
        "```"
      ],
      "metadata": {
        "id": "4cgb9K1D1zS5"
      },
      "id": "4cgb9K1D1zS5"
    },
    {
      "cell_type": "code",
      "source": [],
      "metadata": {
        "id": "E7PnOPxA1ykm"
      },
      "id": "E7PnOPxA1ykm",
      "execution_count": null,
      "outputs": []
    }
  ],
  "metadata": {
    "kernelspec": {
      "display_name": "Python 3",
      "language": "python",
      "name": "python3"
    },
    "language_info": {
      "codemirror_mode": {
        "name": "ipython",
        "version": 2
      },
      "file_extension": ".py",
      "mimetype": "text/x-python",
      "name": "python",
      "nbconvert_exporter": "python",
      "pygments_lexer": "ipython2",
      "version": "2.7.6"
    },
    "colab": {
      "provenance": [],
      "toc_visible": true,
      "include_colab_link": true
    }
  },
  "nbformat": 4,
  "nbformat_minor": 5
}