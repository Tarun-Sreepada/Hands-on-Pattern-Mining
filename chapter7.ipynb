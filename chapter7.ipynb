{
  "cells": [
    {
      "cell_type": "markdown",
      "metadata": {
        "id": "view-in-github",
        "colab_type": "text"
      },
      "source": [
        "<a href=\"https://colab.research.google.com/github/UdayLab/Hands-on-Pattern-Mining/blob/main/chapter7.ipynb\" target=\"_parent\"><img src=\"https://colab.research.google.com/assets/colab-badge.svg\" alt=\"Open In Colab\"/></a>"
      ]
    },
    {
      "cell_type": "markdown",
      "source": [
        "# Chapter 7: Spatial Databases: Representation, Creation, and Statistics"
      ],
      "metadata": {
        "id": "y3s-3Q_piu8t"
      },
      "id": "y3s-3Q_piu8t"
    },
    {
      "cell_type": "markdown",
      "source": [
        "## Installation of PAMI library"
      ],
      "metadata": {
        "id": "rOTWYp6tizpr"
      },
      "id": "rOTWYp6tizpr"
    },
    {
      "cell_type": "code",
      "execution_count": 1,
      "id": "initial_id",
      "metadata": {
        "collapsed": true,
        "colab": {
          "base_uri": "https://localhost:8080/",
          "height": 1000
        },
        "id": "initial_id",
        "outputId": "7f78f392-923b-4062-a250-c046c0b0e169"
      },
      "outputs": [
        {
          "output_type": "stream",
          "name": "stdout",
          "text": [
            "Collecting pami\n",
            "  Downloading pami-2025.3.25.1-py3-none-any.whl.metadata (80 kB)\n",
            "\u001b[2K     \u001b[90m━━━━━━━━━━━━━━━━━━━━━━━━━━━━━━━━━━━━━━━\u001b[0m \u001b[32m80.3/80.3 kB\u001b[0m \u001b[31m805.3 kB/s\u001b[0m eta \u001b[36m0:00:00\u001b[0m\n",
            "\u001b[?25hRequirement already satisfied: psutil in /usr/local/lib/python3.11/dist-packages (from pami) (5.9.5)\n",
            "Requirement already satisfied: pandas in /usr/local/lib/python3.11/dist-packages (from pami) (2.2.2)\n",
            "Requirement already satisfied: plotly in /usr/local/lib/python3.11/dist-packages (from pami) (5.24.1)\n",
            "Requirement already satisfied: matplotlib in /usr/local/lib/python3.11/dist-packages (from pami) (3.10.0)\n",
            "Collecting resource (from pami)\n",
            "  Downloading Resource-0.2.1-py2.py3-none-any.whl.metadata (478 bytes)\n",
            "Collecting validators (from pami)\n",
            "  Downloading validators-0.35.0-py3-none-any.whl.metadata (3.9 kB)\n",
            "Requirement already satisfied: urllib3 in /usr/local/lib/python3.11/dist-packages (from pami) (2.4.0)\n",
            "Requirement already satisfied: Pillow in /usr/local/lib/python3.11/dist-packages (from pami) (11.2.1)\n",
            "Requirement already satisfied: numpy in /usr/local/lib/python3.11/dist-packages (from pami) (2.0.2)\n",
            "Requirement already satisfied: sphinx in /usr/local/lib/python3.11/dist-packages (from pami) (8.2.3)\n",
            "Collecting sphinx-rtd-theme (from pami)\n",
            "  Downloading sphinx_rtd_theme-3.0.2-py2.py3-none-any.whl.metadata (4.4 kB)\n",
            "Collecting discord.py (from pami)\n",
            "  Downloading discord_py-2.5.2-py3-none-any.whl.metadata (7.4 kB)\n",
            "Requirement already satisfied: networkx in /usr/local/lib/python3.11/dist-packages (from pami) (3.5)\n",
            "Collecting deprecated (from pami)\n",
            "  Downloading Deprecated-1.2.18-py2.py3-none-any.whl.metadata (5.7 kB)\n",
            "Collecting fastparquet (from pami)\n",
            "  Downloading fastparquet-2024.11.0-cp311-cp311-manylinux_2_17_x86_64.manylinux2014_x86_64.whl.metadata (4.2 kB)\n",
            "Requirement already satisfied: wrapt<2,>=1.10 in /usr/local/lib/python3.11/dist-packages (from deprecated->pami) (1.17.2)\n",
            "Requirement already satisfied: aiohttp<4,>=3.7.4 in /usr/local/lib/python3.11/dist-packages (from discord.py->pami) (3.11.15)\n",
            "Requirement already satisfied: cramjam>=2.3 in /usr/local/lib/python3.11/dist-packages (from fastparquet->pami) (2.10.0)\n",
            "Requirement already satisfied: fsspec in /usr/local/lib/python3.11/dist-packages (from fastparquet->pami) (2025.3.2)\n",
            "Requirement already satisfied: packaging in /usr/local/lib/python3.11/dist-packages (from fastparquet->pami) (24.2)\n",
            "Requirement already satisfied: python-dateutil>=2.8.2 in /usr/local/lib/python3.11/dist-packages (from pandas->pami) (2.9.0.post0)\n",
            "Requirement already satisfied: pytz>=2020.1 in /usr/local/lib/python3.11/dist-packages (from pandas->pami) (2025.2)\n",
            "Requirement already satisfied: tzdata>=2022.7 in /usr/local/lib/python3.11/dist-packages (from pandas->pami) (2025.2)\n",
            "Requirement already satisfied: contourpy>=1.0.1 in /usr/local/lib/python3.11/dist-packages (from matplotlib->pami) (1.3.2)\n",
            "Requirement already satisfied: cycler>=0.10 in /usr/local/lib/python3.11/dist-packages (from matplotlib->pami) (0.12.1)\n",
            "Requirement already satisfied: fonttools>=4.22.0 in /usr/local/lib/python3.11/dist-packages (from matplotlib->pami) (4.58.1)\n",
            "Requirement already satisfied: kiwisolver>=1.3.1 in /usr/local/lib/python3.11/dist-packages (from matplotlib->pami) (1.4.8)\n",
            "Requirement already satisfied: pyparsing>=2.3.1 in /usr/local/lib/python3.11/dist-packages (from matplotlib->pami) (3.2.3)\n",
            "Requirement already satisfied: tenacity>=6.2.0 in /usr/local/lib/python3.11/dist-packages (from plotly->pami) (9.1.2)\n",
            "Collecting JsonForm>=0.0.2 (from resource->pami)\n",
            "  Downloading JsonForm-0.0.2.tar.gz (2.4 kB)\n",
            "  Preparing metadata (setup.py) ... \u001b[?25l\u001b[?25hdone\n",
            "Collecting JsonSir>=0.0.2 (from resource->pami)\n",
            "  Downloading JsonSir-0.0.2.tar.gz (2.2 kB)\n",
            "  Preparing metadata (setup.py) ... \u001b[?25l\u001b[?25hdone\n",
            "Collecting python-easyconfig>=0.1.0 (from resource->pami)\n",
            "  Downloading Python_EasyConfig-0.1.7-py2.py3-none-any.whl.metadata (462 bytes)\n",
            "Requirement already satisfied: sphinxcontrib-applehelp>=1.0.7 in /usr/local/lib/python3.11/dist-packages (from sphinx->pami) (2.0.0)\n",
            "Requirement already satisfied: sphinxcontrib-devhelp>=1.0.6 in /usr/local/lib/python3.11/dist-packages (from sphinx->pami) (2.0.0)\n",
            "Requirement already satisfied: sphinxcontrib-htmlhelp>=2.0.6 in /usr/local/lib/python3.11/dist-packages (from sphinx->pami) (2.1.0)\n",
            "Requirement already satisfied: sphinxcontrib-jsmath>=1.0.1 in /usr/local/lib/python3.11/dist-packages (from sphinx->pami) (1.0.1)\n",
            "Requirement already satisfied: sphinxcontrib-qthelp>=1.0.6 in /usr/local/lib/python3.11/dist-packages (from sphinx->pami) (2.0.0)\n",
            "Requirement already satisfied: sphinxcontrib-serializinghtml>=1.1.9 in /usr/local/lib/python3.11/dist-packages (from sphinx->pami) (2.0.0)\n",
            "Requirement already satisfied: Jinja2>=3.1 in /usr/local/lib/python3.11/dist-packages (from sphinx->pami) (3.1.6)\n",
            "Requirement already satisfied: Pygments>=2.17 in /usr/local/lib/python3.11/dist-packages (from sphinx->pami) (2.19.1)\n",
            "Requirement already satisfied: docutils<0.22,>=0.20 in /usr/local/lib/python3.11/dist-packages (from sphinx->pami) (0.21.2)\n",
            "Requirement already satisfied: snowballstemmer>=2.2 in /usr/local/lib/python3.11/dist-packages (from sphinx->pami) (3.0.1)\n",
            "Requirement already satisfied: babel>=2.13 in /usr/local/lib/python3.11/dist-packages (from sphinx->pami) (2.17.0)\n",
            "Requirement already satisfied: alabaster>=0.7.14 in /usr/local/lib/python3.11/dist-packages (from sphinx->pami) (1.0.0)\n",
            "Requirement already satisfied: imagesize>=1.3 in /usr/local/lib/python3.11/dist-packages (from sphinx->pami) (1.4.1)\n",
            "Requirement already satisfied: requests>=2.30.0 in /usr/local/lib/python3.11/dist-packages (from sphinx->pami) (2.32.3)\n",
            "Requirement already satisfied: roman-numerals-py>=1.0.0 in /usr/local/lib/python3.11/dist-packages (from sphinx->pami) (3.1.0)\n",
            "Collecting sphinxcontrib-jquery<5,>=4 (from sphinx-rtd-theme->pami)\n",
            "  Downloading sphinxcontrib_jquery-4.1-py2.py3-none-any.whl.metadata (2.6 kB)\n",
            "Requirement already satisfied: aiohappyeyeballs>=2.3.0 in /usr/local/lib/python3.11/dist-packages (from aiohttp<4,>=3.7.4->discord.py->pami) (2.6.1)\n",
            "Requirement already satisfied: aiosignal>=1.1.2 in /usr/local/lib/python3.11/dist-packages (from aiohttp<4,>=3.7.4->discord.py->pami) (1.3.2)\n",
            "Requirement already satisfied: attrs>=17.3.0 in /usr/local/lib/python3.11/dist-packages (from aiohttp<4,>=3.7.4->discord.py->pami) (25.3.0)\n",
            "Requirement already satisfied: frozenlist>=1.1.1 in /usr/local/lib/python3.11/dist-packages (from aiohttp<4,>=3.7.4->discord.py->pami) (1.6.0)\n",
            "Requirement already satisfied: multidict<7.0,>=4.5 in /usr/local/lib/python3.11/dist-packages (from aiohttp<4,>=3.7.4->discord.py->pami) (6.4.4)\n",
            "Requirement already satisfied: propcache>=0.2.0 in /usr/local/lib/python3.11/dist-packages (from aiohttp<4,>=3.7.4->discord.py->pami) (0.3.1)\n",
            "Requirement already satisfied: yarl<2.0,>=1.17.0 in /usr/local/lib/python3.11/dist-packages (from aiohttp<4,>=3.7.4->discord.py->pami) (1.20.0)\n",
            "Requirement already satisfied: MarkupSafe>=2.0 in /usr/local/lib/python3.11/dist-packages (from Jinja2>=3.1->sphinx->pami) (3.0.2)\n",
            "Requirement already satisfied: jsonschema in /usr/local/lib/python3.11/dist-packages (from JsonForm>=0.0.2->resource->pami) (4.24.0)\n",
            "Requirement already satisfied: six>=1.5 in /usr/local/lib/python3.11/dist-packages (from python-dateutil>=2.8.2->pandas->pami) (1.17.0)\n",
            "Requirement already satisfied: PyYAML in /usr/local/lib/python3.11/dist-packages (from python-easyconfig>=0.1.0->resource->pami) (6.0.2)\n",
            "Requirement already satisfied: charset-normalizer<4,>=2 in /usr/local/lib/python3.11/dist-packages (from requests>=2.30.0->sphinx->pami) (3.4.2)\n",
            "Requirement already satisfied: idna<4,>=2.5 in /usr/local/lib/python3.11/dist-packages (from requests>=2.30.0->sphinx->pami) (3.10)\n",
            "Requirement already satisfied: certifi>=2017.4.17 in /usr/local/lib/python3.11/dist-packages (from requests>=2.30.0->sphinx->pami) (2025.4.26)\n",
            "Requirement already satisfied: jsonschema-specifications>=2023.03.6 in /usr/local/lib/python3.11/dist-packages (from jsonschema->JsonForm>=0.0.2->resource->pami) (2025.4.1)\n",
            "Requirement already satisfied: referencing>=0.28.4 in /usr/local/lib/python3.11/dist-packages (from jsonschema->JsonForm>=0.0.2->resource->pami) (0.36.2)\n",
            "Requirement already satisfied: rpds-py>=0.7.1 in /usr/local/lib/python3.11/dist-packages (from jsonschema->JsonForm>=0.0.2->resource->pami) (0.25.1)\n",
            "Requirement already satisfied: typing-extensions>=4.4.0 in /usr/local/lib/python3.11/dist-packages (from referencing>=0.28.4->jsonschema->JsonForm>=0.0.2->resource->pami) (4.14.0)\n",
            "Downloading pami-2025.3.25.1-py3-none-any.whl (1.2 MB)\n",
            "\u001b[2K   \u001b[90m━━━━━━━━━━━━━━━━━━━━━━━━━━━━━━━━━━━━━━━━\u001b[0m \u001b[32m1.2/1.2 MB\u001b[0m \u001b[31m41.3 MB/s\u001b[0m eta \u001b[36m0:00:00\u001b[0m\n",
            "\u001b[?25hDownloading Deprecated-1.2.18-py2.py3-none-any.whl (10.0 kB)\n",
            "Downloading discord_py-2.5.2-py3-none-any.whl (1.2 MB)\n",
            "\u001b[2K   \u001b[90m━━━━━━━━━━━━━━━━━━━━━━━━━━━━━━━━━━━━━━━━\u001b[0m \u001b[32m1.2/1.2 MB\u001b[0m \u001b[31m44.0 MB/s\u001b[0m eta \u001b[36m0:00:00\u001b[0m\n",
            "\u001b[?25hDownloading fastparquet-2024.11.0-cp311-cp311-manylinux_2_17_x86_64.manylinux2014_x86_64.whl (1.8 MB)\n",
            "\u001b[2K   \u001b[90m━━━━━━━━━━━━━━━━━━━━━━━━━━━━━━━━━━━━━━━━\u001b[0m \u001b[32m1.8/1.8 MB\u001b[0m \u001b[31m61.1 MB/s\u001b[0m eta \u001b[36m0:00:00\u001b[0m\n",
            "\u001b[?25hDownloading Resource-0.2.1-py2.py3-none-any.whl (25 kB)\n",
            "Downloading sphinx_rtd_theme-3.0.2-py2.py3-none-any.whl (7.7 MB)\n",
            "\u001b[2K   \u001b[90m━━━━━━━━━━━━━━━━━━━━━━━━━━━━━━━━━━━━━━━━\u001b[0m \u001b[32m7.7/7.7 MB\u001b[0m \u001b[31m79.6 MB/s\u001b[0m eta \u001b[36m0:00:00\u001b[0m\n",
            "\u001b[?25hDownloading validators-0.35.0-py3-none-any.whl (44 kB)\n",
            "\u001b[2K   \u001b[90m━━━━━━━━━━━━━━━━━━━━━━━━━━━━━━━━━━━━━━━━\u001b[0m \u001b[32m44.7/44.7 kB\u001b[0m \u001b[31m2.8 MB/s\u001b[0m eta \u001b[36m0:00:00\u001b[0m\n",
            "\u001b[?25hDownloading Python_EasyConfig-0.1.7-py2.py3-none-any.whl (5.4 kB)\n",
            "Downloading sphinxcontrib_jquery-4.1-py2.py3-none-any.whl (121 kB)\n",
            "\u001b[2K   \u001b[90m━━━━━━━━━━━━━━━━━━━━━━━━━━━━━━━━━━━━━━━━\u001b[0m \u001b[32m121.1/121.1 kB\u001b[0m \u001b[31m8.9 MB/s\u001b[0m eta \u001b[36m0:00:00\u001b[0m\n",
            "\u001b[?25hBuilding wheels for collected packages: JsonForm, JsonSir\n",
            "  Building wheel for JsonForm (setup.py) ... \u001b[?25l\u001b[?25hdone\n",
            "  Created wheel for JsonForm: filename=JsonForm-0.0.2-py3-none-any.whl size=3311 sha256=250050397b966995634a700252c7abbae7ec2ad60bde935393136b2193f7b979\n",
            "  Stored in directory: /root/.cache/pip/wheels/ee/53/ac/c77344bd941889aa16ad694cb203ee587de1749e973ba9fdb8\n",
            "  Building wheel for JsonSir (setup.py) ... \u001b[?25l\u001b[?25hdone\n",
            "  Created wheel for JsonSir: filename=JsonSir-0.0.2-py3-none-any.whl size=4754 sha256=65847e0a2d51286f02bf034695e8cd531ff80baa4d701bdaa57f8d666023fa42\n",
            "  Stored in directory: /root/.cache/pip/wheels/d0/92/1d/bdf54bd7aefaf8305526450e3337733509b755328692619664\n",
            "Successfully built JsonForm JsonSir\n",
            "Installing collected packages: JsonSir, validators, python-easyconfig, deprecated, sphinxcontrib-jquery, fastparquet, discord.py, sphinx-rtd-theme, JsonForm, resource, pami\n",
            "Successfully installed JsonForm-0.0.2 JsonSir-0.0.2 deprecated-1.2.18 discord.py-2.5.2 fastparquet-2024.11.0 pami-2025.3.25.1 python-easyconfig-0.1.7 resource-0.2.1 sphinx-rtd-theme-3.0.2 sphinxcontrib-jquery-4.1 validators-0.35.0\n"
          ]
        },
        {
          "output_type": "display_data",
          "data": {
            "application/vnd.colab-display-data+json": {
              "pip_warning": {
                "packages": [
                  "sphinxcontrib"
                ]
              },
              "id": "672723b3399a405c9f6ce0ae5a72355c"
            }
          },
          "metadata": {}
        }
      ],
      "source": [
        "!pip install pami"
      ]
    },
    {
      "cell_type": "markdown",
      "source": [
        "## Download a sample database"
      ],
      "metadata": {
        "id": "koJb4FUvi3-A"
      },
      "id": "koJb4FUvi3-A"
    },
    {
      "cell_type": "code",
      "source": [
        "!wget -nc --no-check-certificate https://github.com/UdayLab/Hands-on-Pattern-Mining/raw/main/datasets/spatiotemporal_T10I4D100K.csv"
      ],
      "metadata": {
        "colab": {
          "base_uri": "https://localhost:8080/"
        },
        "id": "D8bz5U2SjAai",
        "outputId": "54200815-f0cc-4f19-c188-cb002df41e43"
      },
      "id": "D8bz5U2SjAai",
      "execution_count": 1,
      "outputs": [
        {
          "output_type": "stream",
          "name": "stdout",
          "text": [
            "--2025-06-14 10:03:11--  https://github.com/UdayLab/Hands-on-Pattern-Mining/raw/main/datasets/spatiotemporal_T10I4D100K.csv\n",
            "Resolving github.com (github.com)... 140.82.112.3\n",
            "Connecting to github.com (github.com)|140.82.112.3|:443... connected.\n",
            "HTTP request sent, awaiting response... 302 Found\n",
            "Location: https://raw.githubusercontent.com/UdayLab/Hands-on-Pattern-Mining/main/datasets/spatiotemporal_T10I4D100K.csv [following]\n",
            "--2025-06-14 10:03:11--  https://raw.githubusercontent.com/UdayLab/Hands-on-Pattern-Mining/main/datasets/spatiotemporal_T10I4D100K.csv\n",
            "Resolving raw.githubusercontent.com (raw.githubusercontent.com)... 185.199.108.133, 185.199.109.133, 185.199.110.133, ...\n",
            "Connecting to raw.githubusercontent.com (raw.githubusercontent.com)|185.199.108.133|:443... connected.\n",
            "HTTP request sent, awaiting response... 200 OK\n",
            "Length: 8530208 (8.1M) [text/plain]\n",
            "Saving to: ‘spatiotemporal_T10I4D100K.csv’\n",
            "\n",
            "spatiotemporal_T10I 100%[===================>]   8.13M  --.-KB/s    in 0.03s   \n",
            "\n",
            "2025-06-14 10:03:11 (298 MB/s) - ‘spatiotemporal_T10I4D100K.csv’ saved [8530208/8530208]\n",
            "\n"
          ]
        }
      ]
    },
    {
      "cell_type": "markdown",
      "source": [
        "## Generating Synthetic Geo-referenced Transactional Database"
      ],
      "metadata": {
        "id": "UGMSyoSojUBF"
      },
      "id": "UGMSyoSojUBF"
    },
    {
      "cell_type": "markdown",
      "source": [
        "### Generic\n",
        "\n",
        "\n",
        "\n",
        "```python\n",
        "from PAMI.extras.syntheticDataGenerator import GeoReferentialTransactionalDatabase as db\n",
        "  \n",
        "obj = db.GeoReferentialTransactionalDatabase(\n",
        "        databaseSize=numberOfTransactions,\n",
        "        avgItemsPerTransaction=averageNumberOfItemsInATransaction,\n",
        "        numItems=totalNumberOfItems,\n",
        "        x1=lowestXaxisCoordinate,\n",
        "        y1=lowestYaxisCoordinate,\n",
        "        x2=maximalXaxisCoordinate,\n",
        "        y2=maximalYaxisCoordinate,\n",
        "        sep='\\t'\n",
        "        )\n",
        "obj.create()\n",
        "obj.save('outputFileName')\n",
        "#read the generated transactions into a dataframe\n",
        "GRTDF=obj.getTransactions()\n",
        "print('Runtime: ' + str(obj.getRuntime()))\n",
        "print('Memory (RSS): ' + str(obj.getMemoryRSS()))\n",
        "print('Memory (USS): ' + str(obj.getMemoryUSS()))\n",
        "```\n",
        "\n"
      ],
      "metadata": {
        "id": "hW_57pxdjcCh"
      },
      "id": "hW_57pxdjcCh"
    },
    {
      "cell_type": "markdown",
      "source": [
        "### Example 1"
      ],
      "metadata": {
        "id": "Ir799i2cjesT"
      },
      "id": "Ir799i2cjesT"
    },
    {
      "cell_type": "code",
      "source": [
        "from PAMI.extras.syntheticDataGenerator import GeoReferentialTransactionalDatabase as db\n",
        "\n",
        "obj = db.GeoReferentialTransactionalDatabase(\n",
        "        databaseSize=1000,\n",
        "        avgItemsPerTransaction=10,\n",
        "        numItems=1000,\n",
        "        x1=0,\n",
        "        y1=0,\n",
        "        x2=100,\n",
        "        y2=100,\n",
        "        sep='\\t'\n",
        "        )\n",
        "obj.create()\n",
        "obj.save('geoReferencedTransactionalDatabase.csv')\n",
        "#read the generated transactions into a dataframe\n",
        "GRTDF=obj.getTransactions()\n",
        "print('Runtime: ' + str(obj.getRuntime()))\n",
        "print('Memory (RSS): ' + str(obj.getMemoryRSS()))\n",
        "print('Memory (USS): ' + str(obj.getMemoryUSS()))"
      ],
      "metadata": {
        "colab": {
          "base_uri": "https://localhost:8080/"
        },
        "id": "w-AgIvTGjbRW",
        "outputId": "7895fc3a-8a5f-482a-e0a5-8e60d3713080"
      },
      "id": "w-AgIvTGjbRW",
      "execution_count": 4,
      "outputs": [
        {
          "output_type": "stream",
          "name": "stderr",
          "text": [
            "100%|██████████| 1000/1000 [00:00<00:00, 5895.65it/s]"
          ]
        },
        {
          "output_type": "stream",
          "name": "stdout",
          "text": [
            "Runtime: 0.21576833724975586\n",
            "Memory (RSS): 176660480\n",
            "Memory (USS): 155758592\n"
          ]
        },
        {
          "output_type": "stream",
          "name": "stderr",
          "text": [
            "\n"
          ]
        }
      ]
    },
    {
      "cell_type": "code",
      "source": [
        "!head geoReferencedTransactionalDatabase.csv"
      ],
      "metadata": {
        "id": "xQzwn3U95fw3",
        "outputId": "3d26ad9f-6f3a-40f6-f61b-976fa6489eaa",
        "colab": {
          "base_uri": "https://localhost:8080/"
        }
      },
      "id": "xQzwn3U95fw3",
      "execution_count": 5,
      "outputs": [
        {
          "output_type": "stream",
          "name": "stdout",
          "text": [
            "(68, 20)\t(29, 83)\t(4, 20)\t(41, 88)\t(48, 78)\t(83, 87)\t(0, 96)\t(50, 15)\t(62, 50)\n",
            "(9, 3)\t(31, 87)\t(30, 74)\t(22, 64)\t(31, 74)\t(80, 84)\t(36, 37)\t(6, 0)\t(86, 73)\n",
            "(50, 15)\t(45, 60)\t(74, 42)\t(75, 15)\t(95, 60)\t(19, 69)\t(35, 69)\t(0, 43)\t(75, 58)\t(50, 27)\t(93, 57)\t(57, 93)\t(38, 82)\t(7, 31)\n",
            "(35, 34)\t(44, 84)\t(38, 82)\t(42, 49)\t(43, 68)\t(13, 67)\t(30, 14)\t(97, 9)\t(8, 42)\t(68, 75)\t(17, 50)\t(73, 57)\t(9, 84)\n",
            "(90, 60)\t(18, 45)\t(30, 76)\t(2, 38)\t(13, 99)\t(8, 16)\t(14, 7)\t(62, 58)\t(39, 34)\n",
            "(41, 70)\t(20, 14)\t(94, 14)\t(16, 15)\t(91, 50)\t(63, 66)\t(50, 27)\t(11, 0)\t(10, 54)\n",
            "(12, 4)\t(58, 92)\t(26, 57)\t(35, 76)\t(81, 25)\t(94, 40)\t(80, 84)\t(65, 27)\t(56, 7)\t(4, 66)\n",
            "(2, 8)\t(57, 93)\t(79, 6)\t(37, 18)\t(60, 76)\t(39, 10)\t(35, 55)\t(63, 16)\t(66, 13)\t(43, 51)\t(71, 37)\t(94, 14)\n",
            "(28, 11)\t(95, 60)\t(90, 86)\t(72, 63)\t(20, 14)\t(92, 26)\t(50, 80)\t(82, 34)\t(31, 79)\t(2, 70)\t(60, 55)\t(91, 84)\t(11, 79)\t(86, 25)\n",
            "(67, 42)\t(33, 86)\t(55, 8)\t(0, 96)\t(54, 23)\t(1, 30)\t(32, 37)\t(39, 11)\t(50, 49)\n"
          ]
        }
      ]
    },
    {
      "cell_type": "markdown",
      "source": [
        "## Generating Synthetic Geo-referenced Temporal Database"
      ],
      "metadata": {
        "id": "6a4RgP7ykcxY"
      },
      "id": "6a4RgP7ykcxY"
    },
    {
      "cell_type": "markdown",
      "source": [
        "### Generic\n",
        "\n",
        "\n",
        "\n",
        "```python\n",
        "from PAMI.extras.syntheticDataGenerator import GeoReferentialTemporalDatabase as db\n",
        "  \n",
        "obj = db.GeoReferentialTemporalDatabase(\n",
        "        databaseSize=numberOfTransactions,\n",
        "        avgItemsPerTransaction=averageNumberOfItemsInATransaction,\n",
        "        numItems=totalNumberOfItems,\n",
        "        occurrenceProbabilityOfSameTimestamp=probabilityWithWhichTheNextTransactionAppearsAtTheSameTimeStamp,\n",
        "        occurrenceProbabilityToSkipSubsequentTimestamp=probabilityWithWhichTheNextTransactionSkipsTheNextTimeStamp,\n",
        "        x1=lowestXaxisCoordinate,\n",
        "        y1=lowestYaxisCoordinate,\n",
        "        x2=maximumXaxisCoordinate,\n",
        "        y2=maximumYaxisCoordinate,\n",
        "        sep='\\t'\n",
        "        )\n",
        "obj.create()\n",
        "obj.save('outputFileName')\n",
        "GRTempDF=obj.getTransactions()\n",
        "print('Runtime: ' + str(obj.getRuntime()))\n",
        "print('Memory (RSS): ' + str(obj.getMemoryRSS()))\n",
        "print('Memory (USS): ' + str(obj.getMemoryUSS()))\n",
        "```\n",
        "\n"
      ],
      "metadata": {
        "id": "-V_IiGkfklCj"
      },
      "id": "-V_IiGkfklCj"
    },
    {
      "cell_type": "markdown",
      "source": [
        "### Example 2"
      ],
      "metadata": {
        "id": "5C3iQJg6koQI"
      },
      "id": "5C3iQJg6koQI"
    },
    {
      "cell_type": "code",
      "source": [
        "from PAMI.extras.syntheticDataGenerator \\\n",
        "    import GeoReferentialTemporalDatabase as db\n",
        "\n",
        "obj = db.GeoReferentialTemporalDatabase(\n",
        "        databaseSize=1000,\n",
        "        avgItemsPerTransaction=10,\n",
        "        numItems=1000,\n",
        "        occurrenceProbabilityOfSameTimestamp=0,\n",
        "        occurrenceProbabilityToSkipSubsequentTimestamp=0,\n",
        "        x1=0,\n",
        "        y1=0,\n",
        "        x2=100,\n",
        "        y2=100,\n",
        "        sep='\\t'\n",
        "        )\n",
        "obj.create()\n",
        "obj.save('geoReferentialTemporalDatabase.csv')\n",
        "GRTempDF=obj.getTransactions()\n",
        "print('Runtime: ' + str(obj.getRuntime()))\n",
        "print('Memory (RSS): ' + str(obj.getMemoryRSS()))\n",
        "print('Memory (USS): ' + str(obj.getMemoryUSS()))"
      ],
      "metadata": {
        "colab": {
          "base_uri": "https://localhost:8080/"
        },
        "id": "4c1G8w0ekkb6",
        "outputId": "363a8c0c-7d76-450d-f2e9-f34f48a68b0e"
      },
      "id": "4c1G8w0ekkb6",
      "execution_count": 7,
      "outputs": [
        {
          "output_type": "stream",
          "name": "stderr",
          "text": [
            "100%|██████████| 1000/1000 [00:00<00:00, 6805.76it/s]"
          ]
        },
        {
          "output_type": "stream",
          "name": "stdout",
          "text": [
            "Runtime: 0.22162246704101562\n",
            "Memory (RSS): 177197056\n",
            "Memory (USS): 156307456\n"
          ]
        },
        {
          "output_type": "stream",
          "name": "stderr",
          "text": [
            "\n"
          ]
        }
      ]
    },
    {
      "cell_type": "code",
      "source": [
        "!head geoReferentialTemporalDatabase.csv"
      ],
      "metadata": {
        "id": "XBwg9Dws6BYJ",
        "outputId": "4cc0854f-a5e4-4a62-a93b-78a641cab91e",
        "colab": {
          "base_uri": "https://localhost:8080/"
        }
      },
      "id": "XBwg9Dws6BYJ",
      "execution_count": 8,
      "outputs": [
        {
          "output_type": "stream",
          "name": "stdout",
          "text": [
            "1\t(8, 98)\t(62, 44)\t(84, 51)\t(3, 51)\t(55, 83)\t(89, 33)\t(6, 88)\t(41, 19)\t(47, 41)\t(58, 37)\n",
            "2\t(84, 86)\t(75, 5)\t(29, 62)\t(16, 70)\t(61, 44)\t(55, 32)\t(13, 71)\t(6, 35)\t(52, 60)\n",
            "3\t(63, 10)\t(36, 20)\t(8, 89)\t(61, 39)\t(3, 39)\t(84, 6)\t(47, 21)\t(90, 48)\t(30, 72)\t(7, 23)\t(66, 69)\t(12, 29)\n",
            "4\t(91, 85)\t(53, 26)\t(52, 60)\t(95, 7)\t(33, 20)\t(9, 85)\t(32, 94)\t(49, 94)\t(6, 90)\n",
            "5\t(1, 0)\t(68, 20)\t(33, 20)\t(80, 9)\t(66, 66)\t(21, 40)\t(98, 15)\t(87, 0)\t(23, 31)\t(29, 1)\t(70, 71)\n",
            "6\t(78, 25)\t(12, 76)\t(63, 40)\t(89, 93)\t(28, 30)\t(15, 68)\t(26, 74)\t(54, 60)\t(3, 74)\n",
            "7\t(53, 61)\t(56, 7)\t(0, 57)\t(41, 62)\t(89, 78)\t(34, 42)\t(36, 28)\t(77, 46)\t(73, 1)\n",
            "8\t(41, 9)\t(74, 75)\t(57, 18)\t(6, 77)\t(14, 2)\t(17, 84)\t(52, 26)\t(22, 9)\t(87, 42)\n",
            "9\t(6, 88)\t(36, 82)\t(81, 71)\t(78, 35)\t(36, 33)\t(9, 70)\t(18, 71)\t(82, 29)\t(60, 93)\n",
            "10\t(87, 0)\t(44, 98)\t(97, 36)\t(90, 59)\t(64, 63)\t(19, 72)\t(16, 52)\t(35, 8)\t(99, 6)\t(19, 24)\t(22, 9)\t(53, 7)\t(51, 99)\t(83, 31)\n"
          ]
        }
      ]
    },
    {
      "cell_type": "markdown",
      "source": [
        "## Converting a Georeferenced Dataframe into a Georeferenced Transactional Database"
      ],
      "metadata": {
        "id": "WWxrCCXymdf8"
      },
      "id": "WWxrCCXymdf8"
    },
    {
      "cell_type": "markdown",
      "source": [
        "### Generic\n",
        "\n",
        "\n",
        "\n",
        "```python\n",
        "\n",
        "from PAMI.extras.convert import DF2DB as alg\n",
        "\n",
        "obj = alg.DF2DB(dataFrame)\n",
        "obj.convert2TransactionalDatabase(oFile='outputFileName.txt', condition='>=|>|<=|<|==|!=', thresholdValue=thresholdValue)\n",
        "print('Runtime: ' + str(obj.getRuntime()))\n",
        "print('Memory (RSS): ' + str(obj.getMemoryRSS()))\n",
        "print('Memory (USS): ' + str(obj.getMemoryUSS()))\n",
        "```\n",
        "\n"
      ],
      "metadata": {
        "id": "7oxhLiH0m-qK"
      },
      "id": "7oxhLiH0m-qK"
    },
    {
      "cell_type": "markdown",
      "source": [
        "### Example 3"
      ],
      "metadata": {
        "id": "OSqfgkWanCkc"
      },
      "id": "OSqfgkWanCkc"
    },
    {
      "cell_type": "code",
      "source": [
        "from PAMI.extras.convert import DF2DB as alg\n",
        "import pandas as pd\n",
        "import numpy as np\n",
        "#creating a 4 x 4 dataframe with random values\n",
        "data = np.random.randint(1, 100, size=(4, 4))\n",
        "dataFrame = pd.DataFrame(data,\n",
        "columns=['POINT(0 0)', 'POINT(0 1)',\n",
        "'POINT(0 2)', 'POINT(0 3)']\n",
        ")\n",
        "obj = alg.DF2DB(dataFrame)\n",
        "obj.convert2TransactionalDatabase(\n",
        "oFile='georeferencedTransactionalDatabase.txt',\n",
        "condition='>=', thresholdValue=36\n",
        ")\n",
        "print('Runtime: ' + str(obj.getRuntime()))\n",
        "print('Memory (RSS): ' + str(obj.getMemoryRSS()))\n",
        "print('Memory (USS): ' + str(obj.getMemoryUSS()))"
      ],
      "metadata": {
        "colab": {
          "base_uri": "https://localhost:8080/"
        },
        "id": "kt1L-C0Umj3q",
        "outputId": "8886aab9-2d0e-44b0-e669-56f8d701ac42"
      },
      "id": "kt1L-C0Umj3q",
      "execution_count": 9,
      "outputs": [
        {
          "output_type": "stream",
          "name": "stdout",
          "text": [
            "Runtime: 0.008749246597290039\n",
            "Memory (RSS): 177360896\n",
            "Memory (USS): 156696576\n"
          ]
        }
      ]
    },
    {
      "cell_type": "markdown",
      "source": [
        "## Converting a Georeferenced Dataframe into a Georeferenced Temporal Database"
      ],
      "metadata": {
        "id": "rAcb22r-psuQ"
      },
      "id": "rAcb22r-psuQ"
    },
    {
      "cell_type": "markdown",
      "source": [
        "### Generic\n",
        "\n",
        "\n",
        "\n",
        "```python\n",
        "from PAMI.extras.convert import DF2DB as alg\n",
        "\n",
        "\n",
        "#converting the database into a transactional database by\n",
        "#considering values greater than or equal to 36\n",
        "obj = alg.DF2DB(dataFrame)\n",
        "obj.convert2TemporalDatabase(oFile='outputFileName', condition='>=|>|<=|<|==|!=', thresholdValue=36)\n",
        "\n",
        "print('Runtime: ' + str(obj.getRuntime()))\n",
        "print('Memory (RSS): ' + str(obj.getMemoryRSS()))\n",
        "print('Memory (USS): ' + str(obj.getMemoryUSS()))\n",
        "```\n",
        "\n"
      ],
      "metadata": {
        "id": "VMfa4ehep2sF"
      },
      "id": "VMfa4ehep2sF"
    },
    {
      "cell_type": "markdown",
      "source": [
        "### Example 4"
      ],
      "metadata": {
        "id": "ndimpkv7p5iE"
      },
      "id": "ndimpkv7p5iE"
    },
    {
      "cell_type": "code",
      "source": [
        "from PAMI.extras.convert import DF2DB as alg\n",
        "import pandas as pd\n",
        "import numpy as np\n",
        "\n",
        "#creating a 5 x 4 dataframe with random values\n",
        "data = np.random.randint(1, 100, size=(5, 4))\n",
        "dataFrame = pd.DataFrame(data,\n",
        "             columns=['POINT(0 0)', 'POINT(0 1)',\n",
        "             'POINT(0 2)', 'POINT(0 3)']\n",
        "            )\n",
        "# Adding a timestamp column with specific values\n",
        "timestamps = [1, 3, 3, 5, 8]\n",
        "dataFrame.insert(0, 'timestamp', timestamps)\n",
        "\n",
        "#converting the database into a transactional database by\n",
        "#considering values greater than or equal to 36\n",
        "obj = alg.DF2DB(dataFrame)\n",
        "obj.convert2TemporalDatabase(\n",
        "        oFile='georeferencedTemporalDatabase.txt',\n",
        "       condition='>=', thresholdValue=36\n",
        "     )\n",
        "print('Runtime: ' + str(obj.getRuntime()))\n",
        "print('Memory (RSS): ' + str(obj.getMemoryRSS()))\n",
        "print('Memory (USS): ' + str(obj.getMemoryUSS()))"
      ],
      "metadata": {
        "colab": {
          "base_uri": "https://localhost:8080/"
        },
        "id": "xDASdnHEpxtV",
        "outputId": "94102901-326b-4c2d-83ee-94c93a148810"
      },
      "id": "xDASdnHEpxtV",
      "execution_count": 10,
      "outputs": [
        {
          "output_type": "stream",
          "name": "stdout",
          "text": [
            "Runtime: 0.00576472282409668\n",
            "Memory (RSS): 177360896\n",
            "Memory (USS): 156770304\n"
          ]
        }
      ]
    },
    {
      "cell_type": "markdown",
      "source": [
        "## Getting Statistical Details for a Geo-referenced Transactional Database"
      ],
      "metadata": {
        "id": "0zEqbScpq5hZ"
      },
      "id": "0zEqbScpq5hZ"
    },
    {
      "cell_type": "markdown",
      "source": [
        "### Generic\n",
        "\n",
        "\n",
        "```\n",
        "from PAMI.extras.dbStats import georeferencedTransactionalDatabase as stat\n",
        "\n",
        "obj = stat.georeferencedTransactionalDatabase(iFile=\"transactionalDatabase.csv\")\n",
        "obj.run()\n",
        "obj.printStats()\n",
        "obj.plotGraphs()\n",
        "obj.plotLocations()\n",
        "```\n",
        "\n"
      ],
      "metadata": {
        "id": "IjJIYsOcq7vP"
      },
      "id": "IjJIYsOcq7vP"
    },
    {
      "cell_type": "markdown",
      "source": [
        "### Example"
      ],
      "metadata": {
        "id": "2xklh1MKq9px"
      },
      "id": "2xklh1MKq9px"
    },
    {
      "cell_type": "code",
      "source": [
        "from PAMI.extras.dbStats import GeoreferencedTransactionalDatabase as stat\n",
        "\n",
        "obj = stat.GeoreferencedTransactionalDatabase(iFile=\"georeferencedTransactionalDatabase.txt\")\n",
        "obj.run()\n",
        "obj.printStats()\n",
        "obj.plotGraphs()"
      ],
      "metadata": {
        "colab": {
          "base_uri": "https://localhost:8080/",
          "height": 1000
        },
        "id": "tfe5hD25q7VG",
        "outputId": "44ceb0ff-e743-4165-db56-26f3661ec3ec"
      },
      "id": "tfe5hD25q7VG",
      "execution_count": 14,
      "outputs": [
        {
          "output_type": "stream",
          "name": "stdout",
          "text": [
            "Database size (total no of transactions) : 3\n",
            "Number of items : 4\n",
            "Minimum Transaction Size : 3\n",
            "Average Transaction Size : 3.3333333333333335\n",
            "Maximum Transaction Size : 4\n",
            "Standard Deviation Transaction Size : 0.4714045207910317\n",
            "Variance in Transaction Sizes : 0.3333333333333333\n",
            "Sparsity : 0.16666666666666666\n"
          ]
        },
        {
          "output_type": "display_data",
          "data": {
            "text/plain": [
              "<Figure size 640x480 with 1 Axes>"
            ],
            "image/png": "[encoded data removed]"
          },
          "metadata": {}
        },
        {
          "output_type": "display_data",
          "data": {
            "text/plain": [
              "<Figure size 640x480 with 1 Axes>"
            ],
            "image/png": "[encoded data removed]"
          },
          "metadata": {}
        }
      ]
    },
    {
      "cell_type": "markdown",
      "source": [
        "## Getting Statistical Details for a Geo-referenced Timeseries Database"
      ],
      "metadata": {
        "id": "sc6bbeRrvdH6"
      },
      "id": "sc6bbeRrvdH6"
    },
    {
      "cell_type": "code",
      "source": [
        "from PAMI.extras.dbStats import  GeoreferencedTemporalDatabase as stat\n",
        "\n",
        "obj = stat.GeoreferencedTemporalDatabase(iFile=\"georeferencedTemporalDatabase.txt\")\n",
        "obj.run()\n",
        "obj.printStats()\n",
        "obj.plotGraphs()"
      ],
      "metadata": {
        "id": "AjR7CDylrb2q",
        "outputId": "eb0510cb-70b3-40a9-ada7-dd8e5de3a8b0",
        "colab": {
          "base_uri": "https://localhost:8080/",
          "height": 1000
        }
      },
      "id": "AjR7CDylrb2q",
      "execution_count": 15,
      "outputs": [
        {
          "output_type": "stream",
          "name": "stdout",
          "text": [
            "Database size : 5\n",
            "Number of items : 4\n",
            "Minimum Transaction Size : 2\n",
            "Average Transaction Size : 2.6\n",
            "Maximum Transaction Size : 3\n",
            "Minimum Inter Arrival Period : 1\n",
            "Average Inter Arrival Period : 1.0\n",
            "Maximum Inter Arrival Period : 1\n",
            "Minimum periodicity : 1\n",
            "Average periodicity : 2.25\n",
            "Maximum periodicicty : 4\n",
            "Standard Deviation Transaction Size : 0.4898979485566356\n",
            "Variance : 0.3\n",
            "Sparsity : 0.35\n"
          ]
        },
        {
          "output_type": "display_data",
          "data": {
            "text/plain": [
              "<Figure size 640x480 with 1 Axes>"
            ],
            "image/png": "[encoded data removed]"
          },
          "metadata": {}
        },
        {
          "output_type": "display_data",
          "data": {
            "text/plain": [
              "<Figure size 640x480 with 1 Axes>"
            ],
            "image/png": "[encoded data removed]"
          },
          "metadata": {}
        }
      ]
    }
  ],
  "metadata": {
    "kernelspec": {
      "display_name": "Python 3",
      "language": "python",
      "name": "python3"
    },
    "language_info": {
      "codemirror_mode": {
        "name": "ipython",
        "version": 2
      },
      "file_extension": ".py",
      "mimetype": "text/x-python",
      "name": "python",
      "nbconvert_exporter": "python",
      "pygments_lexer": "ipython2",
      "version": "2.7.6"
    },
    "colab": {
      "provenance": [],
      "include_colab_link": true
    }
  },
  "nbformat": 4,
  "nbformat_minor": 5
}